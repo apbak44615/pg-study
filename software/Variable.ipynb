{
 "cells": [
  {
   "cell_type": "markdown",
   "metadata": {},
   "source": [
    "# 変数\n",
    "\n",
    "プログラムを書く時に何げなく使っている変数について深堀します。\n",
    "\n",
    "## 変数とは\n",
    "\n",
    "値を入れる「箱」というような説明がありますが、それ以外になかなかうまい説明は難しいです。  \n",
    "値を覚えておいて後で使ったり、書き換えたり、いろいろするために必要なものです。"
   ]
  },
  {
   "cell_type": "markdown",
   "metadata": {},
   "source": [
    "## 変数の目的\n",
    "\n",
    "変数というのは値を覚えておく「箱」「記憶領域」ですが、覚えておくだけでは意味がなく、後で使いたいからこそ覚えるものです。  \n",
    "後で使う予定のない値は変数にわざわざ覚えておく必要はありません。\n",
    "\n",
    "例えば以下の計算式を例にすると\n",
    "\n",
    "$$\n",
    "(2 + 3) * 4\n",
    "$$\n",
    "\n",
    "かっこの中を計算（2+3=5)してメモしておき、後で掛け算して答えを出す人がいます。\n",
    "\n",
    "$$\n",
    "(2 + 3)*4 \\\\\n",
    "2 + 3 ⇒ 5 \\\\\n",
    "5 * 4\n",
    "$$\n",
    "\n",
    "これは、2+3の結果を一時的に覚えておくための変数を用意したことにイメージは近いです。\n",
    "\n",
    "またある人は、かっこの中を分解して(2\\*4)と(3\\*4)を別々に計算してメモしておき、後で足すかもしれません。\n",
    "\n",
    "$$\n",
    "(2 + 3) * 4 \\\\\n",
    "2 * 4  \\quad 3*4 \\\\\n",
    "⇒8 \\quad ⇒12 \\\\\n",
    "8 + 12\n",
    "$$\n",
    "\n",
    "この場合、8 や 12 を覚えるために変数を2つ用意しています。\n",
    "\n",
    "暗算が得意な人は、一時的なメモなど残さず、一気に答えを出せるかもしれません。  \n",
    "そのような人には、この程度の計算で変数は必要ありません（頭の中では変数相当の記憶領域を作って計算してるかもしれませんが・・・）。\n",
    "\n",
    "プログラムも同じで、細かく分けて変数に代入しつつロジックを作る人もいれば、変数をほとんど使わずに書く人もいます。  \n",
    "可読性、効率化、性能、人それぞれ重視するところの違いによって変数の使い方も変わります。"
   ]
  },
  {
   "attachments": {
    "image.png": {
     "image/png": "[encoded data removed]"
    }
   },
   "cell_type": "markdown",
   "metadata": {},
   "source": [
    "## プログラム言語ごとの変数定義の違い\n",
    "\n",
    "どのようなプログラムでも変数というのは使えますが、その構文や仕様に違いがあります。\n",
    "\n",
    "- 事前定義が必要か、未定義でも使用することが出来るか\n",
    "- 変数の適用範囲（スコープ）に関する仕様の違い\n",
    "- 変数の型指定が必須か、不要か\n",
    "- 関数への引数渡しや変数同士の代入の考え方の違い（実体渡し、参照渡し）\n",
    "\n",
    "この中で、もしかしたら理解していない人がいるかもしれない、最後について詳細を記載します。\n",
    "\n",
    "### 変数におけるデータ管理の種類\n",
    "\n",
    "#### 1) 変数自身が実体を持つ\n",
    "\n",
    "![image.png](attachment:image.png)\n",
    "\n",
    "例）java\n",
    "\n",
    "```java\n",
    "int a = 1;\n",
    "int b = 2;\n",
    "```\n",
    "\n",
    "aとbは独立したメモリ領域を持っており、そのメモリ領域に実際の値自体が入っている。  \n",
    "各言語におけるプリミティブ型はほとんどがこの管理方法。"
   ]
  },
  {
   "attachments": {
    "image.png": {
     "image/png": "[encoded data removed]"
    }
   },
   "cell_type": "markdown",
   "metadata": {},
   "source": [
    "#### 2) 変数は参照を持つ\n",
    "\n",
    "\n",
    "![image.png](attachment:image.png)\n",
    "\n",
    "例）java\n",
    "\n",
    "```java\n",
    "Integer a = 1;\n",
    "Integer b = 2;\n",
    "Integer c = b;\n",
    "```\n",
    "\n",
    "a, b, c は独立したメモリ領域を持っているが、そのメモリ領域は変数実体への参照を格納している。\n",
    "\n",
    "- 変数への代入は参照先を変更する行為\n",
    "- 参照先の操作によって、別の変数が参照している内容も変わることがある"
   ]
  },
  {
   "attachments": {
    "image.png": {
     "image/png": "[encoded data removed]"
    }
   },
   "cell_type": "markdown",
   "metadata": {},
   "source": [
    "#### 3) 変数名がエイリアス\n",
    "\n",
    "![image.png](attachment:image.png)\n",
    "\n",
    "例）c++\n",
    "\n",
    "```c++\n",
    "int a = 1;\n",
    "int& b = a;\n",
    "int* c = new int(2);\n",
    "int*& d = c;\n",
    "```\n",
    "\n",
    "複数の変数が同じメモリ領域を示している。  \n",
    "変数に別名が付けられているのと同じ効果であり、どちらかの変数への代入によって両方の値が変わる。\n",
    "\n",
    "VBAの `ByRef` による引数渡しも同じ管理。"
   ]
  },
  {
   "attachments": {
    "image.png": {
     "image/png": "[encoded data removed]"
    }
   },
   "cell_type": "markdown",
   "metadata": {},
   "source": [
    "## 関数呼び出しによる変数の受け渡し\n",
    "\n",
    "どのようなプログラム言語でも、関数のように別定義された一連の処理を呼び出す方法が用意されてます。  \n",
    "この関数にはいくつかパラメータを渡すこともでき、その先の関数では変数としてその内容を受け取ります。\n",
    "\n",
    "- 例) java\n",
    "\n",
    "```java\n",
    "public int max(int a, int b) {\n",
    "    return a > b ? a: b;\n",
    "}\n",
    "```\n",
    "\n",
    "- 例) c言語\n",
    "\n",
    "```c\n",
    "int max(int a, int b)\n",
    "{\n",
    "    return a > b ? a: b;\n",
    "}\n",
    "```\n",
    "\n",
    "- 例) python\n",
    "\n",
    "```python\n",
    "def max(a, b):\n",
    "    return a if a > b else b\n",
    "```\n",
    "\n",
    "- 例) VBA\n",
    "\n",
    "```vbscript\n",
    "Function max(a as Integer, b as Integer)\n",
    "    max = IIf(a > b, a, b)\n",
    "End Function\n",
    "```\n",
    "\n",
    "上記に共通していることは、関数として受け取りたいパラメータに変数を定義していることです。\n",
    "\n",
    "この変数は、関数が呼び出された時に初めてメモリ領域が確保され、呼び出し元で指定した引数がそのメモリ領域にコピーされます。\n",
    "\n",
    "![image.png](attachment:image.png)"
   ]
  },
  {
   "cell_type": "markdown",
   "metadata": {},
   "source": [
    "よく、関数の再帰呼び出しで躓く人がいますが、そのような人は上記の仕組みを理解できていないことが起因していることも多いです。\n",
    "\n",
    "- 例) java で $n!$ を処理する関数\n",
    "\n",
    "```java\n",
    "int fact(int n) {\n",
    "    return n > 1 ? n * fact(n - 1): 1;\n",
    "}\n",
    "```\n",
    "\n",
    "上記メソッドを、例えば `fact(5)` のように $5!$ を計算するとします。\n",
    "\n",
    "```java\n",
    "fact(5);\n",
    "↓\n",
    "int fact(int n) {← n に 5 が渡ってくる\n",
    "  return n > 1 ?\n",
    "    n * fact(n - 1): 1;\n",
    "}       ↓\n",
    "        ↓\n",
    "    int fact(int n) { ← n に 4 が渡ってくる\n",
    "      return n > 1 ?\n",
    "        n * fact(n - 1): 1;\n",
    "    }\n",
    "```\n",
    "\n",
    "factの中でさらにfactを呼び出していますが、プログラム上は同じ `n` という変数名を使っていても、上記の1回目と2回目の fact では、`n`が示すメモリ領域は別となっています。  \n",
    "変数名が同じだからといって、同じメモリ領域だとは限らないことを理解しないといけません。"
   ]
  },
  {
   "cell_type": "markdown",
   "metadata": {},
   "source": [
    "逆に、言語によっては以下のような記載も出来ます。\n",
    "\n",
    "- 例） c++\n",
    "\n",
    "```c++\n",
    "void floor(double& a)\n",
    "{\n",
    "    a = (int)a;\n",
    "}\n",
    "\n",
    "double b = 3.4;\n",
    "floor(b);\n",
    "// bが3.0になる\n",
    "```\n",
    "\n",
    "- 例） VBA\n",
    "\n",
    "```vbscript\n",
    "Sub floor(ByRef a As Double)\n",
    "    a = CDbl(CInt(a))\n",
    "End Sub\n",
    "\n",
    "Dim b As Double\n",
    "b = 3.4\n",
    "floor b\n",
    "' bが3.0になる\n",
    "```\n",
    "\n",
    "上記は変数の参照渡しにより、別名の変数であっても同じメモリ領域を共有することで、値の変更が相互に反映されています。\n",
    "\n",
    "このように、変数名だけで同じメモリを共有しているわけではありません。  \n",
    "これら特性をよく理解しないと、正しいプログラムが書けません。"
   ]
  },
  {
   "cell_type": "markdown",
   "metadata": {},
   "source": [
    "## C言語の鬼門ポインタ\n",
    "\n",
    "CやC++で、ポインタの概念が理解できずに苦労している人をよく見かけます。  \n",
    "ポインタの概念は、前述した「**2) 変数は参照を持つ**」という管理方法を実現しているものです。\n",
    "\n",
    "ポインタが難しいという原因としては、この参照という概念が分からないというよりも、メモリを割り当てたら解放を行わないといけないという、メモリ管理の煩雑さの方を理由としている人も多いのではないでしょうか？\n",
    "\n",
    "ここではメモリ管理のことは置いておいて、ポインタ変数についての特性を記載します。"
   ]
  },
  {
   "attachments": {
    "image.png": {
     "image/png": "[encoded data removed]"
    }
   },
   "cell_type": "markdown",
   "metadata": {},
   "source": [
    "よく使う char 配列を例にします。\n",
    "\n",
    "```c++\n",
    "char buf[10];\n",
    "char* ptr = buf;\n",
    "```\n",
    "\n",
    "これをメモリイメージで図示すると以下のようになります。\n",
    "\n",
    "![image.png](attachment:image.png)\n",
    "\n",
    "`buf`は char型10個の配列をメモリとして確保し、`buf`という変数名はその配列の先頭アドレスを示す意味となります。  \n",
    "その`buf`を代入した`ptr`はポインタ型ですが、参照先のアドレスを保持するためのメモリを確保し、そのメモリに実体として参照する `buf` と同じアドレスが入ります。\n",
    "\n",
    "配列`buf`とポインタ`ptr`の大きな違いは、`ptr`の方は参照先となる実体のアドレスを保持するためのメモリが割り当てられますが、配列`buf`の方にはありません。\n",
    "\n",
    "どちらも、配列の実体にアクセスする際には、同じような記述が可能です。\n",
    "\n",
    "```c++\n",
    "buf[1] == ptr[1];\n",
    "int x = 3;\n",
    "buf[x] == ptr[x];\n",
    "```"
   ]
  },
  {
   "attachments": {
    "image.png": {
     "image/png": "[encoded data removed]"
    }
   },
   "cell_type": "markdown",
   "metadata": {},
   "source": [
    "上記の2つの変数の大きな違いとしては、`ptr`の方は実体を参照するためのメモリが確保されていることから、その中身を変えることが出来ます。  \n",
    "具体的には以下のような記載が可能です。\n",
    "\n",
    "```c++\n",
    "ptr++;\n",
    "```\n",
    "\n",
    "上記によって、`ptr`が保持していた参照先アドレスが、参照先アドレス+1 と変更されます。\n",
    "\n",
    "![image.png](attachment:image.png)\n",
    "\n",
    "このように、`ptr`は`buf + 1`を参照先になるように変更されました。  \n",
    "配列として定義した`buf`では、このようなアドレス変更の計算は出来ません。\n"
   ]
  },
  {
   "attachments": {
    "image.png": {
     "image/png": "[encoded data removed]"
    }
   },
   "cell_type": "markdown",
   "metadata": {},
   "source": [
    "上記のように `ptr = buf + 1` となった状態で、変数を使った記述は以下のように解釈されます。\n",
    "\n",
    "![image.png](attachment:image.png)\n",
    "\n",
    "上と下で分けていますが、上の段は参照先アドレスを示すものであって、配列の中身を示すものではありません。  \n",
    "下の段は、配列の実体となるメモリ（箱）を示しており、Readとして利用すると配列の中身を返し、Writeとして代入すると配列の中身を変更する操作となります。\n",
    "\n",
    "```c++\n",
    "char ch = buf[2]; // Read\n",
    "buf[2] = 'A';     // Write\n",
    "```\n",
    "\n",
    "下の段はメモリの箱を示すものであるため代入は出来ますが、上の段は単なる計算したアドレスでありメモリとして書き込むための箱を持っていないため代入は出来ません。\n",
    "\n",
    "```c++\n",
    "ptr + 1 = buf;  // 代入はできない\n",
    "&ptr[1] = buf;  // 代入はできない\n",
    "```"
   ]
  },
  {
   "attachments": {
    "image.png": {
     "image/png": "[encoded data removed]"
    }
   },
   "cell_type": "markdown",
   "metadata": {},
   "source": [
    "### 2重ポインタ\n",
    "\n",
    "1つのポインタなら大丈夫でも、以下のように `**` と2つになると分からなくなる人もいるかもしれません。\n",
    "\n",
    "```c++\n",
    "char buf[10];\n",
    "char* ptr = buf;\n",
    "char** ptr2 = &ptr;\n",
    "```\n",
    "\n",
    "`ptr2`という2重ポインタが出てきましたが、そのメモリイメージを図示すると以下となります。\n",
    "\n",
    "![image.png](attachment:image.png)\n",
    "\n",
    "`ptr2`には、`char *` を参照するためのメモリが確保され、そこに参照先である `char* ptr` のメモリエリアを示すアドレスが入ります。  \n",
    "以下のように `ptr2`を経由して参照先を更新することで、`ptr`の変数も変更されます。\n",
    "\n",
    "```c++\n",
    "*ptr2 = buf + 1;\n",
    "// 上記により ptr = buf + 1 となる\n",
    "```\n",
    "\n",
    "`ptr2`経由で配列の中身にアクセスする際には、以下のような記述を行います。\n",
    "\n",
    "```\n",
    "char ch1 = **ptr2;\n",
    "char ch2 = (*ptr2)[1];\n",
    "char ch3 = *((*ptr2) + 2);\n",
    "\n",
    "**ptr2 = 'A';\n",
    "(*ptr2)[1] = 'B';\n",
    "*((*ptr2) + 2) = 'C';\n",
    "```\n",
    "\n",
    "`*ptr2`によって`ptr`と同じように `char*`型となり、それに続けてさらに `[1]` のような配列指定したり、先頭に `*` を付けたりすることで `char` の実体であるメモリの箱を示すことになります。\n",
    "\n",
    "ポインタとは、参照先となるアドレスを保持するための変数であり、その変数を経由して間接的に実体のメモリへアクセスできるようになる感覚を理解できればポインタを使いこなせるようになります。"
   ]
  }
 ],
 "metadata": {
  "kernelspec": {
   "display_name": "Java",
   "language": "java",
   "name": "java"
  },
  "language_info": {
   "codemirror_mode": "java",
   "file_extension": ".jshell",
   "mimetype": "text/x-java-source",
   "name": "Java",
   "pygments_lexer": "java",
   "version": "11.0.6+10-LTS"
  }
 },
 "nbformat": 4,
 "nbformat_minor": 2
}
