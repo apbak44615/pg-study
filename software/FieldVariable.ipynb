{
 "cells": [
  {
   "cell_type": "markdown",
   "metadata": {},
   "source": [
    "# 構造体やクラスの変数\n",
    "\n",
    "ここでは、いくつかの変数をまとめることのできる構造体やクラスの変数について説明します。"
   ]
  },
  {
   "cell_type": "markdown",
   "metadata": {},
   "source": [
    "## 変数の型の種類\n",
    "\n",
    "各プログラミング言語で扱える変数の型としては大きく以下の2つがあります。\n",
    "\n",
    "- プリミティブ型\n",
    "- プリミティブ型以外\n",
    "\n",
    "プリミティブ型とは、プログラミング言語に組み込み済みの数値や文字列（一部言語では文字列もプリミティブではないこともある）の型です。  \n",
    "主に以下のようなものがあります。\n",
    "\n",
    "### プリミティブ型\n",
    "\n",
    "- 整数型\n",
    "  - javaやC++：short / int / long\n",
    "  - VBA： Short / Integer / Long\n",
    "  - C++：char\n",
    "  - 符号なし整数。C++：unsigned int、VBA：ULong など\n",
    "- 浮動小数点型\n",
    "  - javaやC++：float / double\n",
    "  - VBA: Double\n",
    "- 10進数型\n",
    "  - VBA：Decimal\n",
    "\n",
    "### 構造体やクラス\n",
    "\n",
    "ほとんどのプログラム言語には、複数の変数をまとめて定義できる構造体やクラスの概念があります。\n",
    "\n",
    "**例として平面座標の `(x, y)` を管理する構造体やクラスの定義は以下となります。**\n",
    "\n",
    "例）java\n",
    "\n",
    "```java\n",
    "public class MyPoint {\n",
    "    public double x;\n",
    "    public double y;\n",
    "}\n",
    "```\n",
    "\n",
    "例）C/C++\n",
    "\n",
    "```c++\n",
    "struct MyPoint {\n",
    "    double x;\n",
    "    double y;\n",
    "};\n",
    "```\n",
    "\n",
    "例）VBA\n",
    "\n",
    "```vbscript\n",
    "Public Type MyPoint\n",
    "    x As Double\n",
    "    y As Double\n",
    "End Type\n",
    "```\n",
    "\n",
    "プログラムを作っていると、このように新しいデータ構造として構造体やクラスを使う場面が出てきます。  \n",
    "次からは、これら構造体はクラスの仕組みを説明します。"
   ]
  },
  {
   "attachments": {
    "image.png": {
     "image/png": "[encoded data removed]"
    }
   },
   "cell_type": "markdown",
   "metadata": {},
   "source": [
    "## 構造体やクラスのメモリ管理\n",
    "\n",
    "構造体やクラスをプログラム内で使うと、その定義の中に含まれているすべての変数分のメモリが必要となります。\n",
    "\n",
    "前述の `MyPoint` の例では、double型の x, y 2つ分のメモリが最低限必要となります。\n",
    "\n",
    "![image.png](attachment:image.png)\n",
    "\n",
    "おおむね `double[2]` と同等のメモリが必要です。\n",
    "\n",
    "また、プログラミング言語によっては、構造体やクラスに関連する情報や、後述するアライメントにより、もっとメモリを使うかもしれません。  \n",
    "メモリをより使う可能性があるからといって、構造体やクラスを使わない方がいいと言っているわけではなく、より効率的で見やすいプログラムを作るためにも積極的に使うべきです。"
   ]
  },
  {
   "attachments": {
    "image.png": {
     "image/png": "[encoded data removed]"
    }
   },
   "cell_type": "markdown",
   "metadata": {},
   "source": [
    "### static変数\n",
    "\n",
    "いくつかのプログラム言語では、クラスの中に static 変数を記述できます。\n",
    "\n",
    "例）java\n",
    "\n",
    "```java\n",
    "public class MyPoint {\n",
    "    public static int count;\n",
    "    public double x;\n",
    "    public double y;\n",
    "}\n",
    "```\n",
    "\n",
    "例）C/C++\n",
    "\n",
    "```c++\n",
    "struct MyPoint {\n",
    "    static int count;\n",
    "    double x;\n",
    "    double y;\n",
    "};\n",
    "```\n",
    "\n",
    "上記のような static 変数は、この構造体のメモリサイズには含まれず、グローバル変数のように別途変数用のメモリエリアが作成されます。\n",
    "\n",
    "![image.png](attachment:image.png)\n",
    "\n",
    "構造体の中に新たに `static int count` という変数が増えていますが、static変数が増えただけでは構造体が必要とするメモリサイズは変化しません。  \n",
    "`static`が付いていない普通の変数は、この構造体/クラスが定義されるたびにメモリ確保される部分であり、別変数であれば別の値を持つことが出来ます。  \n",
    "しかし `static` 変数は、構造体/クラスをいくつ作っても、あるいはまったく作らなくても、共有のものとして1つだけ存在します。\n",
    "\n",
    "このように、`static`のついていない変数は、構造体/クラスが作られる（インスタンス化される）たびにメモリを確保するため、インスタンス変数と呼ばれることがあります。  \n",
    "逆に、`static`のついている変数は、static変数やクラス変数と呼ばれます。"
   ]
  },
  {
   "attachments": {
    "image.png": {
     "image/png": "[encoded data removed]"
    }
   },
   "cell_type": "markdown",
   "metadata": {},
   "source": [
    "## C/C++でのアライメント\n",
    "\n",
    "C/C++のプリミティブ型は、それぞれで必要なメモリサイズが異なります。\n",
    "\n",
    "|型|バイト数|\n",
    "|---|---|\n",
    "|char|1|\n",
    "|short|2|\n",
    "|int|4|\n",
    "|long|8|\n",
    "|float|4|\n",
    "|double|8|\n",
    "\n",
    "それぞれの型の変数がメモリ上に配置される際には、必ず上記のバイト数の倍数のアドレスとなります。\n",
    "\n",
    "![image.png](attachment:image.png)\n",
    "\n",
    "`char`であれば、1バイトのためどのアドレスでも問題ありませんが、`int`の4バイトだと、必ず4の倍数のアドレスに変数を配置する必要があります。  \n",
    "このアライメントは、定義した構造体の大きさを決めることになります。"
   ]
  },
  {
   "attachments": {
    "image.png": {
     "image/png": "[encoded data removed]"
    }
   },
   "cell_type": "markdown",
   "metadata": {},
   "source": [
    "### 構造体でのアライメント\n",
    "\n",
    "例えば、以下の2つの構造体定義があったとします。\n",
    "\n",
    "```c++\n",
    "struct MyData1 {\n",
    "    char a;\n",
    "    short b;\n",
    "    char c;\n",
    "    int d;\n",
    "    long e;\n",
    "};\n",
    "\n",
    "struct MyData2 {\n",
    "    char a;\n",
    "    char c;\n",
    "    short b;\n",
    "    int d;\n",
    "    long e;\n",
    "};\n",
    "```\n",
    "\n",
    "両社の違いは、`b` と `c` の定義順だけです。  \n",
    "これによって、各構造体の大きさは以下のように変わります。\n",
    "\n",
    "![image.png](attachment:image.png)\n",
    "\n",
    "構造体内に定義している各変数の型が必要としているバイト数があり、各変数は必要バイト数の倍数になる位置にメモリ配置されるように調整されます。  \n",
    "このように、変数が型に応じた正しい位置へ配置されるように調整されることをアライメントといいます。\n",
    "\n",
    "このようなアライメントは、構造体やクラスで発生するだけではなく、関数内の変数定義（オート変数）でも発生します。\n",
    "\n",
    "```c++\n",
    "void myfunc() {\n",
    "    char a;  // どのアドレスでもOK\n",
    "    short b; // 2の倍数アドレスに配置\n",
    "    int c;   // 4の倍数アドレスに配置\n",
    "    long d;  // 8の倍数アドレスに配置\n",
    "}\n",
    "```\n",
    "\n",
    "ただ、オート変数については、コンパイラが最適化のために、無駄なメモリが発生しないように入れ替えているかもしれません。"
   ]
  },
  {
   "cell_type": "markdown",
   "metadata": {},
   "source": [
    "### アライメントずれによるバスエラー\n",
    "\n",
    "C/C++言語では、ポインタを利用することで、このアライメントを無視したコーディングは可能です。\n",
    "\n",
    "```c++\n",
    "void myfunc() {\n",
    "    char buf[256];\n",
    "    long* v = (long*)(buf + 3);  // 本来8の倍数にしないとならないが、キャストで強引に倍数からずらしている\n",
    "    \n",
    "    *v = 100;\n",
    "}\n",
    "```\n",
    "\n",
    "上記は、本来 long なら8の倍数のアドレスに配置したメモリを使わないとならないですが、キャストを使って強引にずらしています。  \n",
    "一部のCPUでは、このようなアライメントのずれたアクセスをすると「バスエラー」でコアダンプすることもあります。  \n",
    "\n",
    "なぜアライメントが必要かというと、一般的なCPUの実装として、メモリアクセスにおいて 8bit, 16bit, 32bit, 64bit ごとに読み書き用の命令が異なっており、それら命令をアライメントに従った倍数アドレス以外で行うとバスエラーになるというものがあるからです。  \n",
    "メモリ読み書きは、バスを経由してCPUとメモリがやり取りすることになりますが、16bitの情報を1回でやり取りするには16bitの倍数アドレス、32bitの情報を1回でやり取りするには32bitの倍数アドレスという実装となっており、それが守られていないとバス上でエラーが発生してしまいます。\n",
    "\n",
    "もちろん、CPUによってはこのような現象が発生しないものがあります。  \n",
    "ただ、効率よい実行を行うためにも、アライメントを守ったプログラミングが望ましいです。"
   ]
  }
 ],
 "metadata": {
  "kernelspec": {
   "display_name": "Java",
   "language": "java",
   "name": "java"
  },
  "language_info": {
   "codemirror_mode": "java",
   "file_extension": ".jshell",
   "mimetype": "text/x-java-source",
   "name": "Java",
   "pygments_lexer": "java",
   "version": "11.0.6+10-LTS"
  }
 },
 "nbformat": 4,
 "nbformat_minor": 2
}
