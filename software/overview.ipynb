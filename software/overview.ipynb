{
 "cells": [
  {
   "cell_type": "markdown",
   "metadata": {},
   "source": [
    "# ソフトウェアの仕組みを極める\n",
    "\n",
    "ここでは、普段何気なく書いているプログラムにはどのような意味があるのか、どのような仕組みで動いているのかを紐解いていきます。\n",
    "\n",
    "1. [変数](Variable.ipynb)  \n",
    "どのようなプログラム言語でも用意されている変数について深堀します\n",
    "2. [構造体とクラスの変数](FieldVariable.ipynb)  \n",
    "C/C++等で用意されている構造体、様々な言語でサポートされているクラスの中で定義できる変数の機能について説明します\n",
    "3. [関数とクラスの関数](Function.ipynb)  \n",
    "一連の処理を記述できる関数について、クラス内に定義する関数も含めて説明します\n",
    "4. [クラスの仕組み](Class.ipynb)  \n",
    "クラス定義をサポートしている言語における、クラスの概念や動作の仕組みを説明します\n",
    "5. [コンパイラの仕組み](Compiler.ipynb)  \n",
    "C/C++やJavaのようなコンパイラ言語について説明します\n",
    "6. [インタプリタの仕組み](Interpreter.ipynb)  \n",
    "シェルやpythonのようなインタプリタ言語について説明します\n",
    "7. [プロセスの内容](Process.ipynb)  \n",
    "プログラムが実行中のプロセスやスレッドについて説明します\n",
    "\n",
    "\n",
    "新しいプログラム言語や新しい文法を覚える際に、「なんでこんな書き方させるんだろう？」「こう書いたらどう動きが変わるんだろう」という疑問が湧いた時に、このような仕組みをイメージして読み解くと理解が進みます。"
   ]
  }
 ],
 "metadata": {
  "kernelspec": {
   "display_name": "Java",
   "language": "java",
   "name": "java"
  },
  "language_info": {
   "codemirror_mode": "java",
   "file_extension": ".jshell",
   "mimetype": "text/x-java-source",
   "name": "Java",
   "pygments_lexer": "java",
   "version": "11.0.6+10-LTS"
  }
 },
 "nbformat": 4,
 "nbformat_minor": 2
}
