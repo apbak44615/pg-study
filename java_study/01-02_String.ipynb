{
 "cells": [
  {
   "cell_type": "markdown",
   "metadata": {},
   "source": [
    "# 文字列操作　\n",
    "## 1.調査系\n",
    "主なメソッドの使用例\n",
    "\n",
    "|メソッド|内容|\n",
    "|:---|:---|\n",
    "|equals|文字列の内容が等しいかどうかチェックする|\n",
    "|equalsIgnoreCase|大文字小文字区別せずに等しいかどうかチェックする|\n",
    "|length|文字数を返却する|\n",
    "|isEmpty|中身が空かどうかチェックする|\n",
    "\n",
    "\n",
    "### 文字同士の比較(equals、equalsIgnoreCase) "
   ]
  },
  {
   "cell_type": "code",
   "execution_count": null,
   "metadata": {},
   "outputs": [],
   "source": [
    "// -------例1-1--------\n",
    "\n",
    "String str1 = \"Hello\";\n",
    "\n",
    "// equals\n",
    "if (str1.equals(\"Hello\")) {\n",
    "    System.out.println(\"str1はHelloです\"); \n",
    "} else {\n",
    "    System.out.println(\"str1はHelloではありません\"); \n",
    "}\n",
    "\n",
    "// equalsIgnoreCase\n",
    "if (str1.equalsIgnoreCase(\"HELLO\")) {\n",
    "    System.out.println(\"str1はHELLOです\"); \n",
    "} else {\n",
    "    System.out.println(\"str1はHELLOではありません\"); \n",
    "}"
   ]
  },
  {
   "cell_type": "markdown",
   "metadata": {},
   "source": [
    "### 文字の長さ(length) "
   ]
  },
  {
   "cell_type": "code",
   "execution_count": null,
   "metadata": {},
   "outputs": [],
   "source": [
    "// -------例1-2--------\n",
    "int ln = str1.length();  // 例1で使用したstr1を確認\n",
    "System.out.println(str1 + \"が格納されたstr1の文字の長さ：\" + ln); "
   ]
  },
  {
   "cell_type": "markdown",
   "metadata": {},
   "source": [
    "### 文字の空チェック(isEmpty) \n",
    "文字列のlengthが0の場合にtrueを返却します。  "
   ]
  },
  {
   "cell_type": "code",
   "execution_count": null,
   "metadata": {},
   "outputs": [],
   "source": [
    "// -------例1-3--------\n",
    "if (str1.isEmpty()) {   // 例1で使用したstr1を確認\n",
    "    System.out.println(\"str1は空です\"); \n",
    "} else {\n",
    "    System.out.println(\"str1は空ではありません\"); \n",
    "}\n",
    "\n",
    "String str2 = \"\";\n",
    "if (str2.isEmpty()) {   \n",
    "    System.out.println(\"str2は空です\"); \n",
    "} else {\n",
    "    System.out.println(\"str2は空ではありません\"); \n",
    "}\n"
   ]
  },
  {
   "cell_type": "markdown",
   "metadata": {},
   "source": [
    "## 2.検索系\n",
    "主なメソッドの使用例\n",
    "\n",
    "|メソッド|内容|\n",
    "|:---|:---|\n",
    "|contains|文字列が含まれているかどうかチェックする|\n",
    "|startsWith|指定した文字列で始まっているかどうかチェックする|\n",
    "|endsWith|指定して文字列で終わっているかどうかチェックする|\n",
    "|indexOf|指定した文字列が先頭から検索していき、何文字目にあるか返却する|\n",
    "|lasIndexOf|指定した文字列が最後尾から検索していき、先頭から何文字目か返却する|\n"
   ]
  },
  {
   "cell_type": "code",
   "execution_count": null,
   "metadata": {},
   "outputs": [],
   "source": [
    "// -------例2-1--------\n",
    "String str2 = \"abc123abc\";\n",
    "System.out.println(\"------str2の値：\" + str2 +\"------\");\n",
    "\n",
    "// contains 文字列が含まれているかどうかチェックする\n",
    "System.out.println(\"str2には1が含まれている：\" + str2.contains(\"1\"));\n",
    "System.out.println(\"str2にはxが含まれている：\" + str2.contains(\"x\"));\n",
    "\n",
    "// startsWith 指定した文字列で始まっているかどうかチェックする\n",
    "System.out.println(\"str2はaで始まっている：\" + str2.startsWith(\"a\"));\n",
    "System.out.println(\"str2は1で始まっている：\" + str2.startsWith(\"1\"));\n",
    "\n",
    "// endsWith 指定して文字列で終わっているかどうかチェックする\n",
    "System.out.println(\"str2はcで終わっている：\" + str2.endsWith(\"c\"));\n",
    "System.out.println(\"str2は2で終わっている：\" + str2.endsWith(\"2\"));\n",
    "\n",
    "// indexOf 指定した文字列が先頭から検索していき、何文字目にあるか返却する\n",
    "System.out.println(\"str2の中のaは先頭から検索していき何文字目：\" + str2.indexOf(\"a\")); // 2箇所あるうちの前が見つかる\n",
    "System.out.println(\"str2の中のxは先頭から検索していき何文字目：\" + str2.indexOf(\"x\")); // 存在しない値\n",
    "\n",
    "// lasIndexOf 指定した文字列が最後尾から検索していき、先頭から何文字目か返却する\n",
    "System.out.println(\"str2の中のaは最後尾から検索していき、先頭から何文字目：\" + str2.lastIndexOf(\"a\")); // 2箇所あるうちの後ろが見つかる\n",
    "System.out.println(\"str2の中のxは最後尾から検索していき、先頭から何文字目：\" + str2.lastIndexOf(\"x\")); // 存在しない値\n"
   ]
  },
  {
   "cell_type": "markdown",
   "metadata": {},
   "source": [
    "## 3.切出系\n",
    "主なメソッドの使用例\n",
    "\n",
    "|メソッド|内容|\n",
    "|:---|:---|\n",
    "|charAt|定位置の1文字だけを取り出す|\n",
    "|substring|指定位置から指定位置までの文字列を取り出す|\n",
    "\n",
    "## 問題\n",
    "それぞれのメソッドを使った文字列操作を行ってみましょう"
   ]
  },
  {
   "cell_type": "code",
   "execution_count": null,
   "metadata": {},
   "outputs": [],
   "source": [
    "// 切り出し系の動作確認\n",
    "//String str3 = \"abc123abc\";\n",
    "\n",
    "// 切り出し"
   ]
  },
  {
   "cell_type": "markdown",
   "metadata": {},
   "source": [
    "## 4.変換系    \n",
    "|メソッド|内容|\n",
    "|:---|:---|\n",
    "|toLowerCase|大文字を小文字に変換する|\n",
    "|toUpperCase|小文字を大文字に変換する|\n",
    "|trim|先頭と末尾にある半角スペースやタブを除去する|\n",
    "|replace|指定文字を指定文字に変換する|\n",
    "\n",
    "## 問題\n",
    "それぞれのメソッドを使った文字列操作を行ってみましょう"
   ]
  },
  {
   "cell_type": "code",
   "execution_count": null,
   "metadata": {},
   "outputs": [],
   "source": [
    "// 変換系の動作確認\n",
    "String str3 = \"   ABC123ABC\";\n",
    "String str4 = \"ABC123ABC\";"
   ]
  },
  {
   "cell_type": "markdown",
   "metadata": {},
   "source": [
    "## 5.整形系\n",
    "String.format()やSystem.out.printf()で書式を設定することができます。  \n",
    "\n",
    "|型|概要|\n",
    "|:---|:---|\n",
    "|b、B|ブール値|\n",
    "|h、H|ハッシュコードを16進数に変換|\n",
    "|s、S|文字列|\n",
    "|c、C|Unicode文字|\n",
    "|d|10進整数|\n",
    "|o|8進整数|\n",
    "|x、X|16進整数|\n",
    "|e、E|浮動小数点数形式の10進数|\n",
    "|f|10進小数点数|\n",
    "|t、T|日付／時刻変換文字の接頭辞|\n",
    "|%|リテラル%（u0025）|\n",
    "|n|プラットフォーム固有の行区切り文字|\n"
   ]
  },
  {
   "cell_type": "code",
   "execution_count": null,
   "metadata": {},
   "outputs": [],
   "source": [
    "String str = \"samples\";\n",
    "System.out.println(String.format(\"値は「%s」です。\", str));\n",
    "System.out.println(String.format(\"値は「%10s」です。\", str));  // 空白を入れたい場合「%[桁数][型]」\n",
    "System.out.println(String.format(\"値は「%-10s」です。\", str)); // 後ろ側に空白を入れたい場合「%-[桁数][型]」\n",
    "System.out.println(String.format(\"値は「%.2s」です。\", str)); \n",
    "\n",
    "System.out.println(String.format(\"%dを8進数で表示すると：%o\", 10 , 10));\n",
    "System.out.println(String.format(\"カンマ区切り表示：%,d\", 123456789));\n",
    "System.out.println(String.format(\"円周率：%f\", 3.1415));"
   ]
  },
  {
   "cell_type": "markdown",
   "metadata": {},
   "source": [
    "## 6.文字列連結\n",
    "Stringの文字列の連結を＋でする場合を見ていきましょう。"
   ]
  },
  {
   "cell_type": "code",
   "execution_count": null,
   "metadata": {},
   "outputs": [],
   "source": [
    "// Stringを＋で文字連結をする場合\n",
    "String str = \"Hello. I am \";\n",
    "str = str + \"Lucy\";\n",
    " \n",
    "System.out.println(str);"
   ]
  },
  {
   "cell_type": "markdown",
   "metadata": {},
   "source": [
    "このように結合する個数が少なく明確になっているような場合は、  \n",
    "文字列を＋で結合しても問題ありません。  \n",
    "`System.out.println(\"data:\" + data)`のように使ったりもしますよね。    "
   ]
  },
  {
   "cell_type": "code",
   "execution_count": null,
   "metadata": {},
   "outputs": [],
   "source": [
    "// Stringを＋で文字連結をする場合(複数)\n",
    "String resultStr = \"Water\";\n",
    "String[] strList = {\"Coffee\",\"Tea\",\"Juice\"};\n",
    "\n",
    "for(String str : strList){\n",
    "    resultStr += str;\n",
    "}\n",
    " \n",
    "System.out.println(resultStr);"
   ]
  },
  {
   "cell_type": "markdown",
   "metadata": {},
   "source": [
    "上記のように結合する個数が不明な場合はループしながら＋で結合しています。  \n",
    "一見Stringインスタンスには中身をループしながら文字を追加しているように見えます。  \n",
    "しかし実際は下記のようなことが起きています。　\n",
    "\n",
    "<img src=\"./image/string.png\">  \n",
    "\n",
    "Waterという文字列情報を持ったStiringインスタンスが大きくなり、  \n",
    "“WaterCoffeeTeaJuiceWine”という情報を持つということはありません。  \n",
    "\n",
    "＋連結が行われた場合は、古いインスタンスは捨てられ  \n",
    "連結後の情報を持つ新しいインスタンスがnewにより生成されます。  \n",
    "\n",
    "簡潔に説明すると＋演算子で処理した回数の文字連結は、  \n",
    "内部でその回数分のnewを行っています。  \n",
    "newによるインスタンス生成は、計算などに比べてJVMに大きな負担がかかる原因となる為、  \n",
    "何百回、何千回、何万回と大きくなるにつれて、全体として遅い処理になってしまいます。  \n",
    "  \n",
    "その問題を解決するためにStringBuilderを使います。  \n",
    "append()メソッドで文字列を追記していくことでインスタンスを作り直すことなく高速に処理を行うことができます。"
   ]
  },
  {
   "cell_type": "code",
   "execution_count": null,
   "metadata": {},
   "outputs": [],
   "source": [
    "StringBuilder sb = new StringBuilder();\n",
    "\n",
    "String[] strList = {\"Water\",\"Coffee\",\"Tea\",\"Juice\"};\n",
    "\n",
    "for(String str : strList){\n",
    "    sb.append(str);\n",
    "}\n",
    " \n",
    "System.out.println(sb.toString()); // Stringに変換。new String(sb)やString.valueOf(sb)でも可"
   ]
  },
  {
   "cell_type": "markdown",
   "metadata": {},
   "source": [
    "## 7.正規表現\n",
    "[正規表現はこちら](./02-04_RegExp.ipynb)"
   ]
  },
  {
   "cell_type": "markdown",
   "metadata": {},
   "source": [
    "# 問題\n",
    "次の条件を満たしたプログラムを書いてみましょう。\n",
    "- 文字列の変数を宣言する\n",
    "- 標準入力で入力した文字をカンマ区切り連結してその都度出力する\n",
    "- 入力文字の両端に空白がある場合は除去してから連結する\n",
    "- 空白文字のみ、または入力文字がなくEnterされた場合は処理を終了する\n",
    "- 終了前に何桁の文字数が生成されたのか出力する"
   ]
  },
  {
   "cell_type": "code",
   "execution_count": null,
   "metadata": {},
   "outputs": [],
   "source": []
  }
 ],
 "metadata": {
  "kernelspec": {
   "display_name": "Java",
   "language": "java",
   "name": "java"
  },
  "language_info": {
   "codemirror_mode": "java",
   "file_extension": ".jshell",
   "mimetype": "text/x-java-source",
   "name": "Java",
   "pygments_lexer": "java",
   "version": "11.0.6+10-LTS"
  }
 },
 "nbformat": 4,
 "nbformat_minor": 4
}
