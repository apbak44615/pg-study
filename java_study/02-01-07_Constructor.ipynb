{
 "cells": [
  {
   "cell_type": "markdown",
   "metadata": {},
   "source": [
    "# コンストラクタ\n",
    "\n",
    "コンストラクタはクラスに実装されるメソッドです。<br>\n",
    "しかし、コンストラクタは別のメソッドとは少し異なっています。\n",
    "\n",
    "<br>\n",
    "\n",
    "コンストラクタは以下の特徴を持っています。\n",
    "- コンストラクタはクラス名と同じ名前で定義され、戻り値の型は指定しない。\n",
    "- コンストラクタはクラスを元にオブジェクトを生成したときに最初に実行される。\n",
    "- コンストラクタは任意に実行することはできない。\n",
    "- コンストラクタの引数にはオブジェクト生成時に指定する値が入る。\n",
    "\n",
    "では一つずつみていきましょう。"
   ]
  },
  {
   "cell_type": "markdown",
   "metadata": {},
   "source": [
    "### クラス名と同じ名前で定義され、戻り値の型は指定しない\n",
    "\n",
    "コンストラクタはクラス名と同じ名前で定義され、戻り値の型は指定しません。\n",
    "\n",
    "\n",
    "\n",
    "例えば、TestというクラスのコンストラクタはTestと定義されます。<br>\n",
    "また、通常のメソッドであれば、戻り値の型を指定しますが、コンストラクタは戻り値の型を指定せず、戻り値もありません。\n",
    "\n",
    "以下がTestクラスでコンストラクタを定義した例です。"
   ]
  },
  {
   "cell_type": "code",
   "execution_count": null,
   "metadata": {},
   "outputs": [],
   "source": [
    "class Test{\n",
    "    Test(){\n",
    "        System.out.println(\"Testのコンストラクタが実行されました\");\n",
    "    }\n",
    "}"
   ]
  },
  {
   "cell_type": "markdown",
   "metadata": {},
   "source": [
    "2行目でTestというメソッドが戻り値の型を指定せずに宣言されていますが、これがコンストラクタです。<br>\n",
    "クラス名と同じ名前で宣言されています。"
   ]
  },
  {
   "cell_type": "markdown",
   "metadata": {},
   "source": [
    "### コンストラクタはクラスを元にオブジェクトを生成したときに最初に実行される\n",
    "コンストラクタはオブジェクト生成時に最初に実行されます。\n",
    "\n",
    "\n",
    "先程定義したTestクラスのコンストラクタには以下の処理が実装されています。\n",
    "```java\n",
    "System.out.println(\"Testのコンストラクタが実行されました\");\n",
    "```\n",
    "では、オブジェクト生成時にはコンストラクタが実行されるのでオブジェクトを生成した場合、<br>\n",
    "「Testのコンストラクタが実行されました」と出力されるはずです。実際にTestクラスのオブジェクトを生成してみましょう。\n"
   ]
  },
  {
   "cell_type": "code",
   "execution_count": null,
   "metadata": {},
   "outputs": [],
   "source": [
    "Test test = new Test();"
   ]
  },
  {
   "cell_type": "markdown",
   "metadata": {},
   "source": [
    "### コンストラクタは任意に実行することはできない\n",
    "\n",
    "最初にコンストラクタはメソッドであるといいましたが、コンストラクタは自由なタイミングで実行することはできません。<br>\n",
    "普通のメソッドであれば、test.method()のようにメソッドを実行できますが、コンストラクタは実行することができません。<br>\n",
    "実際に試してみましょう。"
   ]
  },
  {
   "cell_type": "code",
   "execution_count": null,
   "metadata": {},
   "outputs": [],
   "source": [
    "test.Test();"
   ]
  },
  {
   "cell_type": "markdown",
   "metadata": {},
   "source": [
    "このように、エラーになります。"
   ]
  },
  {
   "cell_type": "markdown",
   "metadata": {},
   "source": [
    "### コンストラクタの引数にはオブジェクト生成時に指定する値が入る。\n",
    "オブジェクトを生成する際には以下のように生成していますが、()に値をいれると、その値がコンストラクタの引数になります。\n",
    "```java\n",
    "Test test = new Test();\n",
    "```\n",
    "では、先程のTestクラスのコンストラクタに引数を指定あげて、引数をそのまま出力させてみましょう。"
   ]
  },
  {
   "cell_type": "markdown",
   "metadata": {},
   "source": [
    "まずはTestクラスのコンストラクタの引数を定義し、出力する処理を書いていきます。"
   ]
  },
  {
   "cell_type": "code",
   "execution_count": null,
   "metadata": {},
   "outputs": [],
   "source": [
    "class Test{\n",
    "    Test(String value1){\n",
    "        System.out.println(\"Testのコンストラクタが実行されました\");\n",
    "        System.out.println(\"引数は\" + value1 + \"です\");\n",
    "    }    \n",
    "}"
   ]
  },
  {
   "cell_type": "markdown",
   "metadata": {},
   "source": [
    "コンストラクタの引数にString型を指定しました。<br>\n",
    "その後、引数value1の値を表示する処理を追加しました。<br>\n",
    "では、オブジェクト生成時に与えた引数が出力されるはずです。実際にTestクラスのオブジェクトを生成してみます。"
   ]
  },
  {
   "cell_type": "code",
   "execution_count": null,
   "metadata": {},
   "outputs": [],
   "source": [
    "Test test = new Test(\"Hello!!\");"
   ]
  },
  {
   "cell_type": "markdown",
   "metadata": {},
   "source": [
    "引数に「Hello!!」をいれたところ、「引数はHello!!です」と出力されました。"
   ]
  },
  {
   "cell_type": "markdown",
   "metadata": {},
   "source": [
    "## 継承したサブクラスではどうなるのか\n",
    "\n",
    "ここまでで、コンストラクタの特徴について見てきましたが、このクラスを継承したときにはどうなるの？と疑問に思うかもしれません。\n",
    "[02_01_02_Extends.ipynb](02_01_02_Extends.ipynb)で少し触れられていますが、ここではもっと詳しくみていきましょう。\n",
    "\n",
    "ではまずはTest2クラスを作成し、Test2クラスを継承したSubTestクラスを作成してインスタンス化してみましょう。"
   ]
  },
  {
   "cell_type": "code",
   "execution_count": null,
   "metadata": {},
   "outputs": [],
   "source": [
    "class Test2{\n",
    "    Test2(){\n",
    "        System.out.println(\"Test2のコンストラクタ実行\");\n",
    "    }\n",
    "}\n",
    "\n",
    "class SubTest extends Test2{\n",
    "    \n",
    "}\n",
    "\n",
    "SubTest sub = new SubTest();"
   ]
  },
  {
   "cell_type": "markdown",
   "metadata": {},
   "source": [
    "Test2クラスを継承したSubTestクラスのインスタンスを作成した場合、Test2のコンストラクタが呼ばれました。<br>\n",
    "ではSubTestのコンストラクタはどうなるの？ということでSubTestにコンストラクタを実装してインスタンス化してみましょう。"
   ]
  },
  {
   "cell_type": "code",
   "execution_count": null,
   "metadata": {},
   "outputs": [],
   "source": [
    "class SubTest extends Test2{\n",
    "    SubTest(){\n",
    "        System.out.println(\"SubTestのコンストラクタ実行\");\n",
    "    }\n",
    "}\n",
    "\n",
    "SubTest sub = new SubTest();"
   ]
  },
  {
   "cell_type": "markdown",
   "metadata": {},
   "source": [
    "Test2のコンストラクタを実行した後にSubTestのコンストラクタが実行されました。<br>\n",
    "つまり、親クラスのコンストラクタが実行されたのち、サブクラスのコンストラクタが実行されます。\n",
    "\n",
    "### super()\n",
    "\n",
    "また、サブクラスのコンストラクタの1行目でsuper();を実行することでも親クラスのコンストラクタを呼ぶことができます。"
   ]
  },
  {
   "cell_type": "code",
   "execution_count": null,
   "metadata": {},
   "outputs": [],
   "source": [
    "class SubTest extends Test2{\n",
    "    SubTest(){\n",
    "        super();\n",
    "        System.out.println(\"SubTestのコンストラクタ実行\");\n",
    "    }\n",
    "}\n",
    "\n",
    "SubTest sub = new SubTest();"
   ]
  },
  {
   "cell_type": "markdown",
   "metadata": {},
   "source": [
    "見て分かる通り、super();を書いても書かなくても結果が変わりません。<br>\n",
    "ではなぜsuper();があるのでしょうか。これは、コンストラクタに引数が必要な場合にsuper()が必要になってきます。<br>\n",
    "親クラスであるTest2クラスのコンストラクタに引数を指定してみましょう。"
   ]
  },
  {
   "cell_type": "code",
   "execution_count": null,
   "metadata": {},
   "outputs": [],
   "source": [
    "class Test2{\n",
    "    Test2(String value1){\n",
    "        System.out.println(\"Test2のコンストラクタ実行\");\n",
    "        System.out.println(\"Test2の引数は\" + value1);\n",
    "    }\n",
    "}"
   ]
  },
  {
   "cell_type": "markdown",
   "metadata": {},
   "source": [
    "この状態で、superを使わずにTest2クラスを継承したSubTestクラスを定義してみます。"
   ]
  },
  {
   "cell_type": "code",
   "execution_count": null,
   "metadata": {},
   "outputs": [],
   "source": [
    "class SubTest extends Test2{\n",
    "    SubTest(){\n",
    "        System.out.println(\"SubTestのコンストラクタ実行\");\n",
    "    }\n",
    "}"
   ]
  },
  {
   "cell_type": "markdown",
   "metadata": {},
   "source": [
    "エラーになったと思います。これは、super();が暗示的にSubTest()内で呼ばれているのですが、引数がないためエラーになっています。<br>\n",
    "なので、サブクラスでは以下のように引数を指定してsuper();に引数をいれて実行してやる必要があるのです。"
   ]
  },
  {
   "cell_type": "code",
   "execution_count": null,
   "metadata": {},
   "outputs": [],
   "source": [
    "class SubTest extends Test2{\n",
    "    SubTest(String value1){\n",
    "        super(value1);\n",
    "        System.out.println(\"SubTestのコンストラクタ実行\");\n",
    "        System.out.println(\"SubTestの引数は\" + value1);\n",
    "    }\n",
    "}\n",
    "\n",
    "SubTest sub = new SubTest(\"Hello World\");"
   ]
  },
  {
   "cell_type": "markdown",
   "metadata": {},
   "source": [
    "# 問題\n",
    "コンストラクタの引数が1つ必要な親クラス「Practice」クラスを実装した後、コンストラクタの引数が2つ必要なサブクラス「SubPractice」クラスを実装してインスタンス化してみましょう。\n",
    "引数の型はなんでもかまいません。"
   ]
  },
  {
   "cell_type": "code",
   "execution_count": null,
   "metadata": {},
   "outputs": [],
   "source": []
  }
 ],
 "metadata": {
  "kernelspec": {
   "display_name": "Java",
   "language": "java",
   "name": "java"
  },
  "language_info": {
   "codemirror_mode": "java",
   "file_extension": ".jshell",
   "mimetype": "text/x-java-source",
   "name": "Java",
   "pygments_lexer": "java",
   "version": "11.0.6+10-LTS"
  }
 },
 "nbformat": 4,
 "nbformat_minor": 4
}
