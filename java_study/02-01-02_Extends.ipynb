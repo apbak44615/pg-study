{
 "cells": [
  {
   "cell_type": "markdown",
   "metadata": {},
   "source": [
    "# 継承\n",
    "\n",
    "継承とは、前に作ったクラスを元に、新しくクラスを作成するときに行うものです。<br>\n",
    "\n",
    "例えば新しくクラスを作る際に、前に作ったクラスと同じメソッドやフィールドをもつ場合、共通している部分を元のクラスそのまま使うことができます。<br>\n",
    "つまり、何度も同じようなプログラムを書く必要がなくなります。\n",
    "\n",
    "文字で説明されてもよくわからないと思うのでソースコードを見ながら学んでいきましょう。"
   ]
  },
  {
   "cell_type": "markdown",
   "metadata": {},
   "source": [
    "まずは大元となるクラス「Animal」(動物)クラスを作成します。"
   ]
  },
  {
   "cell_type": "code",
   "execution_count": null,
   "metadata": {},
   "outputs": [],
   "source": [
    "class Animal {\n",
    "    \n",
    "    private String name;\n",
    "    private boolean hasTail;\n",
    "    \n",
    "    Animal(String name, boolean hasTail){\n",
    "        this.name = name;\n",
    "        this.hasTail = hasTail;\n",
    "    }\n",
    "    \n",
    "    \n",
    "    public String getName(){\n",
    "        return this.name;\n",
    "    }\n",
    "    \n",
    "    public Boolean getHasTail(){\n",
    "        return this.hasTail;\n",
    "    }\n",
    "    \n",
    "    public void cutTail(){\n",
    "        this.hasTail = false;\n",
    "    }\n",
    "    \n",
    "    public void addTail(){\n",
    "        this.hasTail = true;\n",
    "    }\n",
    "}"
   ]
  },
  {
   "cell_type": "markdown",
   "metadata": {},
   "source": [
    "ここまでは、普通にクラスを作成するのと同じです。\n",
    "ではここで、Feline(ネコ科)クラスを作成したいとします。\n",
    "\n",
    "Felineクラスでは以下のフィールドを持ちたいと考えています。\n",
    "- name    (名前)\n",
    "- hasTail (尻尾)\n",
    "- fur     (毛並み)\n",
    "\n",
    "この時、Felineクラスのフィールドの内、nameとhasTailはAnimalクラスにも存在しています。<br>\n",
    "なのでAnimalクラスを継承してFelineクラスを作成すれば、nameとhasTailをもう一度書かなくても、実装することができます。<br>\n",
    "また、継承されるクラスを`スーパークラス(親クラス)`、継承して新しく作成されるクラスを`サブクラス(子クラス)`といいます。<br>\n",
    "以下はAnimalクラスを継承してFelineクラスを作成したソースコードです。"
   ]
  },
  {
   "cell_type": "code",
   "execution_count": null,
   "metadata": {},
   "outputs": [],
   "source": [
    "class Feline extends Animal {\n",
    "    \n",
    "    private String fur;\n",
    "    \n",
    "    Feline( String name, boolean hasTail, String fur ){\n",
    "        super(name, hasTail);\n",
    "        this.fur = fur;\n",
    "    }\n",
    "    \n",
    "    public String getFur(){\n",
    "        return this.fur;\n",
    "    }\n",
    "}"
   ]
  },
  {
   "cell_type": "markdown",
   "metadata": {},
   "source": [
    "クラスを継承するときには`extends`を使います。<br>\n",
    "`super()`ではAnimalクラスのコンストラクタを実行しています。\n",
    "FelineクラスではgetName()メソッドなどを記述していませんが、Animalクラスを継承しているので使えるはずです。<br>\n",
    "\n",
    "実際に使えるか見てみましょう。"
   ]
  },
  {
   "cell_type": "code",
   "execution_count": null,
   "metadata": {},
   "outputs": [],
   "source": [
    "// Felineクラスをインスタンス化\n",
    "Feline chatora = new Feline(\"Tora\", true, \"mike\");\n",
    "// Animalクラスのメソッドが使えるはず\n",
    "System.out.println(chatora.getName());"
   ]
  },
  {
   "cell_type": "markdown",
   "metadata": {},
   "source": [
    "Toraと出力されました。\n",
    "FelineクラスではgetName()メソッドを記述していませんが、継承しているAnimalクラスにgetName()メソッドが存在するので実装することができました。\n",
    "\n",
    "このように継承を使うことで、同じメソッドを何度も記述しなくてよくなったり、プログラムに一貫性を持たせることができるのが継承のメリットです。"
   ]
  },
  {
   "cell_type": "markdown",
   "metadata": {},
   "source": [
    "# 問題\n",
    "Animalクラスを継承したCalineクラス(イヌ科クラス)を作成してインスタンス化し、Animalクラスで記述されているメソッドを使ってみましょう。<br>\n",
    "Calineクラスではどんなフィールドを定義してもかまいません。"
   ]
  },
  {
   "cell_type": "code",
   "execution_count": null,
   "metadata": {},
   "outputs": [],
   "source": []
  }
 ],
 "metadata": {
  "kernelspec": {
   "display_name": "Java",
   "language": "java",
   "name": "java"
  },
  "language_info": {
   "codemirror_mode": "java",
   "file_extension": ".jshell",
   "mimetype": "text/x-java-source",
   "name": "Java",
   "pygments_lexer": "java",
   "version": "11.0.6+10-LTS"
  }
 },
 "nbformat": 4,
 "nbformat_minor": 4
}
