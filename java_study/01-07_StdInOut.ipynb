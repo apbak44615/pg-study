{
 "cells": [
  {
   "cell_type": "markdown",
   "metadata": {},
   "source": [
    "# 標準入出力"
   ]
  },
  {
   "cell_type": "markdown",
   "metadata": {},
   "source": [
    "### 標準入力(stdin)\n",
    "\n",
    "標準入力はプログラムに入力されるデータ（主にテキスト）である。プログラムは read 操作を使ってデータ転送を要求する。\n",
    "\n",
    "### 標準出力(stdout)\n",
    "\n",
    "標準出力はプログラムが書き出すデータのストリームである。プログラムは write 操作を使ってデータ転送を要求する。\n",
    "\n",
    "### 標準エラー出力(stderr)\n",
    "\n",
    "標準エラー出力は、エラーメッセージや診断メッセージを出力するためのもう1つの出力ストリームである。標準出力とは独立しているため、一方だけをリダイレクトすることができる。デフォルトでは端末（のディスプレイ）になっており、標準出力がリダイレクトされていて画面に表示されなくとも、エラーメッセージだけはユーザーが目にするようになっている。例えば、パイプで出力が他のプログラムの入力に接続されている場合でも、標準エラー出力は直接端末のディスプレイに届く。"
   ]
  },
  {
   "cell_type": "markdown",
   "metadata": {},
   "source": [
    "## Javaで標準入力を取得する\n",
    "\n",
    "取得する方法は複数ある。"
   ]
  },
  {
   "cell_type": "markdown",
   "metadata": {},
   "source": [
    "### BufferedReaderを使用する"
   ]
  },
  {
   "cell_type": "code",
   "execution_count": null,
   "metadata": {},
   "outputs": [],
   "source": [
    "BufferedReader stdin = new BufferedReader(new InputStreamReader(System.in));\n",
    "\n",
    "// 標準入力を1行ずつ読み出す。\n",
    "String line;\n",
    "while ((line = stdin.readLine()) != null){\n",
    "    // endを入力したら終了させる\n",
    "    if(line.equals(\"end\")){\n",
    "        break;\n",
    "    }\n",
    "}"
   ]
  },
  {
   "cell_type": "markdown",
   "metadata": {},
   "source": [
    "### Scannerを使用する"
   ]
  },
  {
   "cell_type": "code",
   "execution_count": null,
   "metadata": {},
   "outputs": [],
   "source": [
    "Scanner stdin = new Scanner(System.in);\n",
    "\n",
    "// 標準入力を1行ずつ読み出す。\n",
    "while (stdin.hasNextLine()) {\n",
    "    String line = stdin.nextLine();\n",
    "    // endと入力したら終了させる     \n",
    "    if(line.equals(\"end\")){\n",
    "        break;\n",
    "    }\n",
    "}"
   ]
  },
  {
   "cell_type": "markdown",
   "metadata": {},
   "source": [
    "## Javaで標準出力に出力する\n",
    "標準出力として意識していなかったかもしれませんが、以下で標準出力に文字列を出力しています。"
   ]
  },
  {
   "cell_type": "code",
   "execution_count": null,
   "metadata": {},
   "outputs": [],
   "source": [
    "System.out.print(\"Hello \");      // 改行しない\n",
    "System.out.println(\"stdout!!\");  // 改行する\n",
    "System.out.print(\"end!!\")"
   ]
  },
  {
   "cell_type": "markdown",
   "metadata": {},
   "source": [
    "### Javaで標準エラー出力を使用したプログラム"
   ]
  },
  {
   "cell_type": "code",
   "execution_count": null,
   "metadata": {},
   "outputs": [],
   "source": [
    "System.err.println(\"Hello stderr!!\");"
   ]
  },
  {
   "cell_type": "markdown",
   "metadata": {},
   "source": [
    "やってることは標準出力と同じように見えますが、実際は標準出力とは違うところに出力されます。"
   ]
  },
  {
   "cell_type": "markdown",
   "metadata": {},
   "source": [
    "# 問題\n",
    "以下の内容のソースを書いてみましょう\n",
    "- 標準入力で２つの引数を受け取る\n",
    "- 2つではない場合にメッセージでエラーを伝える\n",
    "- 引数を一つずつ出力する"
   ]
  },
  {
   "cell_type": "code",
   "execution_count": null,
   "metadata": {},
   "outputs": [],
   "source": []
  }
 ],
 "metadata": {
  "kernelspec": {
   "display_name": "Java",
   "language": "java",
   "name": "java"
  },
  "language_info": {
   "codemirror_mode": "java",
   "file_extension": ".jshell",
   "mimetype": "text/x-java-source",
   "name": "Java",
   "pygments_lexer": "java",
   "version": "11.0.6+10-LTS"
  }
 },
 "nbformat": 4,
 "nbformat_minor": 4
}
