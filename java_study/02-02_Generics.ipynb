{
 "cells": [
  {
   "cell_type": "markdown",
   "metadata": {},
   "source": [
    "# 総称型（ジェネリクス）\n",
    "\n",
    "## ジェネリクスとは\n",
    "プログラムを書く際にはint型やString型など型を指定して書きますが、クラスを作成する際にふるまいは同じなのに型だけ違うクラスを複数つくるのは効率的ではないです。\n",
    "そこで登場するのがジェネリクスです。\n",
    "\n",
    "例えば、独自のクラスを作成したとします。\n",
    "そのクラスには格納されている変数xを取得するgetX()メソッドが実装されているとします。\n",
    "ただし、一般的にはメソッドを定義する際にint型で返却値を返すのか、string型で返却値を返すのか、など型を指定して実装するかと思います。\n",
    "ではint型を扱うクラスを作りたい、string型を扱うクラスを作りたいといったときに2つクラスを作成しなければならなくなると思います。\n",
    "ここでジェネリクスを活用し、オブジェクト生成時に型を指定するようにすることで1つクラスを作るだけでint型でもString型でも対応することができます。"
   ]
  },
  {
   "cell_type": "markdown",
   "metadata": {},
   "source": [
    "ArrayListクラスなんかでは、格納する変数の型をクラス内で定義せず、インスタンス時に指定できます。"
   ]
  },
  {
   "cell_type": "code",
   "execution_count": null,
   "metadata": {},
   "outputs": [],
   "source": [
    "// Integerを扱うArrayListクラスでインスタンス化\n",
    "List list_1 = new ArrayList<Integer>();\n",
    "for(int i=0; i<5; i++){\n",
    "    list_1.add(i);\n",
    "}\n",
    "System.out.println(\"数字のリスト\");\n",
    "System.out.println(list_1);\n",
    "System.out.println();\n",
    "\n",
    "// Stringを扱うArrayListクラスでインスタンス化\n",
    "List list_2 = new ArrayList<String>();\n",
    "for(int i=0; i<5; i++){\n",
    "    list_2.add(\"文字列\" + i);\n",
    "}\n",
    "System.out.println(\"文字のリスト\");\n",
    "System.out.println(list_2);"
   ]
  },
  {
   "cell_type": "markdown",
   "metadata": {},
   "source": [
    "上記を見ればわかる通り、Integer用のArrayListクラス(例えばIntArrayListクラス)とString用のArrayListクラス(例えばStringArrayListクラス)の2つがなくても、ArrayListという一つのクラスでIntegerもStringも扱うことができます。"
   ]
  },
  {
   "cell_type": "markdown",
   "metadata": {},
   "source": [
    "### ジェネリクスを用いたクラスを定義する場合\n",
    "ジェネリクスを用いたクラスを定義する場合、以下の様に実装します。"
   ]
  },
  {
   "cell_type": "code",
   "execution_count": null,
   "metadata": {},
   "outputs": [],
   "source": [
    "// クラス内で使用する型として、Tを宣言\n",
    "public class ITEM<T> {\n",
    "  //型を適用する箇所に変数のデータ型としてTを宣言\n",
    "  private T value;\n",
    "  \n",
    "  public void setValue (T value) {\n",
    "    this.value = value;\n",
    "  }\n",
    "\n",
    "  //型を適用する箇所に変数のデータ型としてTを宣言\n",
    "  public T getValue() {\n",
    "    return value;\n",
    "  }\n",
    "}"
   ]
  },
  {
   "cell_type": "markdown",
   "metadata": {},
   "source": [
    "実装したITEMクラスで実際にInteger型とString型を扱ってみましょう。"
   ]
  },
  {
   "cell_type": "code",
   "execution_count": null,
   "metadata": {},
   "outputs": [],
   "source": [
    "ITEM<Integer> intItem = new ITEM<Integer>();\n",
    "intItem.setValue(10);\n",
    "Integer val = intItem.getValue();\n",
    "System.out.println(val);"
   ]
  },
  {
   "cell_type": "code",
   "execution_count": null,
   "metadata": {},
   "outputs": [],
   "source": [
    "ITEM<String> strItem = new ITEM<String>();\n",
    "strItem.setValue(\"十\");\n",
    "String str = strItem.getValue();\n",
    "System.out.println(str);"
   ]
  },
  {
   "cell_type": "markdown",
   "metadata": {},
   "source": [
    "このように1つのクラスを定義しただけで複数の型でITEMクラスを使用できました。"
   ]
  },
  {
   "cell_type": "markdown",
   "metadata": {},
   "source": [
    "## ジェネリクスのメリット"
   ]
  },
  {
   "cell_type": "markdown",
   "metadata": {},
   "source": [
    "ジェネリクスではプログラムの意図しない動作を防ぐことができます。<br>\n",
    "例えば先程、型違いのクラスを複数定義しなくても良くなるのがジェネリクスのメリットでしたが、ジェネリクスを扱わなくても型を全てObjectにしてしまえば、以下のように同じようなことを行えてしまいます。\n",
    "しかし、Objectにするとプログラムが誤作動を起こしてしまうことがあるのでその例を紹介します。<br>\n",
    "まずはObject型でも特に問題ないプログラムです。"
   ]
  },
  {
   "cell_type": "code",
   "execution_count": null,
   "metadata": {},
   "outputs": [],
   "source": [
    "public class ITEM {\n",
    "  //データ型にObject型を指定\n",
    "  private Object value;\n",
    "\n",
    "  //データ型にObject型を指定\n",
    "  public void setValue (Object value) {\n",
    "    this.value = value;\n",
    "  }\n",
    "\n",
    "  //データ型にObject型を指定\n",
    "  public Object getValue() {\n",
    "    return value;\n",
    "  }\n",
    "}"
   ]
  },
  {
   "cell_type": "code",
   "execution_count": null,
   "metadata": {},
   "outputs": [],
   "source": [
    "ITEM intItem = new ITEM();\n",
    "intItem.setValue(10);\n",
    "Integer val = (Integer)intItem.getValue();\n",
    "System.out.println(val);"
   ]
  },
  {
   "cell_type": "code",
   "execution_count": null,
   "metadata": {},
   "outputs": [],
   "source": [
    "ITEM strItem = new ITEM();\n",
    "strItem.setValue(\"十\");\n",
    "String str = (String)strItem.getValue();\n",
    "System.out.println(str);"
   ]
  },
  {
   "cell_type": "markdown",
   "metadata": {},
   "source": [
    "ジェネリクスを用いずとも、Objectで型を定義すればInteget型もString型も扱うことができました。<br>\n",
    "しかし以下のプログラムではどうでしょうか。"
   ]
  },
  {
   "cell_type": "code",
   "execution_count": null,
   "metadata": {},
   "outputs": [],
   "source": [
    "public class ITEM {\n",
    "  //データ型にObject型を指定\n",
    "  private Object value;\n",
    "\n",
    "  //データ型にObject型を指定\n",
    "  public void setValue (Object value) {\n",
    "    this.value = value;\n",
    "  }\n",
    "\n",
    "  //データ型にObject型を指定\n",
    "  public Object getValue() {\n",
    "    return value;\n",
    "  }\n",
    "}"
   ]
  },
  {
   "cell_type": "markdown",
   "metadata": {},
   "source": [
    "クラスを定義するまでは同じです。\n",
    "次にInteger型がはいるはずのITEMの変数valueに文字列を入れてみます。\n",
    "するとエラーが起こるのが分かります。"
   ]
  },
  {
   "cell_type": "code",
   "execution_count": null,
   "metadata": {
    "scrolled": true
   },
   "outputs": [],
   "source": [
    "ITEM intItem = new ITEM();\n",
    "intItem.setValue(\"10\");\n",
    "Integer val = (Integer)intItem.getValue();\n",
    "System.out.println(val);"
   ]
  },
  {
   "cell_type": "markdown",
   "metadata": {},
   "source": [
    "エラーがでました。\n",
    "でもジェネリクスであってもこのプログラムは間違っているからエラーになるのでは？と思いますよね。<br>\n",
    "ジェネリックスで同じようなことをしてみましょう。"
   ]
  },
  {
   "cell_type": "code",
   "execution_count": null,
   "metadata": {},
   "outputs": [],
   "source": [
    "// クラス内で使用する型として、Tを宣言\n",
    "public class ITEM<T> {\n",
    "  //型を適用する箇所に変数のデータ型としてTを宣言\n",
    "  private T value;\n",
    "  \n",
    "  public void setValue (T value) {\n",
    "    this.value = value;\n",
    "  }\n",
    "\n",
    "  //型を適用する箇所に変数のデータ型としてTを宣言\n",
    "  public T getValue() {\n",
    "    return value;\n",
    "  }\n",
    "}"
   ]
  },
  {
   "cell_type": "code",
   "execution_count": null,
   "metadata": {},
   "outputs": [],
   "source": [
    "ITEM<Integer> intItem = new ITEM<Integer>();\n",
    "intItem.setValue(\"10\");\n",
    "Integer val = (Integer)intItem.getValue();\n",
    "System.out.println(val);"
   ]
  },
  {
   "cell_type": "markdown",
   "metadata": {},
   "source": [
    "エラーになりました。\n",
    "しかしエラーが起きている箇所が違います。<br>\n",
    "Object型で定義した場合にはvalに格納している行のIntegerにキャストする時にエラーになっています。\n",
    "それに対し、ジェネリクスを扱った場合にはITEMの変数valueに文字列を格納しようとした際にエラーになっています。"
   ]
  },
  {
   "cell_type": "markdown",
   "metadata": {},
   "source": [
    "今はJupyter notebook上でjavaのプログラムをいきなり実行しているように見えますが、\n",
    "厳密にはコンパイル→実行という手順を踏んでいます。\n"
   ]
  },
  {
   "cell_type": "markdown",
   "metadata": {},
   "source": [
    "コンパイラでは型が正しいかなどのチェックを行ってくれていますが、Object型にすると型のチェックにかからずコンパイル時点ではエラーがわからず、実行時に初めてエラーになるのがわかります。<br>\n",
    "よって、Object型で定義した際に気付けなかったエラーをジェネリクスではコンパイル時点で気付くことができます。"
   ]
  },
  {
   "cell_type": "markdown",
   "metadata": {},
   "source": [
    "実行しているときにいつエラーが起きるかわからないプログラムは安定しているとは言えません。なのでジェネリクスで型を定義して安定的なプログラムを書くことができるのもジェネリクスのメリットです。"
   ]
  }
 ],
 "metadata": {
  "kernelspec": {
   "display_name": "Java",
   "language": "java",
   "name": "java"
  },
  "language_info": {
   "codemirror_mode": "java",
   "file_extension": ".jshell",
   "mimetype": "text/x-java-source",
   "name": "Java",
   "pygments_lexer": "java",
   "version": "11.0.6+10-LTS"
  }
 },
 "nbformat": 4,
 "nbformat_minor": 4
}
