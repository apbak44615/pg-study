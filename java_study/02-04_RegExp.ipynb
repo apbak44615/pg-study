{
 "cells": [
  {
   "cell_type": "markdown",
   "metadata": {},
   "source": [
    "# 正規表現\n",
    "\n",
    "正規表現とは文字列の集合を一つの文字列で表現する方法です。<br>\n",
    "例えば、プログラムを書く際に「与えられた文字列が```いくつかの小文字アルファベット```+`＠`+```いくつかの小文字アルファベット```でできているかどうか」を判定したいと考えたときに地道に実装すると以下の様に実装できます。"
   ]
  },
  {
   "cell_type": "code",
   "execution_count": null,
   "metadata": {},
   "outputs": [],
   "source": [
    "Boolean judgeSentense( String sentense ){\n",
    "    Boolean flag = false;\n",
    "\n",
    "    // @が含まれるか判定\n",
    "    if(sentense.indexOf(\"@\") == -1){\n",
    "        return flag;\n",
    "    }\n",
    "    // @より前が1文字以上あるか判定\n",
    "    if( sentense.substring(0,sentense.indexOf(\"@\")).length() < 1){\n",
    "        return flag;\n",
    "    }\n",
    "    // @より後が1文字以上あるか判定\n",
    "    if( sentense.substring(sentense.indexOf(\"@\") + 1).toLowerCase().length() < 1){\n",
    "        return false;\n",
    "    }\n",
    "    // @より前が小文字か判定\n",
    "    if(sentense.substring(0,sentense.indexOf(\"@\")).equals(sentense.substring(0,sentense.indexOf(\"@\")).toLowerCase())\n",
    "    // @より後が小文字か判定\n",
    "    && sentense.substring(sentense.indexOf(\"@\") + 1).equals(sentense.substring(sentense.indexOf(\"@\") + 1).toLowerCase())\n",
    "    ){\n",
    "        flag = true;\n",
    "    }\n",
    "    \n",
    "    return flag;\n",
    "}"
   ]
  },
  {
   "cell_type": "code",
   "execution_count": null,
   "metadata": {},
   "outputs": [],
   "source": [
    "// 判定してみる\n",
    "System.out.println(judgeSentense(\"hoge@fuga\")); // trueになる\n",
    "System.out.println(judgeSentense(\"Hoge@Fuga\")); // falseになる\n",
    "System.out.println(judgeSentense(\"Hoge@fuga\")); // falseになる\n",
    "System.out.println(judgeSentense(\"hoge@Fuga\")); // falseになる\n",
    "System.out.println(judgeSentense(\"@fuga\")); // falseになる\n",
    "System.out.println(judgeSentense(\"hoge@\")); // falseになる\n",
    "System.out.println(judgeSentense(\"hogefuga\")); // falseになる"
   ]
  },
  {
   "cell_type": "markdown",
   "metadata": {},
   "source": [
    "judgeSentenseメソッドを見てみると、様々なパターンを考慮してif文で判定しているので<br>\n",
    "読みづらく、コメントがあってもそれぞれ何をしているのかわかりにくく、処理も長いです。\n",
    "\n",
    "これを簡単にしてくれるのが正規表現です。\n",
    "\n",
    "\n",
    "先程のコードを正規表現を使って書くと以下の様になります。"
   ]
  },
  {
   "cell_type": "code",
   "execution_count": null,
   "metadata": {},
   "outputs": [],
   "source": [
    "Boolean judgeSentense( String sentense ){\n",
    "    return sentense.matches(\"[a-z]+@[a-z]+\");\n",
    "}"
   ]
  },
  {
   "cell_type": "code",
   "execution_count": null,
   "metadata": {},
   "outputs": [],
   "source": [
    "System.out.println(judgeSentense(\"hoge@fuga\")); // trueになる\n",
    "System.out.println(judgeSentense(\"Hoge@Fuga\")); // falseになる\n",
    "System.out.println(judgeSentense(\"Hoge@fuga\")); // falseになる\n",
    "System.out.println(judgeSentense(\"hoge@Fuga\")); // falseになる\n",
    "System.out.println(judgeSentense(\"@fuga\")); // falseになる\n",
    "System.out.println(judgeSentense(\"hoge@\")); // falseになる\n",
    "System.out.println(judgeSentense(\"hogefuga\")); // falseになる"
   ]
  },
  {
   "cell_type": "markdown",
   "metadata": {},
   "source": [
    "judgeSentenseメソッドを見ると以下の1行だけで実装されています。\n",
    "```java\n",
    "return sentense.matches(\"[a-z]+@[a-z]+\");\n",
    "```\n",
    "\n",
    "matchesメソッドは、文字列が正規表現と一致するかを判定するメソッドで、<br>\n",
    "`[a-z]+@[a-z]+`こそが正規表現です。<br>\n",
    "この正規表現は `アルファベット小文字1文字以上` `@` `アルファベット小文字1文字以上`というのを表しています。"
   ]
  },
  {
   "cell_type": "markdown",
   "metadata": {},
   "source": [
    "正規表現は以下のルールに従って表現できます。\n",
    "また、記号ではなく文字列として扱いたい場合は記号の前にエスケープ文字「\\\\\\」が必要になります。"
   ]
  },
  {
   "cell_type": "markdown",
   "metadata": {},
   "source": [
    "|記号|記号の説明|\n",
    "| :--- | :--- |\n",
    "|`.` | 任意の1文字。改行文字は除く。|\n",
    "|`*`\t| 直前の1文字の0回以上の繰り返し。|\n",
    "|`^`\t| 行の先頭。|\n",
    "|`$`\t| 行の末尾。|\n",
    "|`[ ]` | 任意の1文字。「-」で範囲指定可能。 |\n",
    "|`[^ ]` | 任意の1文字と不一致。「-」で範囲指定可能。|\n",
    "|`+` | 直前の文字の1回以上の繰り返し。 |\n",
    "|`?`\t| 直前の文字が0個または1個 |\n",
    "|`{ }` | カッコ内の数値の繰り返し|\n",
    "|`{n}` | 直前の文字のn個の繰り返し|\n",
    "|`同上` | {,n}\t直前の文字のn個以下の繰り返し|\n",
    "|`同上` | {m,}\t直前の文字のm個以上の繰り返し|\n",
    "|`同上` | {m,n}\t直前の文字のm個以上、n個以下の繰り返し|\n",
    "|`\\|`  | 直前、直後どちらか |\n",
    "|`( )` | カッコ内をグループ化。マッチした内容は参照可能。|"
   ]
  },
  {
   "cell_type": "markdown",
   "metadata": {},
   "source": [
    "# Javaの文字列操作で正規表現を扱う方法<br>(Stringクラス)\n",
    "上記の正規表現を用いた文字列の判定方法は、\n",
    "Stringクラスのmatchesメソッドを用いたものでした。  \n",
    "文字列が指定された正規表現と一致するかどうかを判定し、  \n",
    "一致する場合にだけtrueが返されます。"
   ]
  },
  {
   "cell_type": "code",
   "execution_count": null,
   "metadata": {},
   "outputs": [],
   "source": [
    "public void isBerry (String str) {\n",
    "    // 引数の文字列が「何らかの文字で始まりberryで終わっているか」を判定\n",
    "    if(str.matches(\".*berry$\")) {\n",
    "        System.out.println(str + \"はベリー系です\");\n",
    "    } else {\n",
    "        System.out.println(str + \"はベリー系ではありません\");\n",
    "    }\n",
    "}\n",
    "isBerry(\"Strawberry\");\n",
    "isBerry(\"Orange\");\n",
    "isBerry(\"cranberry\");"
   ]
  },
  {
   "cell_type": "markdown",
   "metadata": {},
   "source": [
    "# 問題\n",
    "Stringクラスのmatchesメソッドを使用します。\n",
    "1. 基本となる文字列を定義します。\n",
    "1. matchesメソッドの引数に正規表現で以下のパターンをそれぞれ設定して、文字の検索を行いましょう。\n",
    "- 文字の部分一致を判定するもの\n",
    "- 文字の前方一致を判定するもの\n",
    "- 文字の後方一致を判定するもの\n",
    "- 一致しないパターン"
   ]
  },
  {
   "cell_type": "code",
   "execution_count": null,
   "metadata": {},
   "outputs": [],
   "source": [
    "Boolean judgeSentense( String sentense ){\n",
    "    return sentense.matches(\"\"); //matchesメソッドの引数を求める\n",
    "}"
   ]
  },
  {
   "cell_type": "markdown",
   "metadata": {},
   "source": [
    "# Javaの文字列操作で正規表現を扱う方法<br>(PatternクラスとMatcherクラス)\n",
    "もう少し複雑な正規表現を扱う場合には、  \n",
    "java.util.regexパッケージのPatternクラスとMatcherクラスを使用します。\n",
    "\n",
    "|クラス|概要|\n",
    "|--|--|\n",
    "|Pattern|コンパイル済みの正規表現| \n",
    "|Matcher|Patternを特定の文字列に適用するときのステートを保持する|  \n",
    "\n",
    "それぞれのクラスを使ってどのように操作をしていくのか見ていきましょう。\n",
    "\n",
    "\n",
    "### 1. 正規表現のパターンオブジェクトを作る\n",
    "Patternクラスのcompileメソッドの引数に正規表現のパターンを指定してパターンオブジェクトを作成します。\n",
    "<br>・正規表現文字列を渡してコンパイルする\n",
    "<br>・正規表現文字列の他にオプションを指定することができる\n",
    "<br>・マルチスレッドでも使い回し可能"
   ]
  },
  {
   "cell_type": "code",
   "execution_count": null,
   "metadata": {},
   "outputs": [],
   "source": [
    "Pattern p = Pattern.compile(\"a*b\");"
   ]
  },
  {
   "cell_type": "markdown",
   "metadata": {},
   "source": [
    "### 2. Matcherオブジェクトを作成する\n",
    "Patternクラスのmatcherメソッドの引数にパターンとマッチさせる文字列を指定してMatcherオブジェクトを作成します。"
   ]
  },
  {
   "cell_type": "code",
   "execution_count": null,
   "metadata": {},
   "outputs": [],
   "source": [
    "Matcher m = p.matcher(\"aaaaab\");"
   ]
  },
  {
   "cell_type": "markdown",
   "metadata": {},
   "source": [
    "### 3. Matcherオブジェクトを使って操作をする\n",
    "Matcherオブジェクトを使ってチェックや抽出をしていきます。  \n",
    "- 一致するかチェックする(find)  \n"
   ]
  },
  {
   "cell_type": "code",
   "execution_count": null,
   "metadata": {},
   "outputs": [],
   "source": [
    "if (m.find()){\n",
    "  System.out.println(\"マッチしました\");\n",
    "}"
   ]
  },
  {
   "cell_type": "markdown",
   "metadata": {},
   "source": [
    "- 一致する複数の文字をすべて抽出する(group)  \n",
    "groupメソッドはfindメソッドで一致した文字列を返します。"
   ]
  },
  {
   "cell_type": "code",
   "execution_count": null,
   "metadata": {},
   "outputs": [],
   "source": [
    "// 検索する文字列を用意\n",
    "String str = \"神奈川県川崎市 123-4567, 神奈川県川崎市 111-2233\";\n",
    "\n",
    "// 正規表現のパターンを作成\n",
    "Pattern ptn = Pattern.compile(\"[0-9]{3}-[0-9]{4}\");\n",
    "Matcher ma = ptn.matcher(str);\n",
    "\n",
    "while (ma.find()) {\n",
    "    System.out.println(\"一致した部分は : \" + ma.group());\n",
    "}"
   ]
  },
  {
   "cell_type": "markdown",
   "metadata": {},
   "source": [
    "# 問題\n",
    "java.util.regexパッケージのPatternクラスとMatcherクラスを使用します。\n",
    "1. 基本となる文字列を定義します。\n",
    "1. 正規表現でPatternクラスを用意しましょう。  \n",
    "　例  \n",
    "　・文字の部分一致を判定するもの    \n",
    "　・文字の前方一致を判定するもの   \n",
    "　・文字の後方一致を判定するもの  \n",
    "　・一致しないもの  \n",
    "3. Matcherクラスと2のPatternを使って、1の文字列から検索してみましょう。\n",
    "4. 3の一致部分を出力してみましょう。\n",
    "5. Matcherクラスを使って1の文字列に2のPatternを検索し、別の文字に置換してみましょう。"
   ]
  },
  {
   "cell_type": "code",
   "execution_count": null,
   "metadata": {},
   "outputs": [],
   "source": []
  }
 ],
 "metadata": {
  "kernelspec": {
   "display_name": "Java",
   "language": "java",
   "name": "java"
  },
  "language_info": {
   "codemirror_mode": "java",
   "file_extension": ".jshell",
   "mimetype": "text/x-java-source",
   "name": "Java",
   "pygments_lexer": "java",
   "version": "11.0.6+10-LTS"
  }
 },
 "nbformat": 4,
 "nbformat_minor": 4
}
