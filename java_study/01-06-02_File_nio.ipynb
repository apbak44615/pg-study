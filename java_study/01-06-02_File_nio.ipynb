{
 "cells": [
  {
   "cell_type": "markdown",
   "metadata": {},
   "source": [
    "# ファイル操作（NEW I/O API）\n",
    "\n",
    "Javaのファイル操作はjava.io.Fileで行うことが主流でした。  \n",
    "Java7でjava.nio.fileが導入されたことにより、ファイル操作方法ががらりと変わりました。  \n",
    "nio＝NEW I/O APIです  \n",
    "\n",
    "[java.io.Fileでの操作](01-10_File.ipynb)で操作した内容と同等の処理を試してみましょう。\n",
    "\n",
    "## java.nio.fileの説明\n",
    "|クラス|説明|\n",
    "|:--|:--|\n",
    "|java.nio.file.Path|ファイル・システム内のファイルを特定するためのインタフェース。|\n",
    "|java.nio.file.Paths|パス文字列またはURIを変換することによってPathを返すクラス|\n",
    "|java.nio.file.Files|Pathインターフェース、及びPathsクラスでファイルパスを指定し、Filesクラスでファイルを操作するイメージ。<br>Filesの各メソッドは、基本的にPathを引数に取る。|"
   ]
  },
  {
   "cell_type": "markdown",
   "metadata": {},
   "source": [
    "# Filesクラス、Pathsクラス"
   ]
  },
  {
   "cell_type": "code",
   "execution_count": null,
   "metadata": {},
   "outputs": [],
   "source": [
    "import java.nio.file.*;\n",
    "import java.util.stream.*;\n",
    "import java.nio.charset.*;"
   ]
  },
  {
   "cell_type": "markdown",
   "metadata": {},
   "source": [
    "## ファイルを新規に作成する\n",
    "ファイルを作成するにはFilesクラスのcreateFileメソッドを使用します。  \n",
    "まず、Pathsクラスのgetメソッドを使用してPathのインスタンスを取得します。  \n",
    "createfileメソッドの引数にPathインスタンスを渡してファイルを新規に作成します。  \n",
    "新しい空のファイルを作成し、ファイルがすでに存在する場合は失敗します。  \n",
    "\n",
    "ディレクトリを作成する場合はcreateDirectoryメソッドを使用します。"
   ]
  },
  {
   "cell_type": "code",
   "execution_count": null,
   "metadata": {},
   "outputs": [],
   "source": [
    "// 作成するファイル名を指定する\n",
    "Path file = Paths.get(\"./1_10_nio_files_createFile.txt\");\n",
    "Files.createFile(file);"
   ]
  },
  {
   "cell_type": "markdown",
   "metadata": {},
   "source": [
    "## ファイル名の変更・ファイルの移動をする\n",
    "ファイル名を変更や移動を行うには、Filesクラスのmoveメソッドを使用します。"
   ]
  },
  {
   "cell_type": "code",
   "execution_count": null,
   "metadata": {},
   "outputs": [],
   "source": [
    "// ファイル名を変更するPathの指定\n",
    "Path from = Paths.get(\"./1_10_nio_files_createFile.txt\");\n",
    "// 変更後のファイルPathの指定 例えば \"\"../1_10_nio_files_createFile.txt\"などとすれば、1つ上の階層に移動できる\n",
    "Path to = Paths.get(\"./1_10_nio_files_renamedFile.txt\");\n",
    "\n",
    "Files.move(from, to);"
   ]
  },
  {
   "cell_type": "markdown",
   "metadata": {},
   "source": [
    "## ファイルの読み込み可否判定\n",
    "ファイルを読み込む際には権限がないなどに理由で読み込みに失敗することがあります。<br>\n",
    "isReadableメソッドを使用することでファイルを読み込むことができるかを事前に知ることができます。"
   ]
  },
  {
   "cell_type": "code",
   "execution_count": null,
   "metadata": {},
   "outputs": [],
   "source": [
    "Path file = Paths.get(\"./1_10_nio_files_renamedFile.txt\");\n",
    " \n",
    "//ファイルの読み込み可否判定\n",
    "if (Files.isReadable(file)){\n",
    "    System.out.println(file + \"は読み込み可\");\n",
    "}else{\n",
    "    System.out.println(file + \"は読み込み不可\");\n",
    "}"
   ]
  },
  {
   "cell_type": "markdown",
   "metadata": {},
   "source": [
    "## ファイルへの書き込み可否判定\n",
    "ファイルの読み込みと同様、権限がないなどの理由で書き込みに失敗することがあります。<br>\n",
    "isWritableメソッドを使用することでファイルに書き込むことができるかを事前に知ることができます。"
   ]
  },
  {
   "cell_type": "code",
   "execution_count": null,
   "metadata": {},
   "outputs": [],
   "source": [
    "Path file = Paths.get(\"./1_10_nio_files_renamedFile.txt\");\n",
    " \n",
    "//ファイルの書き込み可否判定\n",
    "if (Files.isWritable(file)){\n",
    "    System.out.println(file + \"は書き込み可\");\n",
    "}else{\n",
    "    System.out.println(file + \"は書き込み不可\");\n",
    "}"
   ]
  },
  {
   "cell_type": "markdown",
   "metadata": {},
   "source": [
    "## ディレクトリ・ファイルの存在を確認する\n",
    "指定したディレクトリやファイルが存在するか確認するにはexistsメソッドを使用します。"
   ]
  },
  {
   "cell_type": "code",
   "execution_count": null,
   "metadata": {},
   "outputs": [],
   "source": [
    "Path file = Paths.get(\"./1_10_nio_files_renamedFile.txt\");\n",
    "        \n",
    "//ディレクトリ、ファイルの存在を確認する\n",
    "if (Files.exists(file)){\n",
    "    System.out.println(file + \"は存在する\");\n",
    "}else{\n",
    "    System.out.println(file + \"は存在しない\");\n",
    "}        "
   ]
  },
  {
   "cell_type": "markdown",
   "metadata": {},
   "source": [
    "## ファイルリストを取得する\n",
    "指定したディレクトリのファイルの一覧を取得するにはlistメソッドを使用します。"
   ]
  },
  {
   "cell_type": "code",
   "execution_count": null,
   "metadata": {},
   "outputs": [],
   "source": [
    "// カレントディレクトリを指定する\n",
    "Path dir = Paths.get(\"./\");\n",
    "        \n",
    "// listメソッドを使用して一覧を取得する\n",
    "try(Stream<Path> stream = Files.list(dir)){\n",
    "  stream.forEach(path -> {\n",
    "    System.out.println(path);\n",
    "  });\n",
    "}"
   ]
  },
  {
   "cell_type": "markdown",
   "metadata": {},
   "source": [
    "## ファイルを削除する\n",
    "ファイルを削除するにはdeleteメソッドを使用します。"
   ]
  },
  {
   "cell_type": "code",
   "execution_count": null,
   "metadata": {},
   "outputs": [],
   "source": [
    "Path file = Paths.get(\"./1_10_nio_files_renamedFile.txt\");\n",
    "Files.delete(file);"
   ]
  },
  {
   "cell_type": "markdown",
   "metadata": {},
   "source": [
    "## ファイルに書き込む \n",
    "Filesクラスでファイルに書き込む際にはwriteメソッドを使用します。<br>\n",
    "このメソッドは、すべてのバイトが書き込まれた(あるいは、入出力エラーまたは他の実行時例外がスローされた)ときに必ずそのファイルがクローズされるようにします。"
   ]
  },
  {
   "cell_type": "code",
   "execution_count": null,
   "metadata": {},
   "outputs": [],
   "source": [
    "String str = (\"java\");\n",
    "\n",
    "Path file = Paths.get(\"./1_10_nio_files.txt\");\n",
    "try {\n",
    "  Files.write(file, str.getBytes());\n",
    "  // Files.writeString(file, \"java\"); // Java 11以降の場合\n",
    "} catch (Exception e) {\n",
    "  e.getStackTrace();\n",
    "}"
   ]
  },
  {
   "cell_type": "markdown",
   "metadata": {},
   "source": [
    "複数行の書込みがある場合はFiles.newBufferedWriter(Path, Charset, OpenOption...) から返される java.io.BufferedWriterを使用します。  \n",
    "try-with-resource形式で記載することで、finallyブロックでcloseメソッドを呼び出さなくても自動でcloseをしてくれるようになります。\n",
    "[詳細はこちら](./01-05_Exception.ipynb)"
   ]
  },
  {
   "cell_type": "code",
   "execution_count": null,
   "metadata": {},
   "outputs": [],
   "source": [
    "List<String> lines = new ArrayList<String>();\n",
    "lines.add(\"java\");\n",
    "lines.add(\"study\");\n",
    "lines.add(\"writeFile\");\n",
    "\n",
    "Path file = Paths.get(\"./1_10_nio_files.txt\");\n",
    "\n",
    "try (BufferedWriter bw = Files.newBufferedWriter(file, StandardCharsets.UTF_8)) {  // 文字コードUTF-8指定\n",
    "    for (String line : lines) {\n",
    "        bw.write(line);\n",
    "        bw.newLine();\n",
    "    }\n",
    "} catch (IOException e) {\n",
    "    e.printStackTrace();\n",
    "}"
   ]
  },
  {
   "cell_type": "markdown",
   "metadata": {},
   "source": [
    "## ファイルを読み込む\n",
    "ファイルの読み込みはreadAllBytesメソッドを使用します。  \n",
    "読み込みと同時に書込みをすることでコピーを実現しています。"
   ]
  },
  {
   "cell_type": "code",
   "execution_count": null,
   "metadata": {},
   "outputs": [],
   "source": [
    "Path file = Paths.get(\"./1_10_nio_files.txt\");\n",
    "try {\n",
    "  Files.write(Paths.get(\"./1_10_nio_files_copy.txt\"), Files.readAllBytes(file));  \n",
    "} catch (Exception e) {\n",
    "  e.getStackTrace();\n",
    "}"
   ]
  },
  {
   "cell_type": "markdown",
   "metadata": {},
   "source": [
    " # 問題1\n",
    " 先程作成して書き込みを行った1_10_nio_files.txt、1_10_nio_files_copy.txtの2つのファイルに「practice1」という文字列を`追記`して表示してみましょう。"
   ]
  },
  {
   "cell_type": "code",
   "execution_count": null,
   "metadata": {},
   "outputs": [],
   "source": []
  },
  {
   "cell_type": "markdown",
   "metadata": {},
   "source": [
    "# 問題2\n",
    "今回作成した1_10_nio_files.txt、1_10_nio_files_copy.txtを削除してみましょう。"
   ]
  },
  {
   "cell_type": "code",
   "execution_count": null,
   "metadata": {},
   "outputs": [],
   "source": []
  }
 ],
 "metadata": {
  "kernelspec": {
   "display_name": "Java",
   "language": "java",
   "name": "java"
  },
  "language_info": {
   "codemirror_mode": "java",
   "file_extension": ".jshell",
   "mimetype": "text/x-java-source",
   "name": "Java",
   "pygments_lexer": "java",
   "version": "11.0.6+10-LTS"
  }
 },
 "nbformat": 4,
 "nbformat_minor": 4
}
