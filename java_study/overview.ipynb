{
 "cells": [
  {
   "cell_type": "markdown",
   "metadata": {},
   "source": [
    "# Java演習教材\n",
    "ここではJava言語を実践しながら習得していくことを目的としています。\n",
    "\n",
    "Jupyterではソースファイルを完全に書かずに、コードを部分的に記載するだけで実行することができます。  \n",
    "そのため小さいプログラムであれば、簡単に結果を取得することができます。  \n",
    "またブラウザ内での実行となるため、自端末への環境設定などは不要です。\n",
    "\n",
    "本章で実践しながらJavaの基礎部分について習得していきましょう。\n",
    "\n",
    "## 実践方法\n",
    "- 各ページ上書き保存不可ですが、コードの編集・実行が可能です。\n",
    "- ソースのセルを実行する場合はセル内でCtrl+Enterすると実行結果が下に出力されます。<br>(出力するようにしている場合)。\n",
    "- ページ内は別セルであっても情報を共有することができます。<br>(上のセルで設定した変数を使うことができます)\n",
    "- 実行結果をクリアする場合はCellメニュー内からClearすることができます。"
   ]
  },
  {
   "cell_type": "markdown",
   "metadata": {},
   "source": [
    "## 目次\n",
    "1. 基礎編\n",
    "    - Javaの基本的な文法\n",
    "    - [データ型（プリミティブ型、参照型）](01-01-01_DataType.ipynb)\n",
    "    - [リテラル](01-01-02_Literal.ipynb)\n",
    "    - [演算子](01-01-03_Operator.ipynb)\n",
    "    - [制御構文](01-01-04_Control.ipynb)\n",
    "    - [例外¶](01-01-05_Exception.ipynb)\n",
    "    - [文字列操作](01-02_String.ipynb)\n",
    "    - [配列とList](01-03_List.ipynb)\n",
    "    - [コレクション](01-04_Collection.ipynb)\n",
    "    - [日付・時刻](01-05_DateTime.ipynb)\n",
    "    - [ファイル](01-06-01_File.ipynb)\n",
    "    - [ファイル（NEW I/O API）](01-06-02_File_nio.ipynb)\n",
    "    - [標準入出力](01-07_StdInOut.ipynb)\n",
    "2. 応用編\n",
    "    - [クラス](02-01-01_Class.ipynb)\n",
    "    - [継承](02-01-02_Extends.ipynb)\n",
    "    - [スコープ](02-01-03_Scope.ipynb)\n",
    "    - [インタフェース](02-01-04_Interface.ipynb)\n",
    "    - [アクセス修飾子](02-01-05_AccessModifier.ipynb)\n",
    "    - [フィールド](02-01-06_Field.ipynb)\n",
    "    - [コンストラクタ](02-01-07_Constructor.ipynb)\n",
    "    - [Objectクラスのメソッド](02-01-08_Object_method.ipynb)\n",
    "    - [総称型（ジェネリクス）](02-02_Generics.ipynb)\n",
    "    - [Enum(列挙型)](02-03_Enum.ipynb)\n",
    "    - [正規表現](02-04_RegExp.ipynb)\n",
    "    - [マルチスレッド処理](02-05_MultiThread.ipynb)\n",
    "    - 最近のJavaで追加された構文\n",
    "        - [拡張for文](02-06-01_ExpansionFor.ipynb)\n",
    "        - [ラムダ](02-06-02_Lambda.ipynb)\n",
    "        - [StreamAPI](02-06-03_StreamAPI.ipynb)\n",
    "        - [var](02-06-04_Var.ipynb)  \n",
    "        \n"
   ]
  }
 ],
 "metadata": {
  "kernelspec": {
   "display_name": "Java",
   "language": "java",
   "name": "java"
  },
  "language_info": {
   "codemirror_mode": "java",
   "file_extension": ".jshell",
   "mimetype": "text/x-java-source",
   "name": "Java",
   "pygments_lexer": "java",
   "version": "11.0.6+10-LTS"
  }
 },
 "nbformat": 4,
 "nbformat_minor": 4
}
