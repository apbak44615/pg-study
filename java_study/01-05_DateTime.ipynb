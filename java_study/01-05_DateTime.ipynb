{
 "cells": [
  {
   "cell_type": "markdown",
   "metadata": {},
   "source": [
    "# 日付・時刻\n",
    "Javaで日付/時間を扱うには従来はDate/Calendar/DateFormat等のクラスを使っていましたが、<br>Java8からはjava.timeパッケージに新しくAPIが追加されました。  \n",
    "新しいAPIは今までのAPIと全く別物と考えてよいです。  \n",
    "多くのパッケージが追加されましたが、今回は下記について説明します。  \n",
    "\n",
    "- LocalDateTime\n",
    "- ZonedDateTime\n",
    "- OffsetDateTime\n",
    "- Instant"
   ]
  },
  {
   "cell_type": "markdown",
   "metadata": {},
   "source": [
    "## LocalDateTime　\n",
    " - LocalDateTimeはタイムゾーンのない日時でLocalDateとLocalTimeのインスタンスを持っています"
   ]
  },
  {
   "cell_type": "code",
   "execution_count": null,
   "metadata": {},
   "outputs": [],
   "source": [
    "import java.time.LocalDateTime;\n",
    "import java.time.format.DateTimeFormatter;\n",
    "\n",
    "LocalDateTime nowLocalDt = LocalDateTime.now();  // 現在日時\n",
    "System.out.println(nowLocalDt.toString());\n",
    "System.out.println(nowLocalDt.getYear());\n",
    "System.out.println(nowLocalDt.getMonth());\n",
    "System.out.println(nowLocalDt.getHour());\n",
    "System.out.println(nowLocalDt.getMinute());\n",
    "System.out.println(nowLocalDt.getSecond());"
   ]
  },
  {
   "cell_type": "markdown",
   "metadata": {},
   "source": [
    "### フォーマットを指定する\n",
    "DateTimeFormatterクラスを使用し、日付のフォーマットを指定して日付を見やすく表示することができます。  \n",
    "DateTimeFormatterクラスを使用するためには、以下のようにクラスのオブジェクトを生成します。  "
   ]
  },
  {
   "cell_type": "code",
   "execution_count": null,
   "metadata": {},
   "outputs": [],
   "source": [
    "LocalDateTime nowLocalDt = LocalDateTime.now();\n",
    "DateTimeFormatter f = DateTimeFormatter.ofPattern(\"yyyy年MM月dd日E曜日kk時mm分ss秒\");\n",
    "System.out.println(nowLocalDt.format(f));"
   ]
  },
  {
   "cell_type": "markdown",
   "metadata": {},
   "source": [
    "### 文字列(String)を日付型(LocalDateTime)に変換する\n",
    "\n",
    "文字列(String)を日付型(LocalDateTime)に変換する場合は、\n",
    "DateTimeFormatterクラスで文字列と同じフォーマットを用意して変換します。\n",
    "\n",
    "例えば、文字列が“2019年08月18日01時23分45秒”ならフォーマットは\"yyyy年mm月dd日kk時mm分ss秒\"となります。  \n",
    "フォーマットが間違っているとParseExceptionの例外が発生するので気をつけてください。\n",
    "  \n",
    "フォーマットの指定ができたらparseメソッドを使ってLocalDateTime型に変換します。  \n",
    "文字列を日付型に変換する方法を覚えるために次のプログラムを実行してみましょう。"
   ]
  },
  {
   "cell_type": "code",
   "execution_count": null,
   "metadata": {},
   "outputs": [],
   "source": [
    "String strDate = \"2019年08月18日01時23分45秒\";\n",
    "System.out.println(\"文字列 = \" + strDate);\n",
    "        \n",
    "// 文字列のフォーマットに合わせる\n",
    "DateTimeFormatter f = DateTimeFormatter.ofPattern(\"yyyy'年'MM'月'dd'日'HH'時'mm'分'ss'秒'\");\n",
    "LocalDateTime d = LocalDateTime.parse(strDate, f);\n",
    "System.out.println(\"LocalDateTime型 = \" + d);\n",
    "System.out.println(\"指定したフォーマットで出力 = \" + d.format(f));"
   ]
  },
  {
   "cell_type": "markdown",
   "metadata": {},
   "source": [
    "## ZonedDateTime　\n",
    " - ZonedDateTimeはタイムゾーン付きの日時です"
   ]
  },
  {
   "cell_type": "code",
   "execution_count": null,
   "metadata": {},
   "outputs": [],
   "source": [
    "import java.time.ZonedDateTime;\n",
    "import java.time.ZoneId;\n",
    "\n",
    "ZonedDateTime nowZonedDt = ZonedDateTime.now(ZoneId.of(\"Asia/Tokyo\"));   // 現在日時(Asia/Tokyo)\n",
    "System.out.println(nowZonedDt.toString());\n",
    "System.out.println(nowZonedDt.getZone());\n",
    "\n",
    "// 文字列(String)を日付型(ZonedDateTime)に変換する\n",
    "String strDate = \"2019年11月13日01時23分45秒 Asia/Tokyo\";\n",
    "System.out.println(\"文字列 = \" + strDate);\n",
    "// 文字列のフォーマットに合わせる\n",
    "ZonedDateTime zonedDt = ZonedDateTime.parse(strDate, DateTimeFormatter.ofPattern(\"yyyy'年'MM'月'dd'日'HH'時'mm'分'ss'秒' VV\"));\n",
    "System.out.println(\"ZonedDateTime型 = \" + zonedDt.toString());"
   ]
  },
  {
   "cell_type": "markdown",
   "metadata": {},
   "source": [
    "## OffsetDateTime\n",
    "- OffsetDateTimeはオフセット付きの日時です<br>(グリニッジ/UTCからのタイムゾーン・オフセット(+09:00など)。)\n",
    "- LocalDateTimeとOffsetを組み合わせたものです"
   ]
  },
  {
   "cell_type": "code",
   "execution_count": null,
   "metadata": {},
   "outputs": [],
   "source": [
    "import java.time.OffsetDateTime;\n",
    "\n",
    "OffsetDateTime nowOffSetDt = OffsetDateTime.now();\n",
    "System.out.println(nowOffSetDt.toString());"
   ]
  },
  {
   "cell_type": "markdown",
   "metadata": {},
   "source": [
    "## Instant  \n",
    "- 1970/1/1を起点としたナノ秒単位のポイント。  \n",
    "- エポック秒を表すlong値と1秒未満のナノ秒を表すint値(0-999,999,999)からなる日時。  \n",
    "- 新APIの日時を格納するクラスの中で唯一Dateとの相互変換可能なクラス。  \n",
    "- 他の日時クラスもInstantを経由してDateとの相互変換が可能。 "
   ]
  },
  {
   "cell_type": "code",
   "execution_count": null,
   "metadata": {},
   "outputs": [],
   "source": [
    "import java.time.Instant;\n",
    "\n",
    "Instant instant = Instant.now();\n",
    "System.out.println(instant.toString());\n",
    "System.out.println(instant.toEpochMilli());"
   ]
  },
  {
   "cell_type": "markdown",
   "metadata": {},
   "source": [
    "それぞれの日時クラスとの相互変換はこのようになります。"
   ]
  },
  {
   "cell_type": "code",
   "execution_count": null,
   "metadata": {},
   "outputs": [],
   "source": [
    "//Date -> *DateTime\n",
    "Date date = new Date();\n",
    "System.out.println(\"１　変換前のDate：\" + date);\n",
    "ZonedDateTime zdt = date.toInstant().atZone(ZoneId.systemDefault());\n",
    "System.out.println(\"　　Date→ZonedDateTime：\" + zdt);\n",
    "LocalDateTime ldt = LocalDateTime.ofInstant(date.toInstant(), ZoneId.systemDefault());\n",
    "System.out.println(\"　　Date→LocalDateTime：\" + ldt);\n",
    "OffsetDateTime odt = OffsetDateTime.ofInstant(date.toInstant(), ZoneId.systemDefault());\n",
    "System.out.println(\"　　Date→OffsetDateTime：\" + odt);\n",
    "\n",
    "//ZonedDateTime -> Date\n",
    "ZonedDateTime zdt = ZonedDateTime.now();\n",
    "System.out.println(\"２　変換前のZonedDateTime：\" + zdt);\n",
    "Date date = Date.from(zdt.toInstant());\n",
    "System.out.println(\"　　ZonedDateTime→date：\" + date);\n",
    "\n",
    "//OffsetDateTime -> Date\n",
    "OffsetDateTime odt = OffsetDateTime.now();\n",
    "System.out.println(\"３　変換前のOffsetDateTime：\" + odt);\n",
    "Date date = Date.from(odt.toInstant());\n",
    "System.out.println(\"　　OffsetDateTime→date：\" + date);\n",
    "\n",
    "//LocalDateTime -> Date\n",
    "LocalDateTime ldt = LocalDateTime.now();\n",
    "System.out.println(\"４　変換前のLocalDateTime：\" + ldt);\n",
    "Date date = Date.from(ldt.atZone(ZoneId.systemDefault()).toInstant());\n",
    "System.out.println(\"　　LocalDateTime→date：\" + date);"
   ]
  },
  {
   "cell_type": "markdown",
   "metadata": {},
   "source": [
    "# 問題\n",
    "- 現在日時を取得して、さまざまなフォーマットで出力する\n",
    "- 現在日時を取得して、世界中いくつかの地域の現在日時を表示する"
   ]
  },
  {
   "cell_type": "code",
   "execution_count": null,
   "metadata": {},
   "outputs": [],
   "source": []
  }
 ],
 "metadata": {
  "kernelspec": {
   "display_name": "Java",
   "language": "java",
   "name": "java"
  },
  "language_info": {
   "codemirror_mode": "java",
   "file_extension": ".jshell",
   "mimetype": "text/x-java-source",
   "name": "Java",
   "pygments_lexer": "java",
   "version": "11.0.6+10-LTS"
  }
 },
 "nbformat": 4,
 "nbformat_minor": 4
}
