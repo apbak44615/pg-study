{
 "cells": [
  {
   "cell_type": "markdown",
   "metadata": {},
   "source": [
    "# インタフェース\n",
    "\n",
    "インタフェースは、初めに処理の内容は実装せず後からメソッドの処理内容を実装をするために使います。<br>\n",
    "似たようなクラスを複数作る際や、仕様のみ決めておきたい場合に有効です。<br>\n",
    "\n",
    "\n",
    "インタフェースでは定数とメソッドの仕様のみが定義できます。<br>\n",
    "インタフェースのメンバ変数は自動的にpublic static finalが付けられるので定数になります。\n",
    "\n",
    "インタフェースを実装したクラスではインタフェースで定義されているメソッドを必ず実装する必要があります。<br>\n",
    "クラスにインタフェースを実装するにはimplementsを使用します。実際にインタフェースの使い方を次のプログラムで確認してみましょう"
   ]
  },
  {
   "cell_type": "markdown",
   "metadata": {},
   "source": [
    "### まずはインタフェースを定義する"
   ]
  },
  {
   "cell_type": "code",
   "execution_count": null,
   "metadata": {},
   "outputs": [],
   "source": [
    "interface Standable{   \n",
    "    public void stand();\n",
    "}"
   ]
  },
  {
   "cell_type": "markdown",
   "metadata": {},
   "source": [
    "interface内では、メソッドの戻り値の型と引き数のみ指定します。"
   ]
  },
  {
   "cell_type": "markdown",
   "metadata": {},
   "source": [
    "### インタフェースを実装したクラスを生成する\n",
    "Standableインタフェースを実装したCatクラスを作ってみます。"
   ]
  },
  {
   "cell_type": "code",
   "execution_count": null,
   "metadata": {},
   "outputs": [],
   "source": [
    "class Cat implements Standable {\n",
    "    private String name;\n",
    "    private boolean hasTail;\n",
    "    \n",
    "    public void setName(String name){\n",
    "        this.name = name;\n",
    "    }\n",
    "    \n",
    "    public void setHasTail(boolean hasTail){\n",
    "        this.hasTail = hasTail;\n",
    "    }\n",
    "    \n",
    "    public String getName(){\n",
    "        return this.name;\n",
    "    }\n",
    "    \n",
    "    public boolean getHasTail(){\n",
    "        return this.hasTail;\n",
    "    }\n",
    "    \n",
    "    public void stand(){\n",
    "        System.out.println(\"4本脚で立った\");\n",
    "    }\n",
    "}"
   ]
  },
  {
   "cell_type": "markdown",
   "metadata": {},
   "source": [
    "Catクラスを作る際にはimplements Standableをが記述されています。<br>\n",
    "inplements Standableを記述することでインタフェースStandableを実装しています。<br>\n",
    "\n",
    "さらにCatクラスではStandableで定義されているメソッドが必ず実装される必要があります。\n",
    "なのでCatクラスでは以下のメソッドが実装されています。\n",
    "```java\n",
    "    public void stand(){\n",
    "        System.out.println(\"4本脚で立った\");\n",
    "    }\n",
    "```\n",
    "これにより、Standableインタフェースを実装したクラスでは必ずstand()メソッドが実装されていることが保証されます。"
   ]
  },
  {
   "cell_type": "markdown",
   "metadata": {},
   "source": [
    "### クラスからインスタンスを生成して実行してみる"
   ]
  },
  {
   "cell_type": "code",
   "execution_count": null,
   "metadata": {},
   "outputs": [],
   "source": [
    "Cat cat = new Cat();\n",
    "cat.stand();"
   ]
  },
  {
   "cell_type": "markdown",
   "metadata": {},
   "source": [
    "通常通り実行することができました。\n",
    "\n",
    "では、implementsでインタフェースを実装したのにもかかわらずstand()メソッドを実装しなかったらどうなるでしょうか。"
   ]
  },
  {
   "cell_type": "code",
   "execution_count": null,
   "metadata": {},
   "outputs": [],
   "source": [
    "class Cat implements Standable {\n",
    "    private String name;\n",
    "    private boolean hasTail;\n",
    "    \n",
    "    public void setName(String name){\n",
    "        this.name = name;\n",
    "    }\n",
    "    \n",
    "    public void setHasTail(boolean hasTail){\n",
    "        this.hasTail = hasTail;\n",
    "    }\n",
    "    \n",
    "    public String getName(){\n",
    "        return this.name;\n",
    "    }\n",
    "    \n",
    "    public boolean getHasTail(){\n",
    "        return this.hasTail;\n",
    "    }\n",
    "    \n",
    "}"
   ]
  },
  {
   "cell_type": "markdown",
   "metadata": {},
   "source": [
    "エラーになりました。<br>\n",
    "また例えば、メソッド名は合ってるけど型が違ったという場合にもエラーになります。\n"
   ]
  },
  {
   "cell_type": "code",
   "execution_count": null,
   "metadata": {},
   "outputs": [],
   "source": [
    "class Cat implements Standable {\n",
    "    private String name;\n",
    "    private boolean hasTail;\n",
    "    \n",
    "    public void setName(String name){\n",
    "        this.name = name;\n",
    "    }\n",
    "    \n",
    "    public void setHasTail(boolean hasTail){\n",
    "        this.hasTail = hasTail;\n",
    "    }\n",
    "    \n",
    "    public String getName(){\n",
    "        return this.name;\n",
    "    }\n",
    "    \n",
    "    public boolean getHasTail(){\n",
    "        return this.hasTail;\n",
    "    }\n",
    "    \n",
    "    // 戻り値の型をvoidからStringにしてみる\n",
    "    public String stand(){\n",
    "        System.out.println(\"4本脚で立った\");\n",
    "        return \"4本脚で立った\";\n",
    "    }\n",
    "}"
   ]
  },
  {
   "cell_type": "markdown",
   "metadata": {},
   "source": [
    "このようにインタフェース通りに実装しなかった場合はエラーになるので、インタフェースを使えば、仕様を先に決めてからその仕様通りにクラスを作成することを強制できます。<br>"
   ]
  },
  {
   "cell_type": "markdown",
   "metadata": {},
   "source": [
    "# 問題\n",
    "\n",
    "以下のStandableインタフェースをそれぞれ実装したクラス「Human」クラスと「Dog」クラスを作成し、それぞれ違う処理のstandメソッドを定義して実行してみましょう。"
   ]
  },
  {
   "cell_type": "code",
   "execution_count": null,
   "metadata": {},
   "outputs": [],
   "source": [
    "interface Standable{   \n",
    "    public void stand();\n",
    "}"
   ]
  }
 ],
 "metadata": {
  "kernelspec": {
   "display_name": "Java",
   "language": "java",
   "name": "java"
  },
  "language_info": {
   "codemirror_mode": "java",
   "file_extension": ".jshell",
   "mimetype": "text/x-java-source",
   "name": "Java",
   "pygments_lexer": "java",
   "version": "11.0.6+10-LTS"
  }
 },
 "nbformat": 4,
 "nbformat_minor": 4
}
