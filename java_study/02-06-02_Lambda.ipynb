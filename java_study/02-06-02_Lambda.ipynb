{
 "cells": [
  {
   "cell_type": "markdown",
   "metadata": {},
   "source": [
    "# ラムダ\n",
    "\n",
    "ラムダはJava8で追加され、メソッドを変数と同様に扱うことができます。\n",
    "実は[StreamAPI](./02-06-03_StreamAPI.ipynb)の頁でもラムダは登場しています。"
   ]
  },
  {
   "cell_type": "markdown",
   "metadata": {},
   "source": [
    "実際にどんなものなのか、ソースコードをみていきましょう。\n",
    "まずはラムダを用いないソースコードです。"
   ]
  },
  {
   "cell_type": "code",
   "execution_count": null,
   "metadata": {},
   "outputs": [],
   "source": [
    "interface Test{\n",
    "  public String getHelloName(String name);\n",
    "}\n",
    "\n",
    "Test test = new Test(){\n",
    "  public String getHelloName(String name){\n",
    "    return \"Hello \" + name;\n",
    "  }\n",
    "};\n",
    "\n",
    "System.out.println(test.getHelloName(\"World!\"));"
   ]
  },
  {
   "cell_type": "markdown",
   "metadata": {},
   "source": [
    "インスタンス時にインターフェイスで宣言したメソッドの処理を定義しています。"
   ]
  },
  {
   "cell_type": "markdown",
   "metadata": {},
   "source": [
    "次はラムダを用いたソースコードです。"
   ]
  },
  {
   "cell_type": "code",
   "execution_count": null,
   "metadata": {},
   "outputs": [],
   "source": [
    "interface Test{\n",
    "  public String getHelloName(String name);\n",
    "}\n",
    "\n",
    "Test test = (String name) -> { return \"Hello \" + name; };\n",
    "\n",
    "System.out.println(test.getHelloName(\"World!\"));"
   ]
  },
  {
   "cell_type": "markdown",
   "metadata": {},
   "source": [
    "どの部分がラムダかというと、以下の部分です。\n",
    "```java\n",
    " (name) -> { return \"Hello \" + name; };\n",
    "```\n",
    "\n",
    "ラムダの書式は `() -> {}`　です。 \n",
    "\n",
    "`()`内は引数を、`{}`内はその引数を用いた処理を書くイメージです。\n",
    "\n",
    "書式は`() -> {}`といいましたが、ラムダは以下のように書くこともできます。"
   ]
  },
  {
   "cell_type": "code",
   "execution_count": null,
   "metadata": {},
   "outputs": [],
   "source": [
    "interface Test{\n",
    "  public String getHelloName(String name);\n",
    "}\n",
    "\n",
    "Test test = name -> { return \"Hello \" + name; };\n",
    "\n",
    "System.out.println(test.getHelloName(\"World!\"));"
   ]
  },
  {
   "cell_type": "markdown",
   "metadata": {},
   "source": [
    "`()`と型宣言が省略されています。<br>\n",
    "場合によっては`{}`も省略することができます。\n",
    "このように、`()`や`{}`や型宣言を省略することができます。"
   ]
  },
  {
   "cell_type": "markdown",
   "metadata": {},
   "source": [
    "また、引数がない場合は以下のように記述できます。"
   ]
  },
  {
   "cell_type": "code",
   "execution_count": null,
   "metadata": {},
   "outputs": [],
   "source": [
    "interface Test{\n",
    "  public String sayHello();\n",
    "}\n",
    "\n",
    "Test test = () -> { return \"Hello\"; };\n",
    "\n",
    "System.out.println(test.sayHello());"
   ]
  },
  {
   "cell_type": "markdown",
   "metadata": {},
   "source": [
    "引数がない場合、`()`を省略することができません。"
   ]
  },
  {
   "cell_type": "markdown",
   "metadata": {},
   "source": [
    "## ラムダを用いるメリット\n",
    "先程のソースコードを見ると、抽象メソッド名を何度も書くことなく実装できています。<br>\n",
    "全体的にソースコードの記述量を減らすことができ、処理の部分に集中することができます。<br>\n",
    "ラムダは特に新しいことができるようになったわけではないですが、記述量を減らすことができるのがメリットです。<br>\n",
    "ですが、streamAPIやforEachメソッドではラムダ式を使う必要があるのでしっかり書けるように、読めるようにしておきましょう。\n"
   ]
  },
  {
   "cell_type": "markdown",
   "metadata": {},
   "source": [
    "# 問題\n",
    "以下のプログラムをラムダ式を用いて書き直してみましょう。\n",
    "```java\n",
    "interface Test{\n",
    "  public List getValues(int a, int b, int c);\n",
    "}\n",
    "\n",
    "Test test = new Test(){\n",
    "  public List getValues(int a, int b, int c){\n",
    "      return Arrays.asList(a,b,c);\n",
    "  }\n",
    "};\n",
    "\n",
    "System.out.println(test.getValues(1,2,3));\n",
    "```\n",
    "\n"
   ]
  },
  {
   "cell_type": "code",
   "execution_count": null,
   "metadata": {},
   "outputs": [],
   "source": []
  }
 ],
 "metadata": {
  "kernelspec": {
   "display_name": "Java",
   "language": "java",
   "name": "java"
  },
  "language_info": {
   "codemirror_mode": "java",
   "file_extension": ".jshell",
   "mimetype": "text/x-java-source",
   "name": "Java",
   "pygments_lexer": "java",
   "version": "11.0.6+10-LTS"
  }
 },
 "nbformat": 4,
 "nbformat_minor": 4
}
