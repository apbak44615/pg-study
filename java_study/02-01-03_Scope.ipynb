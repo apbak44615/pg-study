{
 "cells": [
  {
   "cell_type": "markdown",
   "metadata": {},
   "source": [
    "# スコープ\n",
    "\n",
    "Javaではスコープという概念があります。<br>\n",
    "スコープは日本語にすると「範囲」という意味です。<br>\n",
    "ではJavaのスコープはなんの範囲なのでしょうか。<br>\n",
    "\n",
    "基本的に変数は、宣言され、宣言された{}内でしか参照することができません。<br>\n",
    "この参照できる範囲をスコープと呼びます。\n",
    "例えば以下のプログラムの変数testはtestMethod内のfor文内でしか参照することができません。"
   ]
  },
  {
   "cell_type": "code",
   "execution_count": null,
   "metadata": {},
   "outputs": [],
   "source": [
    "class TestClass {\n",
    "    public void testMethod(){\n",
    "        for(int i=0; i<5; i++){\n",
    "            int test = 0;\n",
    "            test = i*2;\n",
    "            System.out.println(test);    \n",
    "        }\n",
    "    }\n",
    "}\n",
    "\n",
    "// インスタンス化して実行\n",
    "TestClass tc = new TestClass();\n",
    "tc.testMethod();"
   ]
  },
  {
   "cell_type": "markdown",
   "metadata": {},
   "source": [
    "では、試しにfor文の外でtestに1を足して出力してみましょう。"
   ]
  },
  {
   "cell_type": "code",
   "execution_count": null,
   "metadata": {},
   "outputs": [],
   "source": [
    "class TestClass {\n",
    "    public void testMethod(){\n",
    "        for(int i=0; i<5; i++){\n",
    "            int test = 0;\n",
    "            test = i*2;\n",
    "            System.out.println(test);    \n",
    "        }\n",
    "        // for文の外でtestに+1して出力してみる!!\n",
    "        test += 1;\n",
    "        System.out.println(test);\n",
    "    }\n",
    "}\n",
    "\n",
    "// インスタンス化して実行\n",
    "TestClass tc = new TestClass();\n",
    "tc.testMethod();"
   ]
  },
  {
   "cell_type": "markdown",
   "metadata": {},
   "source": [
    "エラーになったと思います。\n",
    "これはtestがスコープ外で参照されようとしたからです。<br>\n",
    "このように、スコープ外からは参照することができません。<br>\n",
    "for文の外でもこの変数を参照したいという場合には以下の様にスコープを大きくしましょう。"
   ]
  },
  {
   "cell_type": "code",
   "execution_count": null,
   "metadata": {},
   "outputs": [],
   "source": [
    "class TestClass {\n",
    "    public void testMethod(){\n",
    "        // for文の外で宣言して、スコープをtestMethod内にする\n",
    "        int test = 0;\n",
    "        for(int i=0; i<5; i++){\n",
    "            test = 0;\n",
    "            test = i*2;\n",
    "            System.out.println(test);    \n",
    "        }\n",
    "        // for文の外でtestに+1して出力してみる!!\n",
    "        test += 1;\n",
    "        System.out.println(test);\n",
    "    }\n",
    "}\n",
    "\n",
    "// インスタンス化して実行\n",
    "TestClass tc = new TestClass();\n",
    "tc.testMethod();"
   ]
  },
  {
   "cell_type": "markdown",
   "metadata": {},
   "source": [
    "スコープがtestMethod内に広がり、無事にfor文の外でも参照できました。<br>\n",
    "同様にtestMethod外で使用したい場合、それはクラスのフィールドとして宣言することとなります。\n"
   ]
  },
  {
   "cell_type": "markdown",
   "metadata": {},
   "source": [
    "Javaでは基本的に外部から変数を直接参照することを良しとしません。<br>\n",
    "一人で小規模なプログラムを作る場合にはどこから参照できても困ることはないですが、大人数で大規模なプログラムを作る場合、<br>\n",
    "各々が変数を自由に宣言した場合に被ってしまうことが考えられます。それを防ぐために、無駄なところは見えないようにスコープという概念があります。<br>"
   ]
  },
  {
   "cell_type": "markdown",
   "metadata": {},
   "source": [
    "# 問題\n",
    "下記のソースはスコープが誤った状態で宣言されている変数が複数含まれており、  \n",
    "このまま実行するとエラーが発生します。  \n",
    "変数の宣言箇所を正しい位置に移動して、正常に実行できるようにしましょう。  \n",
    "すべてクラスのインスタンス変数にしないように、必要最低限のスコープにしましょう。"
   ]
  },
  {
   "cell_type": "code",
   "execution_count": null,
   "metadata": {},
   "outputs": [],
   "source": [
    "class TestClass {\n",
    "    public void testMethod(){\n",
    "        for(int i=0; i<3; i++){\n",
    "            int test = 0;\n",
    "            test = i*2;\n",
    "            System.out.println(\"test:\" + test);    \n",
    "    \n",
    "            for(int j=0; j<2; j++){\n",
    "                int value = 0;\n",
    "                value = i*j;\n",
    "                System.out.println(\"value:\" + value);    \n",
    "            }\n",
    "        }\n",
    "        // for文の外でtestに+1して出力してみる!!\n",
    "        test += 1;\n",
    "        System.out.println(\"last test:\" + test);\n",
    "        // for文の外でvalueに+1して出力してみる!!\n",
    "        value += 1;\n",
    "        System.out.println(\"last value:\" + value);\n",
    "    }\n",
    "}\n",
    "\n",
    "// インスタンス化して実行\n",
    "TestClass tc = new TestClass();\n",
    "tc.testMethod();"
   ]
  }
 ],
 "metadata": {
  "kernelspec": {
   "display_name": "Java",
   "language": "java",
   "name": "java"
  },
  "language_info": {
   "codemirror_mode": "java",
   "file_extension": ".jshell",
   "mimetype": "text/x-java-source",
   "name": "Java",
   "pygments_lexer": "java",
   "version": "11.0.6+10-LTS"
  }
 },
 "nbformat": 4,
 "nbformat_minor": 4
}
