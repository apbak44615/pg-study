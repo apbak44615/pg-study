{
 "cells": [
  {
   "cell_type": "markdown",
   "metadata": {},
   "source": [
    "# StreamAPI"
   ]
  },
  {
   "cell_type": "markdown",
   "metadata": {},
   "source": [
    "java10で追加された、データの集合を扱うためのAPIです。<br>\n",
    "主な目的は並列処理への対応で、StreamAPIを用いると順次処理から並行処理への切替えが容易になります。\n",
    "\n",
    "StreamはListやMapなどのデータ集合をもとに生成し、0回以上の中間操作と、1回の終端操作を実行することで結果を得ます。\n",
    "\n",
    "とりあえずどんな使い方をするのか、ソースコードをみていきましょう。"
   ]
  },
  {
   "cell_type": "markdown",
   "metadata": {},
   "source": [
    "まずはStreamAPIを用いない普通のソースコードです。"
   ]
  },
  {
   "cell_type": "code",
   "execution_count": null,
   "metadata": {},
   "outputs": [],
   "source": [
    "List<Integer> inteList = Arrays.asList(1, 2, 3, 4, 5);\n",
    "\n",
    "for (Integer num : inteList) {\n",
    "    if (num % 2 == 1) {\n",
    "        System.out.println(num);\n",
    "    }\n",
    "}"
   ]
  },
  {
   "cell_type": "markdown",
   "metadata": {},
   "source": [
    "1～5の数字が格納されたリストを定義し、2で割った余りが1、つまり奇数のみ表示するプログラムです。\n",
    "上記のソースコードをStreamAPIを用いて記述すると以下の様になります。"
   ]
  },
  {
   "cell_type": "code",
   "execution_count": null,
   "metadata": {},
   "outputs": [],
   "source": [
    "List<Integer> inteList = Arrays.asList(1, 2, 3, 4, 5);\n",
    "inteList.stream() // ストリームを取得\n",
    "        .filter(i -> i % 2 == 1)  // 中間操作を行う\n",
    "        .forEach(i -> System.out.println(i));  // 終端操作"
   ]
  },
  {
   "cell_type": "markdown",
   "metadata": {},
   "source": [
    "同じ出力結果が得られたと思います。<br>\n",
    "では、1行ずつソースコードをみていきましょう。"
   ]
  },
  {
   "cell_type": "markdown",
   "metadata": {},
   "source": [
    "1行目ではリストを定義しています。ここはストリームで使おうが使わまいが同じです。\n",
    "```java\n",
    "List<Integer> inteList = Arrays.asList(1, 2, 3, 4, 5);\n",
    "```\n",
    "\n",
    "<br>\n",
    "\n",
    "2行目では、リストからストリームを取得しています。言い換えると、streamAPIを使う準備をしているようなものです。\n",
    "```java\n",
    "inteList.stream()\n",
    "```\n",
    "\n",
    "<br>\n",
    "\n",
    "3行目では、`中間操作`を行っています。<br>\n",
    "中間操作は、取得したストリームをフィルタリングしたり、要素をソートしたり、同じ要素をまとめたりなどの操作を行います。<br>\n",
    "今回の例ではフィルタリングを行っています。\n",
    "```java\n",
    ".filter(i -> i % 2 == 1)\n",
    "```\n",
    "\n",
    "<br>\n",
    "\n",
    "4行目では`終端操作`を行っています。<br>\n",
    "終端操作は、中間操作を行ったストリームに対しての処理をおこないます。<br>\n",
    "今回の例では、取得したストリームを表示する処理を実装しています。<br>\n",
    "```java\n",
    ".forEach(i -> System.out.println(i));\n",
    "```"
   ]
  },
  {
   "cell_type": "markdown",
   "metadata": {},
   "source": [
    "## メリット"
   ]
  },
  {
   "cell_type": "markdown",
   "metadata": {},
   "source": [
    "StreamAPIを用いたソースコードと用いていないソースコードを比較すると、処理の流れとしては以下のようになっています。\n",
    "- 用いてない場合\n",
    "\n",
    "　「奇数だったら表示」\n",
    " \n",
    "- 用いた場合\n",
    "\n",
    "　「奇数だけを集める」→「表示」\n",
    " \n",
    " StreamAPIを用いると、処理をわけることができるのでソースコードの可読性があがる他、処理を独立できます。"
   ]
  },
  {
   "cell_type": "markdown",
   "metadata": {},
   "source": [
    "## よく使う中間操作のメソッド\n",
    "\n",
    "- sorted()\n",
    "  \n",
    " 取得したストリームを並び替えます。<br>\n",
    " 以下の様に使用します。\n",
    " ```java\n",
    " .sorted((a, b) -> b - a)\n",
    " ```\n",
    " 2つの要素を比較し、返り値が正なら降順、負なら昇順になります。\n",
    " \n",
    " \n",
    " <br>\n",
    " \n",
    "- map()\n",
    "\n",
    " 取得したストリームを変換したり加工したりします。<br>\n",
    " 以下の様にします。\n",
    " ```java\n",
    " .map(i -> i * 2)\n",
    " ```\n",
    " ここでは取得した値を2倍にしています。<br>\n",
    " データ型の変換を行うこともできます。"
   ]
  },
  {
   "cell_type": "markdown",
   "metadata": {},
   "source": [
    "# 問題\n",
    "StreamAPIを用いて、以下のリストを降順に並び替え、その値を10倍して表示するプログラムを書いてみましょう。<br>\n",
    "並び替えや値を10倍する際は中間操作メソッドを用いましょう。\n",
    "\n",
    "```java\n",
    "List<Integer> inteList = Arrays.asList(67, 55, 60, 90, 66);\n",
    "```"
   ]
  },
  {
   "cell_type": "code",
   "execution_count": null,
   "metadata": {},
   "outputs": [],
   "source": []
  }
 ],
 "metadata": {
  "kernelspec": {
   "display_name": "Java",
   "language": "java",
   "name": "java"
  },
  "language_info": {
   "codemirror_mode": "java",
   "file_extension": ".jshell",
   "mimetype": "text/x-java-source",
   "name": "Java",
   "pygments_lexer": "java",
   "version": "11.0.6+10-LTS"
  }
 },
 "nbformat": 4,
 "nbformat_minor": 4
}
