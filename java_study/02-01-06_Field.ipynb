{
 "cells": [
  {
   "cell_type": "markdown",
   "metadata": {},
   "source": [
    "# フィールド\n",
    "\n",
    "フィールドはクラス変数とも呼ばれます。<br>\n",
    "クラス内で宣言される以下のようなものがフィールドです。\n",
    "```java\n",
    "    private String name;\n",
    "    public boolean isMan;\n",
    "\n",
    "```\n",
    "アクセス修飾子がprivateな場合はクラス内でしか参照できませんが、アクセス修飾子がpublicなものであったりするとどこからでも参照できます。\n",
    "また、クラス内でフィールドを参照する場合はthisを使います。\n",
    "\n",
    "実際にどのようにして使うのかみてみましょう。"
   ]
  },
  {
   "cell_type": "markdown",
   "metadata": {},
   "source": [
    "### クラス内から参照してみる"
   ]
  },
  {
   "cell_type": "code",
   "execution_count": null,
   "metadata": {},
   "outputs": [],
   "source": [
    "class TestField{\n",
    "    private String name;\n",
    "    public boolean isMan;\n",
    "    \n",
    "    TestField(){\n",
    "        this.isMan = true;\n",
    "    }\n",
    "    \n",
    "    void useFieldName(){\n",
    "        // クラス内フィールドを参照する場合は変数の前にthisをつける\n",
    "        this.name = \"Jupytarou\";\n",
    "        System.out.println(this.name);\n",
    "    }\n",
    "}\n",
    "\n",
    "TestField test = new TestField();\n",
    "test.useFieldName();"
   ]
  },
  {
   "cell_type": "markdown",
   "metadata": {},
   "source": [
    "11,12行目に注目すると、フィールド「name」を参照する場合にはthis.nameで参照しています。<br>\n",
    "このようにthis.フィールド名で参照することができます。"
   ]
  },
  {
   "cell_type": "markdown",
   "metadata": {},
   "source": [
    "### クラス外から参照してみる\n",
    "Javaではあまりこのような実装はしませんが、クラス外から直接フィールドを参照してみましょう。\n",
    "先程仕様したTestFieldクラスを再利用します。"
   ]
  },
  {
   "cell_type": "code",
   "execution_count": null,
   "metadata": {},
   "outputs": [],
   "source": [
    "TestField test = new TestField();\n",
    "System.out.println(test.isMan);"
   ]
  },
  {
   "cell_type": "markdown",
   "metadata": {},
   "source": [
    "TestFieldで宣言したisManというFieldにアクセスする場合は、<br>\n",
    "TestFieldからインスタンス化したインスタンス.フィールド名、つまりtest.isManで参照することができます。\n",
    "\n",
    "上記例ではクラスの外部からフィールドを直接参照しましたが、基本的にJavaでは、クラスの外部からフィールドを直接参照することを良しとしないので、privateで実装することが多いです。"
   ]
  },
  {
   "cell_type": "markdown",
   "metadata": {},
   "source": [
    "# 問題\n",
    "以下のプログラムを書いてみましょう。\n",
    "1. 型がStringの配列およびHashMapのフィールド変数を宣言する\n",
    "1. 1の変数にあるメソッド内からフィールド変数へ値を設定する\n",
    "1. 2のメソッドとは別のメソッドからフィールド変数にアクセスし、値を出力する"
   ]
  },
  {
   "cell_type": "code",
   "execution_count": null,
   "metadata": {},
   "outputs": [],
   "source": []
  }
 ],
 "metadata": {
  "kernelspec": {
   "display_name": "Java",
   "language": "java",
   "name": "java"
  },
  "language_info": {
   "codemirror_mode": "java",
   "file_extension": ".jshell",
   "mimetype": "text/x-java-source",
   "name": "Java",
   "pygments_lexer": "java",
   "version": "11.0.6+10-LTS"
  }
 },
 "nbformat": 4,
 "nbformat_minor": 4
}
