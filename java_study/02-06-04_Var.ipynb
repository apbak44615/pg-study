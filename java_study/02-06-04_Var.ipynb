{
 "cells": [
  {
   "cell_type": "markdown",
   "metadata": {},
   "source": [
    "# var"
   ]
  },
  {
   "cell_type": "markdown",
   "metadata": {},
   "source": [
    "varはjava10で追加された機能で、型推論を行ってくれます。<br>\n",
    "「型推論」とは？と感じるかもしれませんが、簡単に言えば、変数利用時に型を意識せずにvarを使って型宣言ができる機能です。"
   ]
  },
  {
   "cell_type": "markdown",
   "metadata": {},
   "source": [
    "それではさっそくvarを用いるプログラムと用いないプログラムを比較してみましょう。\n",
    "\n",
    "まずはvarを用いないソースコードです。"
   ]
  },
  {
   "cell_type": "code",
   "execution_count": null,
   "metadata": {},
   "outputs": [],
   "source": [
    "boolean bl = true;\n",
    "char chr = 'a';\n",
    "\n",
    "int num1 = 10;\n",
    "long num2 = 10l;\n",
    "double num3 = 1.0;\n",
    "float num4 = 1.0f;\n",
    "\n",
    "String str = \"Hello Java\";\n",
    "List list = new ArrayList<String>();"
   ]
  },
  {
   "cell_type": "markdown",
   "metadata": {},
   "source": [
    "いたって普通に変数を宣言しています。\n",
    "\n",
    "では、次にvarを用いて変数を宣言してみます。"
   ]
  },
  {
   "cell_type": "code",
   "execution_count": null,
   "metadata": {},
   "outputs": [],
   "source": [
    "var bl = true;  // bool型\n",
    "var chr = 'a';  // char型\n",
    "\n",
    "var num1 = 10;  // int型\n",
    "var num2 = 10L; // long型\n",
    "var num3 = 1.0; // double型\n",
    "var num4 = 1.0F; // float型\n",
    "\n",
    "var str = \"Hello Java\";\n",
    "var list = new ArrayList<String>();"
   ]
  },
  {
   "cell_type": "markdown",
   "metadata": {},
   "source": [
    "こちらも変数宣言できました。\n",
    "\n",
    "型推論、もしくは暗黙的な型指定の機能は時にプログラマの勘違い等により危険なコードにもなりやすいため、スクリプト言語系ではTypeScriptなど、型宣言の機能強化を図る方向性もあるので、実際の利用では意見が分かれる部分ではあります。  \n",
    "ただし、メリット・デメリットを理解して利用すれば、大変便利な機能です。"
   ]
  },
  {
   "cell_type": "markdown",
   "metadata": {},
   "source": [
    "# 問題\n",
    "varを使って変数宣言をし、それぞれ出力させてみましょう。"
   ]
  },
  {
   "cell_type": "code",
   "execution_count": null,
   "metadata": {},
   "outputs": [],
   "source": []
  }
 ],
 "metadata": {
  "kernelspec": {
   "display_name": "Java",
   "language": "java",
   "name": "java"
  },
  "language_info": {
   "codemirror_mode": "java",
   "file_extension": ".jshell",
   "mimetype": "text/x-java-source",
   "name": "Java",
   "pygments_lexer": "java",
   "version": "11.0.6+10-LTS"
  }
 },
 "nbformat": 4,
 "nbformat_minor": 4
}
