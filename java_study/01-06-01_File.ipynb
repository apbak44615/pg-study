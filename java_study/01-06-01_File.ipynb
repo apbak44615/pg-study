{
 "cells": [
  {
   "cell_type": "markdown",
   "metadata": {},
   "source": [
    "# ファイル操作\n",
    "\n",
    "Javaでファイルを操作する際にはFileクラスを使用します。\n",
    "\n",
    "読み込む際にはFileReader,FileInputStreamクラス、書き込む際にはFileWriter,FileOutputStreamクラスを使用します。\n",
    "\n",
    "Fileクラスでは、以下の操作をできます。<br>\n",
    "- ファイルを新規に作成する<br>\n",
    "- ファイル名を変更する<br>\n",
    "- ファイルを移動する<br>\n",
    "- ファイルを閉じる<br>\n",
    "- ファイルの読み込み可否判定<br>\n",
    "- ファイルの書き込み可否判定<br>\n",
    "- ディレクトリ・ファイルの存在を確認する<br>\n",
    "- ファイルリストを取得する<br>\n",
    "- ファイルを削除する<br>\n",
    "\n",
    "本ページではjava.io.Fileを使用した操作ですが、NEW I/O APIを使用した操作は[こちら](01-10_File_nio.ipynb)です。"
   ]
  },
  {
   "cell_type": "markdown",
   "metadata": {},
   "source": [
    "# Fileクラス"
   ]
  },
  {
   "cell_type": "markdown",
   "metadata": {},
   "source": [
    "## ファイルを新規に作成する\n",
    "ファイルを作成するにはFileクラスのcreateNewFileメソッドを使用します。\n",
    "すでに同じファイル名のファイルが存在する場合は作成に失敗します。"
   ]
  },
  {
   "cell_type": "code",
   "execution_count": null,
   "metadata": {},
   "outputs": [],
   "source": [
    "// 作成するファイル名を指定する\n",
    "File file = new File(\"./1_10_file_createFile.txt\");\n",
    "\n",
    "// すでに同じファイル名が存在する場合は失敗する\n",
    "if (file.createNewFile()){\n",
    "    System.out.println(\"ファイル \" + file + \" の作成成功\");\n",
    "}else{\n",
    "    System.out.println(\"ファイル \" +file + \" の作成失敗\");\n",
    "}"
   ]
  },
  {
   "cell_type": "markdown",
   "metadata": {},
   "source": [
    "## ファイル名の変更・ファイルの移動をする\n",
    "ファイル名を変更や移動を行うには、FileクラスのrenameToメソッドを使用します。ファイルが存在しなかった場合、変更に失敗します。"
   ]
  },
  {
   "cell_type": "code",
   "execution_count": null,
   "metadata": {},
   "outputs": [],
   "source": [
    "// ファイル名を変更するファイルの指定\n",
    "File inFile = new File(\"./1_10_file_createFile.txt\");\n",
    "// 変更後のファイル名の指定 例えば \"\"../1_10_file_createFile.txt\"などとすれば、1つ上の階層に移動できる\n",
    "File outFile = new File(\"./1_10_file_renamedFile.txt\");\n",
    "\n",
    "// 変更するファイルが存在しなかった場合失敗する\n",
    "if (inFile.renameTo(outFile)) {\n",
    "    System.out.println(inFile + \"から\" + outFile + \"に変更しました\");\n",
    "} else {\n",
    "    System.out.println(inFile + \"から\" + outFile + \"への変更に失敗しました\");\n",
    "}"
   ]
  },
  {
   "cell_type": "markdown",
   "metadata": {},
   "source": [
    "## ファイルの読み込み可否判定\n",
    "ファイルを読み込む際には権限がないなどに理由で読み込みに失敗することがあります。<br>\n",
    "canReadメソッドを使用することでファイルを読み込むことができるかを事前に知ることができます。"
   ]
  },
  {
   "cell_type": "code",
   "execution_count": null,
   "metadata": {},
   "outputs": [],
   "source": [
    "File file = new File(\"./1_10_file_renamedFile.txt\");\n",
    " \n",
    "//ファイルの読み込み可否判定\n",
    "if (file.canRead()){\n",
    "    System.out.println(file + \"は読み込み可\");\n",
    "}else{\n",
    "    System.out.println(file + \"は読み込み不可\");\n",
    "}"
   ]
  },
  {
   "cell_type": "markdown",
   "metadata": {},
   "source": [
    "## ファイルへの書き込み可否判定\n",
    "ファイルの読み込みと同様、権限がないなどの理由で書き込みに失敗することがあります。<br>\n",
    "canWriteメソッドを使用することでファイルに書き込むことができるかを事前に知ることができます。"
   ]
  },
  {
   "cell_type": "code",
   "execution_count": null,
   "metadata": {},
   "outputs": [],
   "source": [
    "File file = new File(\"./1_10_file_renamedFile.txt\");\n",
    " \n",
    "//ファイルの書き込み可否判定\n",
    "if (file.canWrite()){\n",
    "    System.out.println(file + \"は書き込み可\");\n",
    "}else{\n",
    "    System.out.println(file + \"は書き込み不可\");\n",
    "}"
   ]
  },
  {
   "cell_type": "markdown",
   "metadata": {},
   "source": [
    "## ディレクトリ・ファイルの存在を確認する\n",
    "指定したディレクトリやファイルが存在するか確認するにはexistsメソッドを使用します。"
   ]
  },
  {
   "cell_type": "code",
   "execution_count": null,
   "metadata": {},
   "outputs": [],
   "source": [
    "File file = new File(\"./1_10_file_renamedFile.txt\");\n",
    "        \n",
    "//ディレクトリ、ファイルの存在を確認する\n",
    "if (file.exists()){\n",
    "    System.out.println(file + \"は存在する\");\n",
    "}else{\n",
    "    System.out.println(file + \"は存在しない\");\n",
    "}        "
   ]
  },
  {
   "cell_type": "markdown",
   "metadata": {},
   "source": [
    "## ファイルリストを取得する\n",
    "指定したディレクトリのファイルの一覧を取得するにはlistFilesメソッドを使用します。"
   ]
  },
  {
   "cell_type": "code",
   "execution_count": null,
   "metadata": {},
   "outputs": [],
   "source": [
    "// カレントディレクトリを指定する\n",
    "File dir = new File(\"./\");\n",
    "        \n",
    "// listFilesメソッドを使用して一覧を取得する\n",
    "File[] fileList = dir.listFiles();\n",
    "int i = 0;\n",
    "while(i != fileList.length){\n",
    "    System.out.println(fileList[i]);\n",
    "    i++;\n",
    "}"
   ]
  },
  {
   "cell_type": "markdown",
   "metadata": {},
   "source": [
    "## ファイルを削除する\n",
    "ファイルを削除するにはdeleteメソッドを使用します。ファイルの削除権限がない場合やファイルが存在しない場合は失敗(falseを返却)します。"
   ]
  },
  {
   "cell_type": "code",
   "execution_count": null,
   "metadata": {},
   "outputs": [],
   "source": [
    "File file = new File(\"./1_10_file_renamedFile.txt\");\n",
    "if(file.delete()){\n",
    "    System.out.println(file + \"の削除に成功しました\");\n",
    "}else{\n",
    "    System.out.println(file + \"の削除に失敗しました\");\n",
    "}"
   ]
  },
  {
   "cell_type": "markdown",
   "metadata": {},
   "source": [
    "## ファイルに書き込む、読み込む、閉じる\n",
    "ファイルに書き込み、読み込みをする方法は複数あります。<br>\n",
    "また、Javaでファイルに書き込み、読み込みなどの処理が終了したら、必ずcloseメソッドでファイル処理を終了する必要があります。\n",
    "closeメソッドを使用することで、ファイル処理のために確保されていたリソースが解放されます。\n",
    "途中で例外が発生しても確実にファイルを閉じるためにtry/finallyで囲っています。  \n",
    "\n",
    "try-with-resource形式で記載することで、finallyブロックでcloseメソッドを呼び出さなくても自動でcloseをしてくれるようになります。  \n",
    "両方記載するので見比べてみましょう。[詳細はこちら](./01-05_Exception.ipynb)"
   ]
  },
  {
   "cell_type": "markdown",
   "metadata": {},
   "source": [
    "## ファイルに書き込む \n",
    "\n",
    "### FileWriterを使用する\n",
    "FileWriterクラスでファイルに書き込む際には厳密にはFileWriterクラス、BufferedWriterクラス、PrintWriterクラスを使用します。"
   ]
  },
  {
   "cell_type": "code",
   "execution_count": null,
   "metadata": {},
   "outputs": [],
   "source": [
    "FileWriter fw = null;\n",
    "PrintWriter pw = null;\n",
    "\n",
    "try{\n",
    "    // FileWriterクラスのオブジェクトを生成する\n",
    "    fw = new FileWriter(\"./1_10_file_fileWriter.txt\");\n",
    "    // PrintWriterクラスのオブジェクトを生成する \n",
    "    pw = new PrintWriter(new BufferedWriter(fw));\n",
    "            \n",
    "    // ファイルに書き込む\n",
    "    pw.println(\"java\");\n",
    "    pw.println(\"study\");\n",
    "    pw.println(\"writeFile\");\n",
    "}catch (Exception e){\n",
    "    e.getStackTrace();\n",
    "}finally{\n",
    "    // ファイルを閉じる\n",
    "    pw.close();\n",
    "    fw.close();\n",
    "}"
   ]
  },
  {
   "cell_type": "markdown",
   "metadata": {},
   "source": [
    "また上記の場合、元々存在するファイルに上書きする処理になります。\n",
    "追記する場合は以下の様にfileWriterのインスタンス化時の第2引数にtrueを指定します。\n",
    "\n",
    "FileWriter fw = new FileWriter(“./1_10_file_fileWriter.txt”, true);\n",
    "\n",
    "上記の処理をtry-with-resource形式で記載してみます。"
   ]
  },
  {
   "cell_type": "code",
   "execution_count": null,
   "metadata": {},
   "outputs": [],
   "source": [
    "try(FileWriter fw = new FileWriter(\"./1_10_file_fileWriter.txt\",true); // 追記\n",
    "    PrintWriter pw = new PrintWriter(new BufferedWriter(fw))){\n",
    "    // ファイルに書き込む\n",
    "    pw.println(\"java\");\n",
    "    pw.println(\"study\");\n",
    "    pw.println(\"writeFile\");\n",
    "}catch (Exception e){\n",
    "    e.getStackTrace();\n",
    "}"
   ]
  },
  {
   "cell_type": "markdown",
   "metadata": {},
   "source": [
    "### FileOutputStreamを使用する\n",
    "FileOutputStreamクラスを使用してファイルに書き込む際はバイトコードで書き込みます。\n",
    "以下プログラムで「JAVA」とファイルに書き込んでみましょう。"
   ]
  },
  {
   "cell_type": "code",
   "execution_count": null,
   "metadata": {},
   "outputs": [],
   "source": [
    "FileOutputStream fos = null;\n",
    "\n",
    "try{\n",
    "    fos = new FileOutputStream(\"./1_10_file_fileOutputStream.txt\");\n",
    "    byte b1 = 74; //ASCII：(J)\n",
    "    byte b2 = 65; //ASCII：(A)\n",
    "    byte b3 = 86; //ASCII：(V)\n",
    "    byte b4 = 65; //ASCII：(A)       \n",
    "    // 文字をバッファに保存する\n",
    "    fos.write(b1);\n",
    "    fos.write(b2);\n",
    "    fos.write(b3);\n",
    "    fos.write(b4);\n",
    " \n",
    "    //ファイルに書き込む\n",
    "    fos.flush();\n",
    "}catch (Exception e){\n",
    "    e.getStackTrace();\n",
    "}finally{\n",
    "    //ファイルを閉じる\n",
    "    fos.close();\n",
    "}"
   ]
  },
  {
   "cell_type": "markdown",
   "metadata": {},
   "source": [
    "上記の処理をtry-with-resource形式で記載してみます。"
   ]
  },
  {
   "cell_type": "code",
   "execution_count": null,
   "metadata": {},
   "outputs": [],
   "source": [
    "try(FileOutputStream fos = new FileOutputStream(\"./1_10_file_fileOutputStream.txt\")){\n",
    "    byte b1 = 74; //ASCII：(J)\n",
    "    byte b2 = 65; //ASCII：(A)\n",
    "    byte b3 = 86; //ASCII：(V)\n",
    "    byte b4 = 65; //ASCII：(A)\n",
    "    // 文字をバッファに保存する\n",
    "    fos.write(b1);\n",
    "    fos.write(b2);\n",
    "    fos.write(b3);\n",
    "    fos.write(b4);\n",
    "\n",
    "    //ファイルに書き込む\n",
    "    fos.flush();\n",
    "}catch (Exception e){\n",
    "    e.getStackTrace();\n",
    "}"
   ]
  },
  {
   "cell_type": "markdown",
   "metadata": {},
   "source": [
    "## ファイルを読み込む"
   ]
  },
  {
   "cell_type": "markdown",
   "metadata": {},
   "source": [
    "### FileInputStreamを使用する\n",
    "厳密にはFileInputStreamクラスとInputStreamReaderクラスを使用します。"
   ]
  },
  {
   "cell_type": "code",
   "execution_count": null,
   "metadata": {},
   "outputs": [],
   "source": [
    "// 読み込むファイルを指定\n",
    "FileInputStream fIS = null;\n",
    "InputStreamReader iSR = null;\n",
    "\n",
    "try{\n",
    "    fIS= new FileInputStream(\"./1_10_file_fileOutputStream.txt\");\n",
    "    // InputStreamReaderに渡す、文字コードも指定する\n",
    "    iSR = new InputStreamReader(fIS, \"UTF-8\");\n",
    "    \n",
    "    // InputStreamReaderクラスのreadメソッドで1文字ずつ読み込む\n",
    "    int data;\n",
    "    while ((data = iSR.read()) != -1) {\n",
    "            System.out.println((char)data);\n",
    "    }\n",
    "    \n",
    "}catch (Exception e){\n",
    "    e.getStackTrace();\n",
    "}finally {\n",
    "    // ファイルを閉じる\n",
    "    iSR.close();\n",
    "    fIS.close();\n",
    "}"
   ]
  },
  {
   "cell_type": "markdown",
   "metadata": {},
   "source": [
    "J<br>\n",
    "A<br>\n",
    "V<br>\n",
    "A<br>\n",
    "と読み込めたのがわかります。  \n",
    "上記の処理をtry-with-resource形式で記載してみます。"
   ]
  },
  {
   "cell_type": "code",
   "execution_count": null,
   "metadata": {},
   "outputs": [],
   "source": [
    "try (FileInputStream fIS= new FileInputStream(\"./1_10_file_fileOutputStream.txt\");\n",
    "    // InputStreamReaderに渡す、文字コードも指定する\n",
    "    InputStreamReader iSR = new InputStreamReader(fIS, \"UTF-8\")) {\n",
    "\n",
    "    // InputStreamReaderクラスのreadメソッドで1文字ずつ読み込む\n",
    "    int data;\n",
    "    while ((data = iSR.read()) != -1) {\n",
    "        System.out.println((char)data);\n",
    "    }\n",
    "\n",
    "} catch (Exception e) {\n",
    "    e.printStackTrace();\n",
    "}"
   ]
  },
  {
   "cell_type": "markdown",
   "metadata": {},
   "source": [
    "### FileReaderを使用する\n",
    "FileReaderでファイルを読み込む際にはFileクラスのオブジェクトを指定します。\n",
    "先程書き込んだファイルを読み込んでみましょう。"
   ]
  },
  {
   "cell_type": "code",
   "execution_count": null,
   "metadata": {},
   "outputs": [],
   "source": [
    "File file = new File(\"./1_10_file_fileWriter.txt\");\n",
    "\n",
    "FileReader fileReader = null;\n",
    "\n",
    "try{ \n",
    "    // ファイルを読み込む\n",
    "    fileReader = new FileReader(file);\n",
    "\n",
    "    // filereaderクラスのreadメソッドでファイルを1文字ずつ読み込む\n",
    "    int data;\n",
    "    while((data = fileReader.read()) != -1) {\n",
    "            System.out.print((char) data);\n",
    "    }\n",
    "}catch (Exception e){\n",
    "    e.getStackTrace();\n",
    "}finally {\n",
    "    // ファイルを閉じる\n",
    "    fileReader.close();\n",
    "}"
   ]
  },
  {
   "cell_type": "markdown",
   "metadata": {},
   "source": [
    "java<br>\n",
    "study<br>\n",
    "writeFile<br>\n",
    "という文字列が読み込めたのがわかります。  \n",
    "上記の処理をtry-with-resource形式で記載してみます。"
   ]
  },
  {
   "cell_type": "code",
   "execution_count": null,
   "metadata": {},
   "outputs": [],
   "source": [
    "File file = new File(\"./1_10_file_fileWriter.txt\");\n",
    "// ファイルを読み込む\n",
    "try(FileReader fileReader = new FileReader(file)){\n",
    "    // filereaderクラスのreadメソッドでファイルを1文字ずつ読み込む\n",
    "    int data;\n",
    "    while((data = fileReader.read()) != -1) {\n",
    "        System.out.print((char) data);\n",
    "    }\n",
    "}catch (Exception e){\n",
    "    e.getStackTrace();\n",
    "}"
   ]
  },
  {
   "cell_type": "markdown",
   "metadata": {},
   "source": [
    "上記例ではバイトコードを1文字ずつ取得していましたが、\n",
    "BufferedReaderクラスを使用すれば行ごとに取得することもできます。"
   ]
  },
  {
   "cell_type": "code",
   "execution_count": null,
   "metadata": {},
   "outputs": [],
   "source": [
    "File file = new File(\"./1_10_file_fileWriter.txt\");\n",
    "FileReader fileReader = null;\n",
    "BufferedReader br = null;\n",
    "\n",
    "try{ \n",
    "    // ファイルを読み込む\n",
    "    fileReader = new FileReader(file);\n",
    "    br = new BufferedReader(fileReader);\n",
    "    String data;\n",
    "    // 1行ごとに読み込んで出力する\n",
    "    while((data = br.readLine()) != null){\n",
    "        System.out.println(data);\n",
    "    }\n",
    "    \n",
    "}catch (Exception e){\n",
    "    e.getStackTrace();\n",
    "}finally {\n",
    "    // ファイルを閉じる\n",
    "    br.close();\n",
    "    fileReader.close();\n",
    "}"
   ]
  },
  {
   "cell_type": "markdown",
   "metadata": {},
   "source": [
    "1行ずつ読み込むことができました。  \n",
    "上記の処理をtry-with-resource形式で記載してみます。"
   ]
  },
  {
   "cell_type": "code",
   "execution_count": null,
   "metadata": {},
   "outputs": [],
   "source": [
    "File file = new File(\"./1_10_file_fileWriter.txt\");\n",
    "// ファイルを読み込む\n",
    "try(FileReader fileReader = new FileReader(file);\n",
    "    BufferedReader br = new BufferedReader(fileReader)) {\n",
    "    String data;\n",
    "    // 1行ごとに読み込んで出力する\n",
    "    while((data = br.readLine()) != null){\n",
    "        System.out.println(data);\n",
    "    }\n",
    "}catch (Exception e){\n",
    "    e.getStackTrace();\n",
    "}"
   ]
  },
  {
   "cell_type": "markdown",
   "metadata": {},
   "source": [
    " # 問題1\n",
    " 先程作成して書き込みを行った1_10_file_fileOutputStream.txt、1_10_file_fileWriter.txtの2つのファイルに「practice1」という文字列を`追記`して表示してみましょう。"
   ]
  },
  {
   "cell_type": "code",
   "execution_count": null,
   "metadata": {},
   "outputs": [],
   "source": []
  },
  {
   "cell_type": "markdown",
   "metadata": {},
   "source": [
    "# 問題2\n",
    "今回作成した1_10_file_fileOutputStream.txt、1_10_file_fileWriter.txtを削除してみましょう。"
   ]
  },
  {
   "cell_type": "code",
   "execution_count": null,
   "metadata": {},
   "outputs": [],
   "source": []
  }
 ],
 "metadata": {
  "kernelspec": {
   "display_name": "Java",
   "language": "java",
   "name": "java"
  },
  "language_info": {
   "codemirror_mode": "java",
   "file_extension": ".jshell",
   "mimetype": "text/x-java-source",
   "name": "Java",
   "pygments_lexer": "java",
   "version": "11.0.6+10-LTS"
  }
 },
 "nbformat": 4,
 "nbformat_minor": 4
}
