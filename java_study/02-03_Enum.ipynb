{
 "cells": [
  {
   "cell_type": "markdown",
   "metadata": {},
   "source": [
    "# Enum(列挙型)\n",
    "\n",
    "複数の定数をひとつにまとめておくことができる型のことをいいます。<br>\n",
    "Enumではいくつかのメソッドが標準で実装されています。<br>\n",
    "百聞は一見に如かずということでまずはenumの記述例を見てみましょう"
   ]
  },
  {
   "cell_type": "code",
   "execution_count": null,
   "metadata": {},
   "outputs": [],
   "source": [
    "enum Param {\n",
    "    MAX,\n",
    "    MIN,\n",
    "    AVE\n",
    "};\n",
    "\n",
    "System.out.println(Param.MAX);"
   ]
  },
  {
   "cell_type": "markdown",
   "metadata": {},
   "source": [
    "このようにenum型で定義したのちに、アクセスできます。\n",
    "\n",
    "### 主要なメソッド"
   ]
  },
  {
   "cell_type": "markdown",
   "metadata": {},
   "source": [
    "### name()\n",
    "定義した列挙子を文字列で返します。"
   ]
  },
  {
   "cell_type": "code",
   "execution_count": null,
   "metadata": {},
   "outputs": [],
   "source": [
    "System.out.println(Param.MAX.name());"
   ]
  },
  {
   "cell_type": "markdown",
   "metadata": {},
   "source": [
    "### valueOf()\n",
    "定義した定数の中から一致した列挙子を返します。"
   ]
  },
  {
   "cell_type": "code",
   "execution_count": null,
   "metadata": {},
   "outputs": [],
   "source": [
    "System.out.println(Param.valueOf(\"MAX\"));"
   ]
  },
  {
   "cell_type": "markdown",
   "metadata": {},
   "source": [
    "### values()\n",
    "定義した列挙子すべてを返します"
   ]
  },
  {
   "cell_type": "code",
   "execution_count": null,
   "metadata": {},
   "outputs": [],
   "source": [
    "for(Param param : Param.values()){\n",
    "    System.out.println(param);\n",
    "}"
   ]
  },
  {
   "cell_type": "markdown",
   "metadata": {},
   "source": [
    "## フィールド、コンストラクタ、メソッド\n",
    "また、Enumはクラスなので以下のようにフィールドやコンストラクタ、メソッドも実装できます。<br>\n",
    "これらを実装することで先程紹介したvalueOfメソッドなどが活きてきます。"
   ]
  },
  {
   "cell_type": "code",
   "execution_count": null,
   "metadata": {},
   "outputs": [],
   "source": [
    "enum Numbers {\n",
    "    MAX(90000, \"最大値\"),\n",
    "    MIN(0, \"最小値\"),\n",
    "    AVE(45000, \"平均値\");\n",
    "    \n",
    "    // フィールドの定義\n",
    "    private int value;\n",
    "    private String str;\n",
    "    // コンストラクタの定義\n",
    "    private Numbers(int value, String str) {\n",
    "        this.value = value;\n",
    "        this.str = str;\n",
    "    }\n",
    "    \n",
    "    public int getValue(){\n",
    "        return this.value;\n",
    "    }\n",
    "    \n",
    "    public String getStr(){\n",
    "        return this.str;\n",
    "    }\n",
    "}\n",
    "\n",
    "for( Numbers number: Numbers.values()){\n",
    "    System.out.println(number.getStr() + \":\" + number.getValue());\n",
    "}\n",
    "\n"
   ]
  },
  {
   "cell_type": "markdown",
   "metadata": {},
   "source": [
    "それぞれ列挙子の()内に定数を記述し、フィールド、コンストラクタ、メソッドを定義します。<br>\n",
    "すると、列挙子に割り振った複数のフィールドにアクセスすることができます。\n",
    "\n",
    "このように、種類ごとの定数を定義することができます。"
   ]
  },
  {
   "cell_type": "markdown",
   "metadata": {},
   "source": [
    "## 普通のクラスと何が違うのか\n",
    "勘の良い人は、普通のクラスと特にそこまで変わらなくないか？<br>\n",
    "と思うかもしれませんが、Enum型はインスタンス化できません。<br>\n",
    "ためしに以下を実行してみましょう"
   ]
  },
  {
   "cell_type": "code",
   "execution_count": null,
   "metadata": {},
   "outputs": [],
   "source": [
    "enum Members{\n",
    "    UEDA,\n",
    "    KANDA,\n",
    "    HONDA\n",
    "}\n",
    "\n",
    "Members members = new Members();"
   ]
  },
  {
   "cell_type": "markdown",
   "metadata": {},
   "source": [
    "列挙型はインスタンス化できませんと表示されたと思います。\n",
    "列挙型はインスタンスを作成することができないからこそ、Enumの各インスタンスはプログラムの中で1つしかないことが保証される「定数」として扱えます。"
   ]
  }
 ],
 "metadata": {
  "kernelspec": {
   "display_name": "Java",
   "language": "java",
   "name": "java"
  },
  "language_info": {
   "codemirror_mode": "java",
   "file_extension": ".jshell",
   "mimetype": "text/x-java-source",
   "name": "Java",
   "pygments_lexer": "java",
   "version": "11.0.6+10-LTS"
  }
 },
 "nbformat": 4,
 "nbformat_minor": 4
}
