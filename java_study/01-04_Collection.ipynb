{
 "cells": [
  {
   "cell_type": "markdown",
   "metadata": {},
   "source": [
    "# コレクション\n",
    "コレクションとは要素を集めたオブジェクトのことです。  \n",
    "コレクションは集められたデータを保存し、検索し、処理し、問い合わせに応えます。  \n",
    "大きさが決まっていないため、必要な分の数だけデータを格納することができます。\n",
    "\n",
    "## コレクション・フレームワーク\n",
    "コレクションには下記のように用途に応じて主に3種類が用意されています。\n",
    "- リスト(List)　順序通りに並べて格納\n",
    "- マップ(Map)　ペアで対応づけて格納   \n",
    "- セット(Set)　順序があるとは限らず格納\n",
    "\n",
    "<img src=\"./image/collection.png\">  \n",
    "\n",
    "このように種類が用意され柔軟に扱うことを考えられているのがコレクション・フレームワークです。  \n",
    "コレクション・フレームワークは1つのクラスだけでなく、多くのクラスとインターフェースから構成されています。  \n",
    "\n",
    "それぞれのフレームワークの使用例を見ていきましょう。"
   ]
  },
  {
   "cell_type": "markdown",
   "metadata": {},
   "source": [
    "## 1.List\n",
    "Listは[こちら](./01-03_List.ipynb)を参照\n",
    "\n",
    "## 2.Map\n",
    "HashMapでは格納する値をキーに紐付けして操作をします。  \n",
    "<img src=\"./image/hashmap.png\">  \n",
    "- 1つの変数で複数の「キー」と「値」を保持できます。\n",
    "- キーは任意の文字列を使うことができます。連想配列といえます。\n",
    "  →連想配列とは添字(キー)に文字列を使用できる配列です。\n",
    "- キーは一意です。重複は許されません。\n",
    "- キーが異なれば同じ値を格納できます。\n",
    "  しかし、キーが同じ場合は、最後に格納された値で前の値が上書きされます。  \n",
    "- キーの順序は保証されません。（←LinkedHashMap、TreeMapと違う点)"
   ]
  },
  {
   "cell_type": "code",
   "execution_count": null,
   "metadata": {},
   "outputs": [],
   "source": [
    "// 社員HashMapを生成\n",
    "HashMap<String, String> directionMap = new HashMap<String, String>(); // HashMapのオブジェクト生成\n",
    "\n",
    "directionMap.put(\"east\", \"東\");    // 要素追加\n",
    "directionMap.put(\"west\", \"西\");    // 要素追加\n",
    "directionMap.put(\"south\", \"南\");   // 要素追加\n",
    "directionMap.put(\"north\", \"北\");   // 要素追加\n",
    "\n",
    "System.out.println(\"eastをキーに持つ値:\" + directionMap.get(\"east\"));   // 要素取得\n",
    "System.out.println(\"testをキーに持つ値:\" + directionMap.get(\"test\"));   // 要素取得(存在しない)\n",
    "\n",
    "// キーの存在確認\n",
    "System.out.println(\"westはキーとして存在する:\" + directionMap.containsKey(\"west\"));\n",
    "\n",
    "// キーの一覧を取得する(Setなので順番は保障されない)\n",
    "for(String key : directionMap.keySet()) {\n",
    "    System.out.println(\"キー：\" + key);\n",
    "}"
   ]
  },
  {
   "cell_type": "markdown",
   "metadata": {},
   "source": [
    "## 3.Set\n",
    "上記HashMapのKeySetで出力をしたようにSetは要素の格納順を意識しないで管理するコレクションクラスです。  \n",
    "<img src=\"./image/hashset.png\">  \n",
    "-　1つの変数で複数の値を保持できます。  \n",
    "-　値の重複が許されていません。  \n",
    "-　順序は保証されていません。  \n",
    "-　要素の追加や検索は速いです。  "
   ]
  },
  {
   "cell_type": "code",
   "execution_count": null,
   "metadata": {},
   "outputs": [],
   "source": [
    "Set<String> sweetsSet = new HashSet<>();  // HashSetのオブジェクト生成\n",
    "\n",
    "sweetsSet.add(\"cake\");       // 要素追加\n",
    "sweetsSet.add(\"chocolate\");  // 要素追加\n",
    "sweetsSet.add(\"cookie\");     // 要素追加\n",
    "\n",
    "for (String name : sweetsSet) {\n",
    "    System.out.println(name); // 登録した順番に出力される保障はない\n",
    "}\n",
    "\n",
    "System.out.println(\"cookieが存在する：\" + sweetsSet.contains(\"cookie\"));"
   ]
  },
  {
   "cell_type": "markdown",
   "metadata": {},
   "source": [
    "# 問題\n",
    "\n",
    "以下の流れの内容のソースを書いてみましょう  \n",
    "\n",
    "1. HashMapクラスのオブジェクト、employeeMapを生成する。    \n",
    "1. employeeMapにキー：「0001」値：「Mike」を追加する。  \n",
    "1. employeeMapにキー：「0002」値：「John」を追加する。    \n",
    "1. employeeMapにキー：「0003」値：「Lucy」を追加する。  \n",
    "1. employeeMapのキー一覧を表示する。\n",
    "1. employeeMapの値一覧を表示する。\n",
    "1. 取得したキーの一覧を用いてすべてのキーと値をひとつずつ取得して表示する。\n"
   ]
  },
  {
   "cell_type": "code",
   "execution_count": null,
   "metadata": {},
   "outputs": [],
   "source": []
  },
  {
   "cell_type": "markdown",
   "metadata": {},
   "source": [
    "# 問題\n",
    "\n",
    "[郵便番号データダウンロード](https://www.post.japanpost.jp/zipcode/dl/kogaki-zip.html)より、全国の郵便番号と住所のデータを取得し、プログラム上でデータを解析・データを保持して、郵便番号が入力されると住所を返却するプログラムを作成したい。\n",
    "\n",
    "以下のクラスを実装する。\n",
    "\n",
    "- 初期処理（コンストラクタに実装）\n",
    "  - CSVファイルを読み込んでデータを保持する\n",
    "- メイン\n",
    "  - 1. 以下を繰り返す\n",
    "  - 1.1 標準入力から入力を待ち受ける\n",
    "  - 1.2 入力を郵便番号とし、対応する住所を表示する。\n",
    "\n",
    "以下の２つのバージョンで作成する。\n",
    "* 配列にデータを格納するバージョン\n",
    "* Mapでデータを保持するバージョン\n",
    "\n",
    "上記の２つで、住所を表示するまでの時間差を比較してみる。\n"
   ]
  },
  {
   "cell_type": "code",
   "execution_count": null,
   "metadata": {},
   "outputs": [],
   "source": []
  }
 ],
 "metadata": {
  "kernelspec": {
   "display_name": "Java",
   "language": "java",
   "name": "java"
  },
  "language_info": {
   "codemirror_mode": "java",
   "file_extension": ".jshell",
   "mimetype": "text/x-java-source",
   "name": "Java",
   "pygments_lexer": "java",
   "version": "11.0.6+10-LTS"
  }
 },
 "nbformat": 4,
 "nbformat_minor": 4
}
