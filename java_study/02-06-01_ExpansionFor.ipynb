{
 "cells": [
  {
   "cell_type": "markdown",
   "metadata": {},
   "source": [
    "# 拡張for文\n",
    "\n",
    "拡張for文を用いることで一般的なfor文と比べ、コンパクトに記述できるようになりました。  \n",
    "一般的なfor文は以下の様に記述します。"
   ]
  },
  {
   "cell_type": "code",
   "execution_count": null,
   "metadata": {},
   "outputs": [],
   "source": [
    "int data[] = {1, 2, 3, 4, 5, 6, 7, 8, 9, 10};\n",
    "\n",
    "for (int i = 0; i < data.length; i++) {\n",
    "    System.out.println(data[i]);\n",
    "}"
   ]
  },
  {
   "cell_type": "markdown",
   "metadata": {},
   "source": [
    "ここで、上記のfor文を拡張for文を用いて記述すると以下の様に記述できます。"
   ]
  },
  {
   "cell_type": "code",
   "execution_count": null,
   "metadata": {},
   "outputs": [],
   "source": [
    "int data[] = {1, 2, 3, 4, 5, 6, 7, 8, 9, 10};\n",
    "\n",
    "for (int num : data) {\n",
    "    System.out.println(num);\n",
    "}"
   ]
  },
  {
   "cell_type": "markdown",
   "metadata": {},
   "source": [
    "配列内の全ての要素に対して繰り返し処理を行う際に記述が楽になりますが、<br>\n",
    "for文内でインデックスを取得する場合には工夫が必要になったり、<br>\n",
    "処理を行いたくない要素に対しても処理を行うことになってしまう点がデメリットです。"
   ]
  },
  {
   "cell_type": "markdown",
   "metadata": {},
   "source": [
    "## 拡張for文でインデックスを扱いたい場合の工夫"
   ]
  },
  {
   "cell_type": "markdown",
   "metadata": {},
   "source": [
    "### 変数を宣言する\n",
    "\n",
    "拡張for文の外で変数を定義し、拡張for文内でインクリメントする方法です。"
   ]
  },
  {
   "cell_type": "code",
   "execution_count": null,
   "metadata": {},
   "outputs": [],
   "source": [
    "int data[] = {1, 2, 3, 4, 5, 6, 7, 8, 9, 10};\n",
    "int i = 0;\n",
    "for (int num : data) {\n",
    "    System.out.println(\"data[\" + i +\"] = \" + num);\n",
    "    i++;\n",
    "}"
   ]
  },
  {
   "cell_type": "markdown",
   "metadata": {},
   "source": [
    "### クラス内でインデックスを持つリストクラスをつくる\n",
    "独自クラス内でインデックス要素をもつフィールドを定義し、拡張for文内でインデックスと値を取得する。"
   ]
  },
  {
   "cell_type": "code",
   "execution_count": null,
   "metadata": {},
   "outputs": [],
   "source": [
    "class Data{\n",
    "    public static int indexCount = 0;\n",
    "    private int index;\n",
    "    private int value;\n",
    "    \n",
    "    Data(int value){\n",
    "        this.value = value;\n",
    "        this.index = this.indexCount;\n",
    "        this.indexCount++;\n",
    "    }\n",
    "    \n",
    "    public int getIndex(){\n",
    "        return this.index;\n",
    "    }\n",
    "    \n",
    "    public int getValue(){\n",
    "        return this.value;\n",
    "    }\n",
    "}\n",
    "\n",
    "Data data[] = {new Data(1), new Data(2), new Data(3), new Data(4), new Data(5), new Data(6), new Data(7), new Data(8), new Data(9), new Data(10)};\n",
    "\n",
    "for (Data num : data) {\n",
    "    System.out.println(\"data[\" + num.getIndex()  +\"] = \" + num.getValue());\n",
    "}"
   ]
  },
  {
   "cell_type": "markdown",
   "metadata": {},
   "source": [
    "上記の様に、Data型にインデックスと値を持たせて置き、拡張for文内でそれぞれのオブジェクトのインデックスと値を取得することができる。"
   ]
  },
  {
   "cell_type": "markdown",
   "metadata": {},
   "source": [
    "# 問題\n",
    "以下のプログラムと同じ出力をするプログラムを拡張for文で書きなおしてみましょう。\n",
    "data[]の順番を入れ替えてはいけません。\n",
    "\n",
    "```java\n",
    "int data[] = {10, 9, 8, 7, 6, 5, 4, 3, 2, 1};\n",
    "\n",
    "for (int i = 0; i < data.length; i++) {\n",
    "    System.out.println(\"data[\" + i + \"] = \" + data[i] );\n",
    "}\n",
    "```"
   ]
  },
  {
   "cell_type": "code",
   "execution_count": null,
   "metadata": {},
   "outputs": [],
   "source": []
  }
 ],
 "metadata": {
  "kernelspec": {
   "display_name": "Java",
   "language": "java",
   "name": "java"
  },
  "language_info": {
   "codemirror_mode": "java",
   "file_extension": ".jshell",
   "mimetype": "text/x-java-source",
   "name": "Java",
   "pygments_lexer": "java",
   "version": "11.0.6+10-LTS"
  }
 },
 "nbformat": 4,
 "nbformat_minor": 4
}
