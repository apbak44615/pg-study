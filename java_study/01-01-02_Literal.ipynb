{
 "cells": [
  {
   "cell_type": "markdown",
   "metadata": {},
   "source": [
    "# リテラル\n",
    "ソースコード内に値を直接表記したもの。  \n",
    "下記のコードの右辺で表現されている「30, 'A', true, 0.5d, 300.0d, \"文字列\", null」 がリテラルです。"
   ]
  },
  {
   "cell_type": "code",
   "execution_count": null,
   "metadata": {},
   "outputs": [],
   "source": [
    "int i = 30;\n",
    "char c = 'A';\n",
    "boolean b = true;\n",
    "double d = 0.5d + 300.0d;\n",
    "String s = \"文字列\";\n",
    "Object o = null;"
   ]
  },
  {
   "cell_type": "markdown",
   "metadata": {},
   "source": [
    "では以下のコードを実行してみます"
   ]
  },
  {
   "cell_type": "code",
   "execution_count": null,
   "metadata": {},
   "outputs": [],
   "source": [
    "System.out.println( \"i = \" + i );\n",
    "System.out.println( \"c = \" + c );\n",
    "System.out.println( \"b = \" + b );\n",
    "System.out.println( \"d = \" + d );\n",
    "System.out.println( \"s = \" + s );\n",
    "System.out.println( \"o = \" + o );"
   ]
  },
  {
   "cell_type": "markdown",
   "metadata": {},
   "source": [
    "実行結果で表示される値とソースコードのリテラルの間に少し違いがありますね。  \n",
    "  \n",
    "|ソースコード → 実行結果 |\n",
    "|---|\n",
    "|30 → 30 |\n",
    "|'A' → A (単一引用符が無くなった)|\n",
    "|true → true |\n",
    "|300.5d → 300.5 (末尾のdが無くなった)|\n",
    "|\"文字列\" → 文字列 (二重引用符が無くなった)|\n",
    "|null → null|\n",
    "  \n",
    "ソースコード中では型を特定して値を記述するためにリテラルを使用しますが、  \n",
    "それはあくまで ソースコード中の表現であって、実際の値とは多少異なることもあるということです。  \n",
    "（\"文字列\"というリテラルでは『文字列』という値を表現しているのであって、 『\"文字列\"』という値を表現しているのではありません。）\n"
   ]
  },
  {
   "cell_type": "markdown",
   "metadata": {},
   "source": [
    "## リテラルの種類\n",
    "|種別|型|詳細やサンプル|\n",
    "|:---|:---|:---|\n",
    "|整数|8進数|0365, 0[0..7, _]*|\n",
    "|　|16進数|0xF5, 0x[0..9, A..F, a..f, _]*|\n",
    "|　|10進数|245, [1..9][0..9, _]*|\n",
    "|浮動小数点数型|float|23.5F, 23.5f; 1.72E3F, 1.72E3f, 1.72e3F, 1.72e3f|\n",
    "|　|double|23.5, 23.5D, 23.5d; 1.72E3, 1.72E3D, ...|\n",
    "|文字リテラル|char|'a', 'Z', '\\u0231'|\n",
    "|文字列リテラル|String|\"Hello, world\"|\n",
    "|エスケープシーケンス|Unicode文字|\\uhhhh 16進数Unicode文字を表現するときに使用する|\n",
    "|　|Unicode文字|\\ooo 8進数Unicode文字を表現するときに使用する|\n",
    "|　|タブ文字|\\t|\n",
    "|　|後退 (Backspace) 文字|\\b|\n",
    "|　|キャリッジリターン (復帰文字)|\\r|\n",
    "|　|改ページ|\\f|\n",
    "|　|バックスラッシュ|\\\\|\n",
    "|　|シングルクォーテーション (単一引用符)|\\'|\n",
    "|　|ダブルクォーテーション (二重引用符)|\\\"|\n",
    "|　|ラインフィード (改行文字)|\\n|\n",
    "\n",
    "※上記の`\\`は半角の￥を示します"
   ]
  },
  {
   "cell_type": "markdown",
   "metadata": {},
   "source": [
    "## 範囲外の値を設定\n",
    "下記リテラル使用は`コンパイルエラーが発生するもの`を記載しています。  \n",
    "それぞれどのようなエラーが表示されるか、確認対象行のコメントをはずして実行してみましょう。  \n",
    "また、エラーを発生させないようにするためにはどのように書き換えればよいか実行して試してみましょう。"
   ]
  },
  {
   "cell_type": "code",
   "execution_count": null,
   "metadata": {},
   "outputs": [],
   "source": [
    "class Sample2{\n",
    "  public static void main(){\n",
    "    /* -----数値範囲外----- */\n",
    "     int b = 300;\n",
    "     int s = 50000;\n",
    "     int i = 6500000000l;\n",
    "      \n",
    "    /* -----long型とfloat型-----\n",
    "     long型で整数（20億を超えるような数値）を扱う際やfloat型で小数を扱う場合は、数値の後にLやFをつけなければならない */\n",
    "//       long e = 3000000000;\n",
    "//       float f = 1.08;\n",
    "      \n",
    "    /* -----文字列-----\n",
    "     文字型の値は’（シングルクォーテーション）で囲まなければならない */\n",
    "//       char c = A;\n",
    "  }\n",
    "}\n",
    "new Sample2().main();"
   ]
  },
  {
   "cell_type": "markdown",
   "metadata": {},
   "source": [
    "# 問題\n",
    "リテラルを使用して変数に値を設定して出力する。"
   ]
  },
  {
   "cell_type": "code",
   "execution_count": null,
   "metadata": {},
   "outputs": [],
   "source": []
  }
 ],
 "metadata": {
  "kernelspec": {
   "display_name": "Java",
   "language": "java",
   "name": "java"
  },
  "language_info": {
   "codemirror_mode": "java",
   "file_extension": ".jshell",
   "mimetype": "text/x-java-source",
   "name": "Java",
   "pygments_lexer": "java",
   "version": "11.0.6+10-LTS"
  }
 },
 "nbformat": 4,
 "nbformat_minor": 4
}
