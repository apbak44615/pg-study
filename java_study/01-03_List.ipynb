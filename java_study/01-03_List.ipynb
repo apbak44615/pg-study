{
 "cells": [
  {
   "cell_type": "markdown",
   "metadata": {},
   "source": [
    "# 配列とList\n",
    "\n",
    "特徴がよく似ている両者の違いを見てみましょう。  \n",
    "両方とも要素を入れるための入れ物を生成します。  \n",
    "<img src=\"./image/list.png\">  \n",
    "配列は入れ物の大きさを決めなければならないため、一度配列の大きさを決めるとそれ以後変更できません。  "
   ]
  },
  {
   "cell_type": "code",
   "execution_count": null,
   "metadata": {},
   "outputs": [],
   "source": [
    "// 配列\n",
    "String[] dataList = new String[3];\n",
    "dataList[0] = \"A\";\n",
    "dataList[1] = \"B\";\n",
    "System.out.println(\"dataList[0] = \" + dataList[0]);\n",
    "System.out.println(\"dataList[1] = \" + dataList[1]);\n",
    "System.out.println(\"dataList[2] = \" + dataList[2]);"
   ]
  },
  {
   "cell_type": "markdown",
   "metadata": {},
   "source": [
    "Listは要素の大きさは可変です。  \n",
    "ArrayListクラスはListインターフェースを実装しているため、Listインターフェイスにあるメソッドを使用できます。  \n",
    "配列ではString[]でしたがArrayListではArrayList<String>のように記述します。  \n",
    "またArrayList<String>の部分はArrayList<HogeHoge>のように好きなオブジェクトを格納することができます。"
   ]
  },
  {
   "cell_type": "code",
   "execution_count": null,
   "metadata": {},
   "outputs": [],
   "source": [
    "// List\n",
    "List<String> dataList = new ArrayList<String>();\n",
    "dataList.add(\"A\");\n",
    "dataList.add(\"B\");\n",
    "dataList.add(\"C\");\n",
    "System.out.println(\"dataList[0] = \" + dataList.get(0));\n",
    "System.out.println(\"dataList[1] = \" + dataList.get(1));\n",
    "System.out.println(\"dataList[2] = \" + dataList.get(2));"
   ]
  },
  {
   "cell_type": "markdown",
   "metadata": {},
   "source": [
    "## 追加・削除・検索\n",
    "配列は固定の大きさなので、列の追加・削除はできません。  \n",
    "しかし、Listは可変であるため、要素の追加・削除が容易に可能です。  \n",
    "Listの要素である文字列を追加して、検索し削除するコードはこのようになります。  \n",
    "実行してみましょう。"
   ]
  },
  {
   "cell_type": "code",
   "execution_count": null,
   "metadata": {},
   "outputs": [],
   "source": [
    "dataList = new ArrayList<String>();\n",
    "\n",
    "dataList.add(\"ABC\");\n",
    "dataList.add(\"012\");\n",
    "dataList.add(\"QQQ\");\n",
    "System.out.println(\"dataListのサイズ=\" + dataList.size()); // リストのサイズを取得\n",
    "\n",
    "System.out.println(\"dataListの0番目の要素=\" + dataList.get(0)); // 0番目の要素を取得\n",
    "\n",
    "int index = dataList.indexOf(\"ABC\"); // リストから該当要素の格納位置を検索\n",
    "System.out.println(\"index = \" + index);\n",
    "dataList.remove(index); // 位置を指定して要素を削除\n",
    "System.out.println(\"dataListのサイズ=\" + dataList.size());\n"
   ]
  },
  {
   "cell_type": "markdown",
   "metadata": {},
   "source": [
    "## 問題　\n",
    "以下の流れの内容のソースを書いてみましょう\n",
    "\n",
    "1. ArrayListクラス(文字列を格納)のオブジェクト，seasonsListを生成する。  \n",
    "1. seasonsListに文字列：「Spring」を追加する。  \n",
    "1. seasonsListに文字列：「Summer」を追加する。  \n",
    "1. seasonsListのindex:1に文字列：「Autumn 」を追加する。  \n",
    "1. seasonsListのindex:0を文字列：「Winter」に置換する。  \n",
    "1. seasonsListのindex:0から取得した要素を表示する。  \n",
    "1. seasonsListのindex:1から取得した要素を表示する。  \n",
    "1. seasonsListのindex:2から取得した要素を表示する。  "
   ]
  },
  {
   "cell_type": "code",
   "execution_count": null,
   "metadata": {},
   "outputs": [],
   "source": []
  }
 ],
 "metadata": {
  "kernelspec": {
   "display_name": "Java",
   "language": "java",
   "name": "java"
  },
  "language_info": {
   "codemirror_mode": "java",
   "file_extension": ".jshell",
   "mimetype": "text/x-java-source",
   "name": "Java",
   "pygments_lexer": "java",
   "version": "11.0.6+10-LTS"
  }
 },
 "nbformat": 4,
 "nbformat_minor": 4
}
