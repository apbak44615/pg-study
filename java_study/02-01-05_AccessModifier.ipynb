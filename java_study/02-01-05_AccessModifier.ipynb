{
 "cells": [
  {
   "cell_type": "markdown",
   "metadata": {},
   "source": [
    "# アクセス修飾子\n",
    "\n",
    "アクセス修飾子とは、変数やメソッド、クラスなどを宣言する際に指定するものです。<br>\n",
    "宣言する変数やメソッド、クラスなどがどこから参照できるようにするかを指定します。\n",
    "\n",
    "\n",
    "アクセス修飾子はプログラムでいうと\n",
    "```java\n",
    "private String name;\n",
    "private boolean hasTail;\n",
    "```\n",
    "の`private`や\n",
    "```java\n",
    "public String getName(){\n",
    "    return this.name;\n",
    "}\n",
    "```\n",
    "の`public`などです。\n",
    "\n",
    "アクセス修飾子はそのフィールドやメソッドがどこからアクセスできるのかを定義します。\n",
    "それぞれのアクセス修飾子がどこからアクセスできるかを示したのが以下の表です。\n",
    "\n",
    "\n",
    "| アクセス修飾子 | 同一クラス | 同一パッケージ | サブクラス | すべて |\n",
    "|---|---|---|---|---|\n",
    "| public | ○ | ○ | ○ | ○ |\n",
    "| protected | ○ | ○ | ○ | × |\n",
    "| 指定なし | ○ | ○ | × | × |\n",
    "| private | ○ | × | × | × |\n",
    "\n",
    "- public\n",
    "   \n",
    "   どんな場所からでも参照することができます。\n",
    "    \n",
    "\n",
    "- protected\n",
    "   \n",
    "   JARファイルと呼ばれる圧縮ファイル内をパッケージといいますが、パッケージ内からは参照できます。\n",
    "   また、パッケージ外であっても、そのクラスを継承したサブクラスでは参照可能です。\n",
    "    \n",
    "\n",
    "- 指定なし\n",
    "   \n",
    "   アクセス修飾子を何も指定しなかった場合、JARファイルと呼ばれる圧縮ファイル内をパッケージといいますが、パッケージ内であればどこからでも参照可能です。\n",
    "    \n",
    "\n",
    "- private \n",
    "   \n",
    "   宣言したクラス内でのみ参照できます。\n"
   ]
  },
  {
   "cell_type": "markdown",
   "metadata": {},
   "source": [
    "※Jupyter noteBookでは同じnotebook上に記述されているクラスは同一パッケージ扱いとなります。<br>\n",
    "protectedやpublicは一部またはすべての変数やクラスがパッケージ外から参照できるものなのでjupyter上で試すことはできません。<br>\n",
    "なのでここではprivateと指定なしを試してみましょう。"
   ]
  },
  {
   "cell_type": "markdown",
   "metadata": {},
   "source": [
    "### privateを見てみる\n",
    "クラスの外からprivateな変数にアクセスしようとしてみるとどうなるのでしょうか。実際に試してみましょう。"
   ]
  },
  {
   "cell_type": "code",
   "execution_count": null,
   "metadata": {},
   "outputs": [],
   "source": [
    "class Test{\n",
    "    private String priStr = \"プライベートな変数\";\n",
    "}\n",
    "    \n",
    "Test test = new Test();\n",
    "System.out.println(test.priStr);"
   ]
  },
  {
   "cell_type": "markdown",
   "metadata": {},
   "source": [
    "クラスの中にprivateな変数を宣言し、インスタンス作成後に参照しようとしたところ、<br>\n",
    "エラーがでて参照できませんでした。これは想定通り、privateな変数はクラス外からアクセスできないため起こるエラーです。"
   ]
  },
  {
   "cell_type": "markdown",
   "metadata": {},
   "source": [
    "### 指定なしをみてみる\n",
    "まずは先程privateでアクセスできなかった部分を指定なしに変えてみましょう。"
   ]
  },
  {
   "cell_type": "code",
   "execution_count": null,
   "metadata": {},
   "outputs": [],
   "source": [
    "class Test{\n",
    "    String priStr = \"指定なしの変数\";\n",
    "}\n",
    "    \n",
    "Test test = new Test();\n",
    "System.out.println(test.priStr);"
   ]
  },
  {
   "cell_type": "markdown",
   "metadata": {},
   "source": [
    "無事に参照することができました。\n",
    "これはパッケージ内であればどこからでもアクセスできるためです。\n",
    "\n",
    "では、サブクラスからアクセスできるのか見てみましょう。"
   ]
  },
  {
   "cell_type": "code",
   "execution_count": null,
   "metadata": {},
   "outputs": [],
   "source": [
    "class SubTest extends Test{\n",
    "    public void dispPriStr(){\n",
    "    // サブクラスでpriStrを参照してみる\n",
    "        System.out.println(this.priStr);\n",
    "    }\n",
    "}\n",
    "\n",
    "SubTest subTest = new SubTest();\n",
    "subTest.dispPriStr();\n",
    "System.out.println(subTest.priStr);"
   ]
  },
  {
   "cell_type": "markdown",
   "metadata": {},
   "source": [
    "サブクラスからは参照できないのでは？と思った方もいるかもしれませんが、これは同一パッケージ内なのでアクセスできています。<br>\n",
    "別パッケージからクラスを継承した際に指定なしの変数にアクセスした場合はエラーとなります。"
   ]
  },
  {
   "cell_type": "markdown",
   "metadata": {},
   "source": [
    "# 問題1\n",
    "以下のprivateなメソッド「privateMethod」を実装したクラス「Practice1」を継承したサブクラス「SubPractice」でprivateなメソッドを呼び出してみましょう。\n",
    "ここで、privateなメソッドはサブクラスからアクセスすることができるでしょうか？予想して実行してみましょう。\n",
    "\n",
    "```java\n",
    "private void privateMethod(){\n",
    "   System.out.println(\"privateなメソッド\");\n",
    "}\n",
    "```"
   ]
  },
  {
   "cell_type": "code",
   "execution_count": null,
   "metadata": {},
   "outputs": [],
   "source": []
  },
  {
   "cell_type": "markdown",
   "metadata": {},
   "source": [
    "# 問題2\n",
    "演習1のprivateなメソッドの修飾子を指定なしに書き換えたらどうなるでしょうか？<br>\n",
    "結果を予想して実装して実行してみましょう。"
   ]
  },
  {
   "cell_type": "code",
   "execution_count": null,
   "metadata": {},
   "outputs": [],
   "source": []
  }
 ],
 "metadata": {
  "kernelspec": {
   "display_name": "Java",
   "language": "java",
   "name": "java"
  },
  "language_info": {
   "codemirror_mode": "java",
   "file_extension": ".jshell",
   "mimetype": "text/x-java-source",
   "name": "Java",
   "pygments_lexer": "java",
   "version": "11.0.6+10-LTS"
  }
 },
 "nbformat": 4,
 "nbformat_minor": 4
}
