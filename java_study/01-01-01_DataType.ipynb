{
 "cells": [
  {
   "cell_type": "markdown",
   "metadata": {},
   "source": [
    "# データ型（プリミティブ型、参照型）\n",
    "Javaのデータ型にはプリミティブ型と参照型があります。  \n",
    "<img src=\"./image/datatype.png\">   \n",
    "\n",
    "## 1.プリミティブ型\n",
    "プリミティブ型は全て小文字で始まる型で、メモリに直接書き込まれる具体的なデータ値（数値や文字）を代入することができます。  \n",
    "<img src=\"./image/datatype_p.png\">   "
   ]
  },
  {
   "cell_type": "code",
   "execution_count": null,
   "metadata": {},
   "outputs": [],
   "source": [
    "// プリミティブ型 1 int\n",
    "\n",
    "int a;   // int型の変数32bit分の領域を確保\n",
    "a = 5;   // 変数に5を代入\n",
    "\n",
    "System.out.println(\"aの値：\" + a); "
   ]
  },
  {
   "cell_type": "code",
   "execution_count": null,
   "metadata": {},
   "outputs": [],
   "source": [
    "// プリミティブ型 2 double\n",
    "\n",
    "double b;   // double型の変数64bit分の領域を確保\n",
    "b = 10.5;   // 変数に10.5を代入\n",
    "\n",
    "System.out.println(\"bの値：\" + b); "
   ]
  },
  {
   "cell_type": "code",
   "execution_count": null,
   "metadata": {},
   "outputs": [],
   "source": [
    "// プリミティブ型 3 boolean\n",
    "\n",
    "boolean c;   // boolean型の変数1bit分の領域を確保した\n",
    "c = true;     // 変数にtrueを代入\n",
    "\n",
    "System.out.println(\"cの値：\" + c);"
   ]
  },
  {
   "cell_type": "markdown",
   "metadata": {},
   "source": [
    "### プリミティブ型の引数\n",
    "呼び出し元でメソッドの引数にプリミティブ型を使用した場合、メソッドではその値のコピーを受け取ります。  \n",
    "これを `値渡し`といいます。  \n",
    "単純に値のコピーを渡しているだけなので、メソッド内でその値に変更を加えても、呼び出し元には影響しません。  "
   ]
  },
  {
   "cell_type": "code",
   "execution_count": null,
   "metadata": {},
   "outputs": [],
   "source": [
    "static void methodA(int num){\n",
    "   num += 10;\n",
    "   System.out.println(\"methodA中のnum：\" + num);\n",
    "}\n",
    "\n",
    "int num = 10;\n",
    "System.out.println(\"初期のnum：\" + num);\n",
    "methodA(num);\n",
    "System.out.println(\"methodA後のnum：\" + num);"
   ]
  },
  {
   "cell_type": "markdown",
   "metadata": {},
   "source": [
    "## 2.参照型\n",
    "参照型は、newして生成したオブジェクトへのメモリ上のアドレスを変数に代入します。   \n",
    "<img src=\"./image/datatype_o.png\">   "
   ]
  },
  {
   "cell_type": "code",
   "execution_count": null,
   "metadata": {},
   "outputs": [],
   "source": [
    "// 参照型 1 配列\n",
    "int[] d;                   // 変数宣言した時点で最終的なデータ量は不明\n",
    "d = new int[]{1,2,3};\n",
    "\n",
    "for(int value : d) {\n",
    "    System.out.println(\"dの要素：\" + value); // 1つずつ出力\n",
    "}"
   ]
  },
  {
   "cell_type": "markdown",
   "metadata": {},
   "source": [
    "この場合、変数を宣言した段階でどのような値が入るのかはわかりません。  \n",
    "この問題を解決するのが`参照`です。  \n",
    "配列変数`d`には、{1,2,3}が代入されるわけではありません。  \n",
    "{1,2,3}はメモリ内のどこか違う場所に作られます。  \n",
    "その作られた{1,2,3}のある場所を示すアドレスが456789だったとすると、  \n",
    "配列変数`d`にはその456789というアドレスが代入されます。  \n",
    "\n",
    "これならば、どのようなサイズの配列を作ったとしても、  \n",
    "配列変数`d`に代入されるのはただの場所を示すアドレス（参照値）なので、  \n",
    "配列のサイズは関係ありません。  \n",
    "配列が長すぎて（情報量が大きすぎて）配列変数`d`に入りきらないということはありません。\n",
    "\n",
    "次に、String型は文字列を代入しますが、Stringオブジェクト内部で文字列をchar配列として扱っています。  \n",
    "以下の3つのオブジェクトは全て同じ意味です。\n",
    "```\n",
    "String e = \"いちご\";\n",
    "String f = new String(\"いちご\");\n",
    "String g = new String(new char[]{'い', 'ち', 'ご'});\n",
    "```  \n",
    "<img src=\"./image/datatype_s.png\">   "
   ]
  },
  {
   "cell_type": "markdown",
   "metadata": {},
   "source": [
    "### 参照型の代入"
   ]
  },
  {
   "cell_type": "code",
   "execution_count": null,
   "metadata": {},
   "outputs": [],
   "source": [
    "int a[] = {1};\n",
    "System.out.println(\"-------初期a[]-------\");\n",
    "System.out.println(\"a[0]：\" + a[0]);\n",
    "\n",
    "int b[] = a;\n",
    "System.out.println(\"-------b[]にaを代入-------\");\n",
    "System.out.println(\"b[0]：\" + b[0]);\n",
    "\n",
    "b[0] = 2;\n",
    "System.out.println(\"-------b[0]に2を代入-------\");\n",
    "System.out.println(\"a[0]：\" + a[0]);\n",
    "System.out.println(\"b[0]：\" + b[0]);\n",
    "\n",
    "int c[] = {3};\n",
    "System.out.println(\"-------初期c[]-------\");\n",
    "System.out.println(\"c[0]：\" + c[0]);\n",
    "\n",
    "b = c;\n",
    "System.out.println(\"-------bにcを代入-------\");\n",
    "System.out.println(\"a[0]：\" + a[0]);\n",
    "System.out.println(\"b[0]：\" + b[0]);\n",
    "System.out.println(\"c[0]：\" + c[0]);"
   ]
  },
  {
   "cell_type": "markdown",
   "metadata": {},
   "source": [
    "ポイントは、`b = c`では行われているのは「何型の値の代入か」ということです。  \n",
    "これは「参照型値の代入」です。  \n",
    "これまで`a`の参照値を持っていた`b`ですが、その「`bの参照値`自体が、`cの参照値`に更新」されました。  \n",
    "そのため、参照値の指す先の値である`b[0]`は`c[0]`と同じ`3`を指すようになります。  \n",
    "ここで「bの以前の参照値の指す先の値自体が更新されたわけではない」ため、   \n",
    "`a[0]`は変わらず`2`を指すままとなります。  \n",
    "<img src=\"./image/datatype_in.png\">   \n",
    "  \n",
    "今度は以下のように参照先の値`b[0]`を更新すると、  \n",
    "同じ値を参照している参照型値を持つcの参照先の値`c[0]`も同様に更新されることになります。  "
   ]
  },
  {
   "cell_type": "code",
   "execution_count": null,
   "metadata": {},
   "outputs": [],
   "source": [
    "//...先ほどの続き\n",
    "b[0] = 4;\n",
    "System.out.println(\"a[0]：\" + a[0]);\n",
    "System.out.println(\"b[0]：\" + b[0]);\n",
    "System.out.println(\"c[0]：\" + c[0]);"
   ]
  },
  {
   "cell_type": "markdown",
   "metadata": {},
   "source": [
    "### 参照型の引数\n",
    "\n",
    "引数においても、参照型変数の時は、参照値が渡されます。  \n",
    "これを `参照渡し`といいます。　  \n",
    "ややこしいですが厳密には`「参照値」という「値」を「値渡し」 `しています。\n",
    "\n",
    "以下の`method1`では、`aList`と同じ参照値の値を持っていた変数`argList`の参照値そのものを代入し直しています。  \n",
    "そのため、`aList`の指す値自体は変わらず、`{0}`のままです。  \n",
    "一方`method2`では、`aList`と同じ参照値を持つ変数`argList`参照値の指す値を更新しているため、`aList`の指す値も`{100}`になります。"
   ]
  },
  {
   "cell_type": "code",
   "execution_count": null,
   "metadata": {},
   "outputs": [],
   "source": [
    "static void method1(int[] argList) {\n",
    "    int[] other = { 10 };\n",
    "    argList = other;\n",
    "}\n",
    "static void method2(int[] argList) {\n",
    "    argList[0] = 100;\n",
    "}\n",
    "\n",
    "int[] aList = { 0 };\n",
    "System.out.println(\"初期aList[0]：\" + aList[0]);\n",
    "\n",
    "method1(aList);\n",
    "System.out.println(\"method1後のaList[0]：\" + aList[0]);\n",
    "\n",
    "method2(aList);\n",
    "System.out.println(\"method2後のaList[0]：\" + aList[0]);\n"
   ]
  },
  {
   "cell_type": "markdown",
   "metadata": {},
   "source": [
    "こちらの３つのソースを見てみましょう。  \n",
    "1つ目はリストに`いちご`を格納してから、呼び出しメソッド内で`りんご`と`みかん`を追加しています。  \n",
    "2つ目はリストに`いちご`を格納してから、呼び出しメソッド内で一度newしてから`りんご`と`みかん`を追加しています。  \n",
    "3つ目はリストに`いちご`を格納してから、呼び出しメソッド内でnullを設定しています。  \n",
    "それぞれ`１.メソッド呼び出し前のリストの内容``２.メソッド内で変更したリストの内容`、`３.メソッド呼び出し後のリストの内容`の出力結果を確認しましょう。"
   ]
  },
  {
   "cell_type": "code",
   "execution_count": null,
   "metadata": {},
   "outputs": [],
   "source": [
    "// １ 通常の参照渡し\n",
    "\n",
    "static void editList(List<String> list) {\n",
    "    \n",
    "    //リストの中にりんごとみかんを追加\n",
    "    list.add(\"りんご\");\n",
    "    list.add(\"みかん\");\n",
    "    \n",
    "    //変数の中を表示\n",
    "    System.out.println(\"２．メソッド内で変更したリストの中は\" + list + \"です\");\n",
    "}\n",
    "\n",
    "//参照型の変数を定義\n",
    "List<String> list = new ArrayList<String>();\n",
    "// いちごを追加\n",
    "list.add(\"いちご\");\n",
    " \n",
    "//変数の中を表示\n",
    "System.out.println(\"１．メソッド呼び出し前のリストの中は\" + list + \"です\");\n",
    "\n",
    "//参照の値渡しでメソッドを呼び出す\n",
    "editList(list);\n",
    " \n",
    "//変数の中を表示\n",
    "System.out.println(\"３．メソッド呼び出し後のリストのリストの中は\" + list + \"です\");"
   ]
  },
  {
   "cell_type": "code",
   "execution_count": null,
   "metadata": {},
   "outputs": [],
   "source": [
    "// ２ インスタンスをnewした場合\n",
    "\n",
    "static void editList(List<String> list) {\n",
    "    \n",
    "    //★★newする★★\n",
    "    list = new ArrayList<String>();\n",
    "    \n",
    "    //リストの中にりんごとみかんを追加\n",
    "    list.add(\"りんご\");\n",
    "    list.add(\"みかん\");\n",
    "    \n",
    "    //変数の中を表示\n",
    "    System.out.println(\"２．メソッド内で変更したリストの中は\" + list + \"です\");\n",
    "}\n",
    "\n",
    "//参照型の変数を定義\n",
    "List<String> list = new ArrayList<String>();\n",
    "// いちごを追加\n",
    "list.add(\"いちご\");\n",
    " \n",
    "//変数の中を表示\n",
    "System.out.println(\"１．メソッド呼び出し前のリストの中は\" + list + \"です\");\n",
    "\n",
    "//参照の値渡しでメソッドを呼び出す\n",
    "editList(list);\n",
    " \n",
    "//変数の中を表示\n",
    "System.out.println(\"３．メソッド呼び出し後のリストの中は\" + list + \"です\");"
   ]
  },
  {
   "cell_type": "code",
   "execution_count": null,
   "metadata": {},
   "outputs": [],
   "source": [
    "// ３ nullを設定した場合\n",
    "\n",
    "static void editList(List<String> list) {\n",
    "    \n",
    "    //★★nullを設定★★\n",
    "    list = null;\n",
    "    \n",
    "    //変数の中を表示\n",
    "    System.out.println(\"２．メソッド内で変更したリストの中は\" + list + \"です\");\n",
    "}\n",
    "\n",
    "//参照型の変数を定義\n",
    "List<String> list = new ArrayList<String>();\n",
    "// いちごを追加\n",
    "list.add(\"いちご\");\n",
    " \n",
    "//変数の中を表示\n",
    "System.out.println(\"１．メソッド呼び出し前のリストの中は\" + list + \"です\");\n",
    "\n",
    "//参照の値渡しでメソッドを呼び出す\n",
    "editList(list);\n",
    " \n",
    "//変数の中を表示\n",
    "System.out.println(\"３．メソッド呼び出し後のリストの中は\" + list + \"です\");"
   ]
  },
  {
   "cell_type": "markdown",
   "metadata": {},
   "source": [
    "１つ目はメソッド呼出し後も同じ出力結果となりました。\n",
    "\n",
    "２つ目は異なる結果となりました。  \n",
    "これはリストの参照値を元に別のインスタンスを生成してしまったからです。  \n",
    "この瞬間に引数として参照値を渡していた元のリストとは別の参照値を持つリストが生成されました。  \n",
    "メソッドの呼び出し元で出力したリストは、元のリストの内容です。  \n",
    " \n",
    "３つ目も異なる結果となりました。  \n",
    "変数にnull を代入した時点で参照先情報は無くなります。  \n",
    "ただし参照先の値は変わりません。  \n",
    "メソッド内の変数の参照先が無い（null）のです。  \n",
    "そのため、メソッド内で変数にアクセスしようとするとNullPointerException が発生します。"
   ]
  },
  {
   "cell_type": "markdown",
   "metadata": {},
   "source": [
    "### 参照型の返り値\n",
    "  \n",
    "返り値でも参照型変数の時は、参照値が返されます。  \n",
    "\n",
    "以下は`getArray()`は参照型変数`aList`に参照値をセットするので、  \n",
    "その値が指す先を100に更新すると、同じ参照値を持つresultListからアクセスされる値も100を返すようになります。"
   ]
  },
  {
   "cell_type": "code",
   "execution_count": null,
   "metadata": {},
   "outputs": [],
   "source": [
    "static int[] getArray() {\n",
    "  aList[0] = 100; \n",
    "  System.out.println(\"getArray()で返却する値aList[0]：\" + aList[0]);\n",
    "  return aList;\n",
    "}\n",
    "\n",
    "int[] aList = { 10 };\n",
    "System.out.println(\"初期のaList[0]：\" + aList[0]);\n",
    "\n",
    "int[] resultList = getArray(aList); \n",
    "\n",
    "System.out.println(\"getArray()呼出し後のresultList[0]設定後：\" + resultList[0]);\n"
   ]
  },
  {
   "cell_type": "markdown",
   "metadata": {},
   "source": [
    "# 問題\n",
    "double型の値 a と b とを受け取り、a と b との積をdouble型で返すメソッドを作る。"
   ]
  },
  {
   "cell_type": "code",
   "execution_count": null,
   "metadata": {},
   "outputs": [],
   "source": []
  },
  {
   "cell_type": "markdown",
   "metadata": {},
   "source": [
    "# 問題\n",
    "参照型の変数を用意し、それを引数で渡して加工するメソッドを用意する。  \n",
    "また別のメソッドでは参照型の戻り値を返却するようにする。（メソッド内で参照型の加工をする）  \n",
    "それぞれを呼び出し、値の変化を確認すること。"
   ]
  },
  {
   "cell_type": "code",
   "execution_count": null,
   "metadata": {},
   "outputs": [],
   "source": []
  }
 ],
 "metadata": {
  "kernelspec": {
   "display_name": "Java",
   "language": "java",
   "name": "java"
  },
  "language_info": {
   "codemirror_mode": "java",
   "file_extension": ".jshell",
   "mimetype": "text/x-java-source",
   "name": "Java",
   "pygments_lexer": "java",
   "version": "11.0.6+10-LTS"
  }
 },
 "nbformat": 4,
 "nbformat_minor": 4
}
