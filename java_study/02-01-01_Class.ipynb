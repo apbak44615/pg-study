{
 "cells": [
  {
   "cell_type": "markdown",
   "metadata": {},
   "source": [
    "# クラス\n",
    "\n",
    "クラスとはインスタンスを作るための設計図のようなものです。<br>\n",
    "クラスの中にはフィールド(状態)、メソッド(振る舞い)などが内包されています。<br>\n",
    "プログラム中では以下のように記述します。"
   ]
  },
  {
   "cell_type": "code",
   "execution_count": null,
   "metadata": {},
   "outputs": [],
   "source": [
    "class Human{\n",
    "    \n",
    "    private String name;\n",
    "    private String sex;\n",
    "\n",
    "    Human(String name, String sex){\n",
    "        this.name = name;\n",
    "        this.sex = sex;\n",
    "    }    \n",
    "}"
   ]
  },
  {
   "cell_type": "markdown",
   "metadata": {},
   "source": [
    "Human(人間)というクラスを定義しました。<br>\n",
    "クラス内ではコンストラクタなどの物がありますが、今はこのように書くのだなという風に思っていてください。<br>\n",
    "\n",
    "Humanクラス内では人間だれもが持っているであろう属性name(名前)、sex(性別)等といったものを定義しています。<br>\n",
    "しかし、Humanクラスはあくまで設計図にすぎないので詳しい値はいれず、こういった情報を持っているということだけを定義しています。"
   ]
  },
  {
   "cell_type": "markdown",
   "metadata": {},
   "source": [
    "ではこのHuman(人間)クラスを元にインスタンス(太郎くん)を生成してみます。"
   ]
  },
  {
   "cell_type": "code",
   "execution_count": null,
   "metadata": {},
   "outputs": [],
   "source": [
    "// Human型のtarouという変数に Human型のインスタンスを格納\n",
    "Human tarou = new Human(\"太郎\", \"man\");"
   ]
  },
  {
   "cell_type": "markdown",
   "metadata": {},
   "source": [
    "このプログラムは以下と同等です。\n",
    "```java\n",
    "Human tarou;\n",
    "tarou = new Human(\"太郎\", \"man\");\n",
    "```\n",
    "厳密には、インスタンスを作成しているのは new Human(\"太郎\", \"man\")の部分です。<br>\n",
    "Humam型のtarouという変数に対して、Human型のインスタンスを作成して格納しています。<br>\n",
    "つまり、クラスとは型です。<br>\n",
    "Javaではこのように独自のクラス(型)を定義し、データを扱います。(オブジェクト指向)\n",
    "\n",
    "先程は太郎くんを生成してみましたが、次は花子ちゃんを生成してみましょう。\n",
    "\n"
   ]
  },
  {
   "cell_type": "code",
   "execution_count": null,
   "metadata": {},
   "outputs": [],
   "source": [
    "Human hanako = new Human(\"花子\", \"woman\");"
   ]
  },
  {
   "cell_type": "markdown",
   "metadata": {},
   "source": [
    "このように、Human(人)型という型に名前や性別などといった属性を定義しておき、インスタンス(人)ごとに定義された属性の情報をもっていることになります。<br>\n",
    "この設計図(Human)クラスを用いれば無数に人間(Human型のインスタンス)を生成することができます。"
   ]
  },
  {
   "cell_type": "markdown",
   "metadata": {},
   "source": [
    "# 問題\n",
    "String型のname(名前)とString型のfur(毛並み)という2つのフィールド(状態)を持ったCat(猫)クラスを作成し、tamaとmikeというインスタンスを生成してみましょう。\n",
    "\n",
    "tamaのnameは\"タマ\"、furは\"アメショ\"<br>\n",
    "mikeのnameは\"ミケ\"、furは\"三毛猫\"\n",
    "\n",
    "で生成してみましょう。"
   ]
  },
  {
   "cell_type": "code",
   "execution_count": null,
   "metadata": {},
   "outputs": [],
   "source": []
  }
 ],
 "metadata": {
  "kernelspec": {
   "display_name": "Java",
   "language": "java",
   "name": "java"
  },
  "language_info": {
   "codemirror_mode": "java",
   "file_extension": ".jshell",
   "mimetype": "text/x-java-source",
   "name": "Java",
   "pygments_lexer": "java",
   "version": "11.0.6+10-LTS"
  }
 },
 "nbformat": 4,
 "nbformat_minor": 4
}
