{
 "cells": [
  {
   "cell_type": "markdown",
   "metadata": {},
   "source": [
    "# マルチスレッド処理\n",
    "通常、プログラムを実行すると上から順に実行されていきますが、マルチスレッド処理では複数の処理の流れを並行して進めることができます。\n",
    "\n",
    "あるクラスのメソッド内で3秒待機したのちに標準出力にメッセージを出力させるプログラムがあったとします。<br>\n",
    "それを通常のプログラムで実行させた場合と並列処理で実行させた場合での違いを見てみましょう。\n",
    "\n",
    "\n",
    "### 以下は通常のプログラム"
   ]
  },
  {
   "cell_type": "code",
   "execution_count": null,
   "metadata": {},
   "outputs": [],
   "source": [
    "class subClassA{\n",
    "    public void run() {\n",
    "        try{\n",
    "            Thread.sleep(3000);\n",
    "            System.out.println(\"サブクラスArunメソッド開始\");\n",
    "        }catch (InterruptedException e){\n",
    "            e.printStackTrace();\n",
    "        }\n",
    "    \n",
    "    }\n",
    "}\n",
    "\n",
    "class subClassB{\n",
    "    public void run() {\n",
    "        System.out.println(\"サブクラスBrunメソッド開始\");\n",
    "    }\n",
    "}"
   ]
  },
  {
   "cell_type": "code",
   "execution_count": null,
   "metadata": {},
   "outputs": [],
   "source": [
    "subClassA subA = new subClassA();\n",
    "subClassB subB = new subClassB();\n",
    "subA.run();\n",
    "subB.run();"
   ]
  },
  {
   "cell_type": "markdown",
   "metadata": {},
   "source": [
    "サブクラスArunメソッド開始<br>\n",
    "サブクラスBrunメソッド開始\n",
    "\n",
    "という風に出力されていますが、当り前ですよね。\n",
    "では並列処理ではどうなるでしょうか。\n",
    "### 並列処理を実装したプログラム\n"
   ]
  },
  {
   "cell_type": "code",
   "execution_count": null,
   "metadata": {},
   "outputs": [],
   "source": [
    "class subA extends Thread {\n",
    "    public void run() {\n",
    "       try{\n",
    "           sleep(3000);\n",
    "           System.out.println(\"サブスレッドA開始\");         \n",
    "       }catch(InterruptedException e){\n",
    "           e.printStackTrace();\n",
    "       } \n",
    "    }\n",
    "}\n",
    "\n",
    "class subB extends Thread {\n",
    "    public void run() {\n",
    "        System.out.println(\"サブスレッドB開始\");\n",
    "    }\n",
    "}"
   ]
  },
  {
   "cell_type": "code",
   "execution_count": null,
   "metadata": {},
   "outputs": [],
   "source": [
    "subA threadA = new subA();\n",
    "subB threadB = new subB();\n",
    "threadA.start();\n",
    "threadB.start();\n",
    "\n",
    "threadA.join();\n",
    "threadB.join();"
   ]
  },
  {
   "cell_type": "markdown",
   "metadata": {},
   "source": [
    "サブスレッドB開始<br>\n",
    "サブスレッドA開始\n",
    "\n",
    "AとBの出力が逆になりました。<br>\n",
    "subAの```sleep(3000)```(3秒待機)している間に<br>\n",
    "subBの```System.out.println(\"サブスレッドB開始\");```が実行されています。\n",
    "\n",
    "このように、複数の処理を同時に実行できるのがマルチスレッドです。<br>"
   ]
  },
  {
   "cell_type": "markdown",
   "metadata": {},
   "source": [
    "では、先程のマルチスレッドのソースコードの中身を詳しくみていきましょう。\n",
    "\n",
    "```java\n",
    "class subA extends Thread {\n",
    "    public void run() {\n",
    "       try{\n",
    "           sleep(3000);\n",
    "           System.out.println(\"サブスレッドA開始\");         \n",
    "       }catch(InterruptedException e){\n",
    "           e.printStackTrace();\n",
    "       } \n",
    "    }\n",
    "}\n",
    "class subB extends Thread {\n",
    "    public void run() {\n",
    "        System.out.println(\"サブスレッドB開始\");\n",
    "    }\n",
    "}\n",
    "```\n",
    "\n",
    "subAクラスとsubBクラスはThreadというクラスを継承しており、Threadクラスは並列処理を行うためのクラスです。<br>\n",
    "subA,subBクラスはThreadクラスのrun()メソッドをそれぞれオーバーライドして実装しています。"
   ]
  },
  {
   "cell_type": "markdown",
   "metadata": {},
   "source": [
    "次に実行しているところを見ていきます。\n",
    "\n",
    "```java\n",
    "subA threadA = new subA();\n",
    "subB threadB = new subB();\n",
    "threadA.start();\n",
    "threadB.start();\n",
    "\n",
    "threadA.join();\n",
    "threadB.join();\n",
    "```\n",
    "\n",
    "まずはsubA,subBクラスをインスタンス化しています。<br>\n",
    "次に各サブクラスのstart()メソッドを実行しています。<br>\n",
    "Threadクラスではstart()メソッドを実行するとサブスレッドでrun()メソッドの処理が始まります。<br>\n",
    "\n",
    "最後のjoinメソッドでは各スレッドが終了するのを待っています。\n",
    "今回はjupyter notebook上の都合でjoinメソッドを呼ぶ必要がありますが、実行環境やプログラムによっては呼ぶ必要がない場合もあります。"
   ]
  },
  {
   "cell_type": "markdown",
   "metadata": {},
   "source": [
    "## Runnableインターフェースを使用する方法\n",
    "ここまではThreadクラスを継承してマルチスレッドを利用する方法を記載しました。  \n",
    "Javaではもう一つRunnableインターフェースを使用する方法があります。\n",
    "<br>\n",
    "スレッドで動かしたい処理をjava.lang.Runnableの実装クラスとして作り、<br>そのRunnableをThreadクラスのインスタンスに動かしてもらうことです。<br>\n",
    "\n",
    "Runnableとは「実行(run)できる(able)もの」という意味のインターフェイスで、抽象メソッドは戻り値void、引数なしのrunだけです。<br>Runnableはスレッドに限らず、Javaで何か動かしたい処理を表現・実装するのにもよく使われます。\n",
    "```java\n",
    "class RunnableTest implements Runnable {\n",
    "    @Override\n",
    "    public void run() {\n",
    "        for (int i = 0; i < 3; i++) {\n",
    "            System.out.println(\"Runnable count: \" + i);\n",
    "        }\n",
    "    }\n",
    "}\n",
    "```\n",
    "Runnableインターフェースはrun()メソッドのみを持ち、run()メソッドをオーバライドして処理を記載して利用します。 <br>  \n",
    "呼び出し側は、ThreadクラスのコンストラクタThread(Runnable target)を使います。<br>引数にはRunnableインターフェースを実装したクラスを指定します。<br>後はThreadクラスのstartメソッドをインスタンスに対して呼び出すことでスレッドが開始されます。\n",
    "```java\n",
    "public class ThreadExecutor {\n",
    " {\n",
    "    public static void main(String[] args) {\n",
    "        Thread thread = new Thread(new RunnableTest());\n",
    "        thread.start();\n",
    "        System.out.println(\"ThreadExecutor!\");\n",
    "    }\n",
    "}\n",
    "```\n",
    "ThreadExecutorの実行結果は\n",
    "```\n",
    "ThreadExecutor!\n",
    "Runnable count: 0\n",
    "Runnable count: 1\n",
    "Runnable count: 2\n",
    "```\n",
    "となります。\n",
    "`ThreadExecutor!`が先に出力されており、RunnableTestのrun()メソッドが別スレッドで動いているのが分かります。\n"
   ]
  },
  {
   "cell_type": "markdown",
   "metadata": {},
   "source": [
    "# 問題\n",
    "マルチスレッド動作するプログラムを書いてみましょう"
   ]
  },
  {
   "cell_type": "code",
   "execution_count": null,
   "metadata": {},
   "outputs": [],
   "source": []
  }
 ],
 "metadata": {
  "kernelspec": {
   "display_name": "Java",
   "language": "java",
   "name": "java"
  },
  "language_info": {
   "codemirror_mode": "java",
   "file_extension": ".jshell",
   "mimetype": "text/x-java-source",
   "name": "Java",
   "pygments_lexer": "java",
   "version": "11.0.6+10-LTS"
  }
 },
 "nbformat": 4,
 "nbformat_minor": 4
}
