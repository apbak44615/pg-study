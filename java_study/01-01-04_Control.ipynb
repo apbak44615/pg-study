{
 "cells": [
  {
   "cell_type": "markdown",
   "metadata": {},
   "source": [
    "# 制御構文\n",
    "\n",
    "## 1.if文\n",
    "\n",
    "`if`文を使うと、`ある条件が真のときだけ処理をする`というプログラムが書けるようになります。\n",
    "\n",
    "書き方は以下のようになっています。\n",
    "\n",
    "```Java\n",
    "if (条件式) {\n",
    "  処理\n",
    "}\n",
    "```\n",
    "\n",
    "条件式が真のとき、`{` から `}` の間の処理が実行され、条件式が偽のとき、処理は飛ばされます。"
   ]
  },
  {
   "cell_type": "code",
   "execution_count": null,
   "metadata": {
    "scrolled": true
   },
   "outputs": [],
   "source": [
    "double p = 0.01;\n",
    "if (p < 0.05) {\n",
    "  System.out.println(\"pは0.05より小さい\");\n",
    "}\n",
    "System.out.println(\"終了\");"
   ]
  },
  {
   "cell_type": "code",
   "execution_count": null,
   "metadata": {},
   "outputs": [],
   "source": [
    "double p = 0.1;\n",
    "if (p < 0.05) {\n",
    "  System.out.println(\"pは0.05より小さい\");\n",
    "}\n",
    "System.out.println(\"終了\");"
   ]
  },
  {
   "cell_type": "markdown",
   "metadata": {},
   "source": [
    "## 2.if...else if...else文\n",
    "\n",
    "`else`句は、if文の後に書くことで、「if文の条件が偽の時」に処理を行えるようになります。  \n",
    "`else if`では、「「前のif文の条件が偽」かつ「else ifの条件が真」」の時に処理が行われます。\n",
    "\n",
    "書き方は以下のようになっています。\n",
    "\n",
    "```Java\n",
    "if (条件式1) {\n",
    "  処理1\n",
    "} else if (条件式2) {\n",
    "  処理2\n",
    "} else {\n",
    "  処理3\n",
    "}\n",
    "```\n",
    "\n",
    "条件式1が真のとき処理1が実行され、条件式2が真のとき処理2が実行され、条件式すべてが偽のとき、処理3が実行されます。"
   ]
  },
  {
   "cell_type": "code",
   "execution_count": null,
   "metadata": {},
   "outputs": [],
   "source": [
    "double p = 0.15;\n",
    "if (p < 0.05) {\n",
    "  System.out.println(\"pは0.05より小さい\");\n",
    "} else if (p > 0.1) {\n",
    "  System.out.println(\"pは0.1より大きい\");\n",
    "} else {\n",
    "  System.out.println(\"pは0.05以上0.1より小さい\");\n",
    "}"
   ]
  },
  {
   "cell_type": "markdown",
   "metadata": {},
   "source": [
    "## 3.switch文\n",
    "\n",
    "`switch`文は、式を判別して合致するcase値の処理を実行します。\n",
    "\n",
    "書き方は以下のようになっています。\n",
    "\n",
    "```Java\n",
    "switch (式) {\n",
    "  case 値1:\n",
    "    処理1\n",
    "    break;\n",
    "  case 値2:\n",
    "    処理2\n",
    "    break;\n",
    "  default:\n",
    "    処理3\n",
    "    break;\n",
    "}\n",
    "```\n",
    "\n",
    "式が値1を取るとき、処理1が実行され、式が値2を取るとき、処理2が実行されます。\n",
    "\n",
    "`break`はcase文の後に置き、そのcase文の処理の実行後、switch文全体の処理を抜けるのに利用します。\n",
    "\n",
    "式がすべてのcase値に合致しない場合は、`default`の処理3が実行されます。\n",
    "\n",
    "`default`, `break`は省略可能です。`break`がない場合は、case文の処理を実行した後もswitch文全体の処理を抜けずに、次のcase値の判定を行います。"
   ]
  },
  {
   "cell_type": "code",
   "execution_count": null,
   "metadata": {},
   "outputs": [],
   "source": [
    "int p = 2;\n",
    "switch (p) {\n",
    "  case 1:\n",
    "    System.out.println(\"pは1です\");\n",
    "    break;\n",
    "  case 2:\n",
    "    System.out.println(\"pは2です\");\n",
    "    break;\n",
    "  default:\n",
    "    System.out.println(\"pは1でも2でもありません\");\n",
    "    break;\n",
    "}"
   ]
  },
  {
   "cell_type": "markdown",
   "metadata": {},
   "source": [
    "# 問題\n",
    "\n",
    "数値を入力します。\n",
    "\n",
    "入力した数値が3の倍数のときは「Fizz」、5の倍数のときは「Buzz」、3と5の公倍数のときは「FizzBuzz」と表示してください。\n",
    "\n",
    "これらの条件を満たさない場合は、入力した数値をそのまま表示してください。\n",
    "\n",
    "### 入力例1:\n",
    "\n",
    "```\n",
    "12\n",
    "```\n",
    "\n",
    "### 出力例1:\n",
    "\n",
    "```\n",
    "Fizz\n",
    "```\n",
    "\n",
    "### 入力例2:\n",
    "\n",
    "```\n",
    "7\n",
    "```\n",
    "\n",
    "### 出力例2:\n",
    "\n",
    "```\n",
    "7\n",
    "```"
   ]
  },
  {
   "cell_type": "code",
   "execution_count": null,
   "metadata": {},
   "outputs": [],
   "source": [
    "Scanner scanner = new Scanner(System.in);\n",
    "int input = scanner.nextInt(); // 入力を受け取ってinputに数値を代入。\n",
    "scanner.close();\n",
    "\n",
    "// ここ以降を書き換えてプログラムを作成してください。\n",
    "// 3の倍数かつ、5の倍数の場合\n",
    "if(input%3==0 && input%5==0){\n",
    "    System.out.println(\"FizzBuzz\");\n",
    "// 3の倍数の場合\n",
    "}else if(input%3==0){\n",
    "    System.out.println(\"Fizz\");\n",
    "// 5の倍数の場合\n",
    "}else if(input%5==0){\n",
    "    System.out.println(\"Buzz\");\n",
    "}else{\n",
    "    System.out.println(input);\n",
    "}"
   ]
  },
  {
   "cell_type": "markdown",
   "metadata": {},
   "source": [
    "## 4.for文\n",
    "\n",
    "`for`文は、繰り返し処理を行いたい場合に用います。\n",
    "\n",
    "書き方は以下のようになっています。\n",
    "\n",
    "```Java\n",
    "for (初期化; 条件; 更新) {\n",
    "  処理\n",
    "}\n",
    "```\n",
    "\n",
    "まず繰り返し処理の前に`初期化`を実行します。`初期化`部分では一般的に繰り返し処理の判断に用いる変数の宣言（ex: `int i = 0;`）などを行います。\n",
    "\n",
    "その後、`条件`を判断して真であれば処理を実行します。\n",
    "\n",
    "処理を実行した後、`更新`部分に記載された文を実行します。再び`条件`を判断して真であれば処理を実行します。条件が真である限り繰り返し処理を行います。"
   ]
  },
  {
   "cell_type": "code",
   "execution_count": null,
   "metadata": {},
   "outputs": [],
   "source": [
    "for (int i = 0; i < 5; i++) {\n",
    "  System.out.println(\"iは\" + i + \"です。\");\n",
    "}"
   ]
  },
  {
   "cell_type": "markdown",
   "metadata": {},
   "source": [
    "## 5.for-each文\n",
    "\n",
    "`for-each`文は、配列やコレクションに含まれる値を順に取り出して繰り返し処理を行いたい場合に用います。\n",
    "\n",
    "書き方は以下のようになっています。\n",
    "\n",
    "```Java\n",
    "for (データ型 変数名; 配列またはコレクション) {\n",
    "  処理\n",
    "}\n",
    "```\n",
    "\n",
    "配列やコレクションに含まれる値の数だけ処理が繰り返されます。"
   ]
  },
  {
   "cell_type": "code",
   "execution_count": null,
   "metadata": {},
   "outputs": [],
   "source": [
    "int data[] = {85, 72, 89};\n",
    "\n",
    "for (int value : data) {\n",
    "  System.out.println(value);\n",
    "}"
   ]
  },
  {
   "cell_type": "markdown",
   "metadata": {},
   "source": [
    "## 6.while文\n",
    "\n",
    "`while`文は、繰り返し処理を行いたい場合に用います。\n",
    "\n",
    "書き方は以下のようになっています。\n",
    "\n",
    "```Java\n",
    "while (式) {\n",
    "  処理\n",
    "}\n",
    "```\n",
    "\n",
    "まず初めに式を評価します。式の値がtrueであるとき、処理を実行します。\n",
    "\n",
    "その後再び式の評価を行い、式の値がtrueであるとき、再度処理を実行します。\n",
    "\n",
    "式の値がtrueである限り、処理の実行を繰り返します。式の値がfalseになると繰り返し処理を終了します。\n",
    "\n",
    "式の値が初めからfalseである場合は、whileブロック中の処理は一度も実行されません。"
   ]
  },
  {
   "cell_type": "code",
   "execution_count": null,
   "metadata": {},
   "outputs": [],
   "source": [
    "int i = 0;\n",
    "\n",
    "while (i < 5) {\n",
    "  System.out.println(\"iは\" + i + \"です。\");\n",
    "  i++;\n",
    "}"
   ]
  },
  {
   "cell_type": "markdown",
   "metadata": {},
   "source": [
    "## 7.do-while文\n",
    "\n",
    "`do-while`文も、繰り返し処理を行いたい場合に用います。\n",
    "\n",
    "`while`文との違いは、処理を必ず一度実行するところにあります。\n",
    "\n",
    "書き方は以下のようになっています。\n",
    "\n",
    "```Java\n",
    "do {\n",
    "  処理\n",
    "} while (式);\n",
    "```\n",
    "\n",
    "まず初めに処理を実行します。\n",
    "\n",
    "その後式を評価します。式の値がtrueであるとき、処理を実行します。\n",
    "\n",
    "その後再び式の評価を行い、式の値がtrueであるとき、再度処理を実行します。\n",
    "\n",
    "式の値がtrueである限り、処理の実行を繰り返します。式の値がfalseになると繰り返し処理を終了します。\n",
    "\n",
    "式の値が初めからfalseである場合でも一度は処理が実行されます。"
   ]
  },
  {
   "cell_type": "code",
   "execution_count": null,
   "metadata": {},
   "outputs": [],
   "source": [
    "int i = 5;\n",
    "\n",
    "do {\n",
    "  System.out.println(\"iは\" + i + \"です。\");\n",
    "} while (i < 5);"
   ]
  },
  {
   "cell_type": "markdown",
   "metadata": {},
   "source": [
    "# 問題\n",
    "\n",
    "数値を入力します。\n",
    "\n",
    "入力した数値が素数のときは「Yes」、素数でないときは「No」と表示してください。\n",
    "\n",
    "素数とは、1およびその数自身の他に約数を有しない正の整数のことです。\n",
    "\n",
    "### 入力例1:\n",
    "\n",
    "```\n",
    "7\n",
    "```\n",
    "\n",
    "### 出力例1:\n",
    "\n",
    "```\n",
    "Yes\n",
    "```\n",
    "\n",
    "### 入力例2:\n",
    "\n",
    "```\n",
    "12\n",
    "```\n",
    "\n",
    "### 出力例2:\n",
    "\n",
    "```\n",
    "No\n",
    "```"
   ]
  },
  {
   "cell_type": "code",
   "execution_count": null,
   "metadata": {},
   "outputs": [],
   "source": [
    "Scanner scanner = new Scanner(System.in);\n",
    "int input = scanner.nextInt(); // 入力を受け取ってinputに数値を代入。\n",
    "scanner.close();\n",
    "\n",
    "// ここ以降を書き換えてプログラムを作成してください。\n",
    "boolean sosu = true;\n",
    "\n",
    "for(int i = 2; i <= input / 2; i++){\n",
    "    if(input % i == 0) {\n",
    "        sosu = false;\n",
    "        break;\n",
    "    }\n",
    "}\n",
    "\n",
    "if(sosu){\n",
    "    System.out.println(\"Yes\");\n",
    "}else{\n",
    "    System.out.println(\"No\");\n",
    "}"
   ]
  }
 ],
 "metadata": {
  "kernelspec": {
   "display_name": "Java",
   "language": "java",
   "name": "java"
  },
  "language_info": {
   "codemirror_mode": "java",
   "file_extension": ".jshell",
   "mimetype": "text/x-java-source",
   "name": "Java",
   "pygments_lexer": "java",
   "version": "11.0.6+10-LTS"
  }
 },
 "nbformat": 4,
 "nbformat_minor": 4
}
