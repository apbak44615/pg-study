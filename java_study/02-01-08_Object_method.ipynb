{
 "cells": [
  {
   "cell_type": "markdown",
   "metadata": {},
   "source": [
    "# Objectクラスのメソッド\n",
    "JavaではObjectというクラスが存在します。\n",
    "このObjectクラスは全てのクラスの親クラスです。\n",
    "\n",
    "どういうことかというと、[02-01-01_Class.ipynb](./02-01-01_Class.ipynb)や[02-01-02_Extends.ipynb](./02-01-02_Extends.ipynb)でクラスを生成したと思いますが、<br>extends Objectと記述せずとも、実は全てのクラスはObjectクラスを継承しています。\n",
    "\n",
    "\n",
    "つまり、すべてのクラスはObjectクラスを継承しているのでObjectクラスで定義されているメソッドをすべてのクラスで使用することができます。"
   ]
  },
  {
   "cell_type": "markdown",
   "metadata": {},
   "source": [
    "#### この頁ではObjectクラスのメソッドとその使い方を紹介します。\n",
    "複数スレッドを用いるメソッドは割愛します。\n",
    "\n",
    "- [clone()](#clone())<br>\n",
    "このオブジェクトのコピーを作成して、返します。\n",
    "\n",
    "\n",
    "- [equals(Object obj)](#equals(Object-obj))<br>\n",
    "このオブジェクトと他のオブジェクトが等しいかどうかを示します。\n",
    "\n",
    "\n",
    "- [finalize()](#finalize())<br>\n",
    "このオブジェクトへの参照はもうないとガベージコレクションによって判断されたときに、ガベージコレクタによって呼び出されます。\n",
    "\n",
    "\n",
    "- [getClass()](#getClass())<br>\n",
    "この Object の実行時クラスを返します。\n",
    "\n",
    "\n",
    "- [hashCode()](#hashCode())<br>\n",
    "オブジェクトのハッシュコード値を返します。\n",
    "\n",
    "\n",
    "- [toString()](#toString())<br>\n",
    "オブジェクトの文字列表現を返します。\n",
    "\n",
    "\n",
    "- notify()<br>\n",
    "このオブジェクトのモニターで待機中のスレッドを 1 つ再開します。\n",
    "\n",
    "\n",
    "- notifyAll()<br>\n",
    "このオブジェクトのモニターで待機中のすべてのスレッドを再開します。\n",
    "\n",
    "\n",
    "- wait()<br>\n",
    "別のスレッドがこのオブジェクトの notify() メソッドまたは notifyAll() メソッドを呼び出すまで、現在のスレッドを待機させます。\n",
    "\n",
    "\n",
    "- wait(long timeout)<br>\n",
    "別のスレッドがこのオブジェクトの notify() メソッドまたは notifyAll() メソッドを呼び出すか、指定された時間が経過するまで、現在のスレッドを待機させます。\n",
    "\n",
    "\n",
    "- wait(long timeout, int nanos)<br>\n",
    "別のスレッドがこのオブジェクトの notify() メソッドまたは notifyAll() メソッドを呼び出すか、ほかのスレッドが現在のスレッドに割り込みをかけたり、指定された量の実時間が経過するまで、現在のスレッドを待機させます。"
   ]
  },
  {
   "cell_type": "markdown",
   "metadata": {},
   "source": [
    "## clone()\n",
    "このオブジェクトのコピーを作成して、返します。\n",
    "\n",
    "例えば、objectAを作成し、全く同じオブジェクトの複製を作る場合には以下のように使用します。"
   ]
  },
  {
   "cell_type": "code",
   "execution_count": null,
   "metadata": {},
   "outputs": [],
   "source": [
    "class Human implements Cloneable{\n",
    "    private String name;\n",
    "    public void setName( String name ){\n",
    "        this.name = name;\n",
    "    }\n",
    "    \n",
    "    public String getName(){\n",
    "        return this.name;\n",
    "    }\n",
    "    \n",
    "    public Human execClone(){\n",
    "        Human a = null;\n",
    "        try{\n",
    "            // super.clone()はObject型を返すのでHuman型にキャスト\n",
    "            a = (Human)super.clone();\n",
    "        }catch(CloneNotSupportedException e){\n",
    "            e.printStackTrace();\n",
    "        }\n",
    "        return a;\n",
    "    }\n",
    "}\n",
    "\n",
    "Human objectA = new Human();\n",
    "objectA.setName(\"objectAのnameにセットされた文字列\");\n",
    "Human objectB = objectA.execClone();\n",
    "\n",
    "// objectAをコピーしたのでobjectAにセットしたnameが表示される\n",
    "System.out.println(objectB.getName());"
   ]
  },
  {
   "cell_type": "markdown",
   "metadata": {},
   "source": [
    "cloneメソッドを使う際はCloneableというインターフェイスを実装する必要があります。<br>\n",
    "また、Objectクラスではcloneメソッドはprotectedで宣言されているため、サブクラス内でsuper.clone()と明示的に呼び出す必要があります。"
   ]
  },
  {
   "cell_type": "markdown",
   "metadata": {},
   "source": [
    "## equals(Object obj)\n",
    "\n",
    "このオブジェクトと他のオブジェクトが等しいかどうかを示します。"
   ]
  },
  {
   "cell_type": "code",
   "execution_count": null,
   "metadata": {},
   "outputs": [],
   "source": [
    "Human objectC = objectA;\n",
    "Human objectD = new Human();\n",
    "\n",
    "// ObjectBはObjectAの複製なので別オブジェクト\n",
    "System.out.println(objectA.equals(objectB));\n",
    "\n",
    "// ObjectCはObjectAを代入しているので同じオブジェクト\n",
    "System.out.println(objectA.equals(objectC));\n",
    "\n",
    "// ObjectDは新たに生成したものなのでもちろん別オブジェクト\n",
    "System.out.println(objectA.equals(objectD));"
   ]
  },
  {
   "cell_type": "markdown",
   "metadata": {},
   "source": [
    "以上の結果からわかるように、cloneメソッドで複製したオブジェクトは別インスタンスになるので、equalsで比較した際にはfalseになります。"
   ]
  },
  {
   "cell_type": "markdown",
   "metadata": {},
   "source": [
    "## finalize()\n",
    "このオブジェクトへの参照はもうないとガベージコレクションによって判断されたときに、ガベージコレクタによって呼び出されます。"
   ]
  },
  {
   "cell_type": "code",
   "execution_count": null,
   "metadata": {},
   "outputs": [],
   "source": [
    "class TestFinalize{\n",
    "    \n",
    "    @Override\n",
    "    public void finalize(){\n",
    "        System.out.println(\"Method finalize execute!!\");\n",
    "    }\n",
    "}"
   ]
  },
  {
   "cell_type": "code",
   "execution_count": null,
   "metadata": {},
   "outputs": [],
   "source": [
    "TestFinalize test = new TestFinalize();\n",
    "\n",
    "// 参照をなくす\n",
    "test = null;\n",
    "// 明示的にガベージコレクションを起こす\n",
    "System.gc();"
   ]
  },
  {
   "cell_type": "markdown",
   "metadata": {},
   "source": [
    "明示的にガベージコレクションを発生させた場合に、finalize()メソッドが実行されたのがわかったと思います。"
   ]
  },
  {
   "cell_type": "markdown",
   "metadata": {},
   "source": [
    "## getClass()\n",
    "この Object の実行時クラスを返します。"
   ]
  },
  {
   "cell_type": "code",
   "execution_count": null,
   "metadata": {},
   "outputs": [],
   "source": [
    "Human objectA = new Human();\n",
    "System.out.println(objectA.getClass());\n",
    "\n",
    "Human objectB = new Human();\n",
    "System.out.println(objectB.getClass());"
   ]
  },
  {
   "cell_type": "markdown",
   "metadata": {},
   "source": [
    "上記の様にクラスを返します。"
   ]
  },
  {
   "cell_type": "markdown",
   "metadata": {},
   "source": [
    "## hashCode()\n",
    "オブジェクトのハッシュコード値を返します。"
   ]
  },
  {
   "cell_type": "code",
   "execution_count": null,
   "metadata": {},
   "outputs": [],
   "source": [
    "Human objectA = new Human();\n",
    "System.out.println(objectA.hashCode());\n",
    "\n",
    "Human objectB = new Human();\n",
    "System.out.println(objectB.hashCode());"
   ]
  },
  {
   "cell_type": "markdown",
   "metadata": {},
   "source": [
    "上記のように、オブジェクト自身のハッシュコードを返します。<br>\n",
    "ハッシュコードとは被りなく一意に決まる値です。"
   ]
  },
  {
   "cell_type": "markdown",
   "metadata": {},
   "source": [
    "## toString()\n",
    "オブジェクトの文字列表現を返します。"
   ]
  },
  {
   "cell_type": "code",
   "execution_count": null,
   "metadata": {},
   "outputs": [],
   "source": [
    "Human objectA = new Human();\n",
    "System.out.println(objectA.toString());\n",
    "\n",
    "Human objectB = new Human();\n",
    "System.out.println(objectB.toString());\n",
    "\n",
    "String stringTest = \"Test\";\n",
    "System.out.println(stringTest.toString());\n",
    "String stringTest2 = new String(\"Test\");\n",
    "System.out.println(stringTest2.toString());"
   ]
  },
  {
   "cell_type": "markdown",
   "metadata": {},
   "source": [
    "そのオブジェクトを文字列で返します。\n",
    "上記を見て分かる通り、String型の場合は値が返されます。"
   ]
  }
 ],
 "metadata": {
  "kernelspec": {
   "display_name": "Java",
   "language": "java",
   "name": "java"
  },
  "language_info": {
   "codemirror_mode": "java",
   "file_extension": ".jshell",
   "mimetype": "text/x-java-source",
   "name": "Java",
   "pygments_lexer": "java",
   "version": "11.0.6+10-LTS"
  }
 },
 "nbformat": 4,
 "nbformat_minor": 4
}
